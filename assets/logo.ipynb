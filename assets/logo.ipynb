{
 "cells": [
  {
   "cell_type": "code",
   "execution_count": 179,
   "id": "48057a50-e376-4923-99ed-ff0bcc916062",
   "metadata": {},
   "outputs": [
    {
     "name": "stderr",
     "output_type": "stream",
     "text": [
      "\u001b[32m\u001b[1m  Activating\u001b[22m\u001b[39m project at `~/Documents/GitHub/Vizagrams.jl`\n"
     ]
    }
   ],
   "source": [
    "using Pkg\n",
    "Pkg.activate(\"../.\")\n",
    "using TestEnv\n",
    "TestEnv.activate()\n",
    "using Revise\n",
    "using Vizagrams\n",
    "using ColorSchemes\n",
    "using Colors\n",
    "# using CoordinateTransformations"
   ]
  },
  {
   "cell_type": "code",
   "execution_count": 67,
   "id": "53ca9f5a-b24e-40f1-b8bc-53e06900b86b",
   "metadata": {},
   "outputs": [],
   "source": [
    "vizagrams = S(:fontWeight=>\"bold\")TextMark(text=\"Vizagrams\",fontfamily=\"Trebuchet MS\",anchor=:se)\n",
    "jl   = S(:fontWeight=>\"bold\")TextMark(text=\".jl\",anchor=:sw,fontfamily=\"Trebuchet MS\",fontsize=5)\n",
    "\n",
    "# name = (vizagrams → (T(-13,0),jl));\n",
    "name = vizagrams;"
   ]
  },
  {
   "cell_type": "code",
   "execution_count": 167,
   "id": "91674e2b-c620-45be-9250-4a08bed8b46e",
   "metadata": {},
   "outputs": [
    {
     "data": {
      "text/html": [
       "<svg height=\"168\" viewBox=\"-58.285714285714285 -386.2857142857143 452.57142857142856 452.57142857142856\" width=\"168.0\" preserveAspectRatio=\"xMidYMid meet\" xmlns=\"http://www.w3.org/2000/svg\" version=\"1.1\"><rect height=\"384.0\" x=\"-24.0\" style=\"vector-effect: none; fill: #f5f5f5; \" width=\"384.0\" transform=\"scale(1,-1)\" y=\"-32.0\" /><polyline points=\"16.0 16.0 120.0 88.0 160.0 64.0 312.0 184.0 \" style=\"vector-effect: none; stroke: #6A82E0; stroke-linejoin: round; fill: none; stroke-width: 40; stroke-linecap: round; \" transform=\"scale(1,-1)\" /><circle cy=\"251.77708763999664\" style=\"vector-effect: none; stroke: #f5f5f5; fill: #69AD57; stroke-width: 15; \" r=\"48.00000000000003\" transform=\"scale(1,-1)\" cx=\"237.61825614671827\" /><path style=\"vector-effect: none; stroke: #399746; fill: #69AD57; stroke-width: 10; fill-opacity: 0; stroke-linecap: round; \" transform=\"scale(1,-1)\" d=\"M231.44503783280254 226.43873379353033 Q 260.00825770257234 222.753293430265, 263.6936980658377 251.31651330003484 \" /><circle cy=\"206.68982164912984\" style=\"vector-effect: none; stroke: #f5f5f5; fill: #D8645F; stroke-width: 15; \" r=\"48.000000000000014\" transform=\"scale(1,-1)\" cx=\"136.3505986964305\" /><path style=\"vector-effect: none; stroke: #CA3C32; fill: #D8645F; stroke-width: 10; fill-opacity: 0; stroke-linecap: round; \" transform=\"scale(1,-1)\" d=\"M130.17738038251477 181.3514678026635 Q 158.7406002522846 177.6660274393982, 162.42604061554988 206.22924730916804 \" /><circle cy=\"141.53309071087352\" style=\"vector-effect: none; stroke: #f5f5f5; fill: #AB7AC1; stroke-width: 15; \" r=\"47.99999999999996\" transform=\"scale(1,-1)\" cx=\"226.0311451568512\" /><path style=\"vector-effect: none; stroke: #9259A3; fill: #AB7AC1; stroke-width: 10; fill-opacity: 0; stroke-linecap: round; \" transform=\"scale(1,-1)\" d=\"M219.85792684293543 116.19473686440719 Q 248.4211467127053 112.50929650114189, 252.1065870759706 141.07251637091173 \" /><polyline points=\"0.0 0.0 336.0 0.0 \" style=\"vector-effect: none; stroke: black; fill: none; stroke-width: 10; stroke-linecap: round; \" transform=\"scale(1,-1)\" /><polyline points=\"80.0 0.0 80.0 25.6 \" style=\"vector-effect: none; stroke: black; fill: none; stroke-width: 10; stroke-linecap: round; \" transform=\"scale(1,-1)\" /><polyline points=\"160.0 0.0 160.0 25.6 \" style=\"vector-effect: none; stroke: black; fill: none; stroke-width: 10; stroke-linecap: round; \" transform=\"scale(1,-1)\" /><polyline points=\"240.0 0.0 240.0 25.6 \" style=\"vector-effect: none; stroke: black; fill: none; stroke-width: 10; stroke-linecap: round; \" transform=\"scale(1,-1)\" /><polyline points=\"0.0 0.0 0.0 320.0 \" style=\"vector-effect: none; stroke: black; fill: none; stroke-width: 10; stroke-linecap: round; \" transform=\"scale(1,-1)\" /><polyline points=\"4.898587196589413e-15 80.0 25.600000000000005 80.0 \" style=\"vector-effect: none; stroke: black; fill: none; stroke-width: 10; stroke-linecap: round; \" transform=\"scale(1,-1)\" /><polyline points=\"9.797174393178826e-15 160.0 25.60000000000001 160.0 \" style=\"vector-effect: none; stroke: black; fill: none; stroke-width: 10; stroke-linecap: round; \" transform=\"scale(1,-1)\" /><polyline points=\"1.4695761589768237e-14 240.0 25.600000000000016 240.0 \" style=\"vector-effect: none; stroke: black; fill: none; stroke-width: 10; stroke-linecap: round; \" transform=\"scale(1,-1)\" /></svg>"
      ],
      "text/plain": [
       "<svg height=\"168\" viewBox=\"-58.285714285714285 -386.2857142857143 452.57142857142856 452.57142857142856\" width=\"168.0\" preserveAspectRatio=\"xMidYMid meet\" xmlns=\"http://www.w3.org/2000/svg\" version=\"1.1\"><rect height=\"384.0\" x=\"-24.0\" style=\"vector-effect: none; fill: #f5f5f5; \" width=\"384.0\" transform=\"scale(1,-1)\" y=\"-32.0\" /><polyline points=\"16.0 16.0 120.0 88.0 160.0 64.0 312.0 184.0 \" style=\"vector-effect: none; stroke: #6A82E0; stroke-linejoin: round; fill: none; stroke-width: 40; stroke-linecap: round; \" transform=\"scale(1,-1)\" /><circle cy=\"251.77708763999664\" style=\"vector-effect: none; stroke: #f5f5f5; fill: #69AD57; stroke-width: 15; \" r=\"48.00000000000003\" transform=\"scale(1,-1)\" cx=\"237.61825614671827\" /><path style=\"vector-effect: none; stroke: #399746; fill: #69AD57; stroke-width: 10; fill-opacity: 0; stroke-linecap: round; \" transform=\"scale(1,-1)\" d=\"M231.44503783280254 226.43873379353033 Q 260.00825770257234 222.753293430265, 263.6936980658377 251.31651330003484 \" /><circle cy=\"206.68982164912984\" style=\"vector-effect: none; stroke: #f5f5f5; fill: #D8645F; stroke-width: 15; \" r=\"48.000000000000014\" transform=\"scale(1,-1)\" cx=\"136.3505986964305\" /><path style=\"vector-effect: none; stroke: #CA3C32; fill: #D8645F; stroke-width: 10; fill-opacity: 0; stroke-linecap: round; \" transform=\"scale(1,-1)\" d=\"M130.17738038251477 181.3514678026635 Q 158.7406002522846 177.6660274393982, 162.42604061554988 206.22924730916804 \" /><circle cy=\"141.53309071087352\" style=\"vector-effect: none; stroke: #f5f5f5; fill: #AB7AC1; stroke-width: 15; \" r=\"47.99999999999996\" transform=\"scale(1,-1)\" cx=\"226.0311451568512\" /><path style=\"vector-effect: none; stroke: #9259A3; fill: #AB7AC1; stroke-width: 10; fill-opacity: 0; stroke-linecap: round; \" transform=\"scale(1,-1)\" d=\"M219.85792684293543 116.19473686440719 Q 248.4211467127053 112.50929650114189, 252.1065870759706 141.07251637091173 \" /><polyline points=\"0.0 0.0 336.0 0.0 \" style=\"vector-effect: none; stroke: black; fill: none; stroke-width: 10; stroke-linecap: round; \" transform=\"scale(1,-1)\" /><polyline points=\"80.0 0.0 80.0 25.6 \" style=\"vector-effect: none; stroke: black; fill: none; stroke-width: 10; stroke-linecap: round; \" transform=\"scale(1,-1)\" /><polyline points=\"160.0 0.0 160.0 25.6 \" style=\"vector-effect: none; stroke: black; fill: none; stroke-width: 10; stroke-linecap: round; \" transform=\"scale(1,-1)\" /><polyline points=\"240.0 0.0 240.0 25.6 \" style=\"vector-effect: none; stroke: black; fill: none; stroke-width: 10; stroke-linecap: round; \" transform=\"scale(1,-1)\" /><polyline points=\"0.0 0.0 0.0 320.0 \" style=\"vector-effect: none; stroke: black; fill: none; stroke-width: 10; stroke-linecap: round; \" transform=\"scale(1,-1)\" /><polyline points=\"4.898587196589413e-15 80.0 25.600000000000005 80.0 \" style=\"vector-effect: none; stroke: black; fill: none; stroke-width: 10; stroke-linecap: round; \" transform=\"scale(1,-1)\" /><polyline points=\"9.797174393178826e-15 160.0 25.60000000000001 160.0 \" style=\"vector-effect: none; stroke: black; fill: none; stroke-width: 10; stroke-linecap: round; \" transform=\"scale(1,-1)\" /><polyline points=\"1.4695761589768237e-14 240.0 25.600000000000016 240.0 \" style=\"vector-effect: none; stroke: black; fill: none; stroke-width: 10; stroke-linecap: round; \" transform=\"scale(1,-1)\" /></svg>"
      ]
     },
     "execution_count": 167,
     "metadata": {},
     "output_type": "execute_result"
    }
   ],
   "source": [
    "n=3\n",
    "\n",
    "grey = \"#f5f5f5\"\n",
    "pts = Vizagrams.ϕ(RegularPolygon(n=n)).pts\n",
    "bluej = colourschemes[:julialegacy][1]\n",
    "colorsl = colourschemes[:julialegacy][[3,2,4]]\n",
    "colorsd = colourschemes[:julia][[3,2,4]]\n",
    "\n",
    "curve = T(-0.1,0.1)T(0,-1.0)QBezier([[0,0.],[1.,1]],[[1.0,0.0]])\n",
    "curve = S(:strokeLinecap=>\"round\",:fillOpacity=>0,:strokeWidth=>10)curve\n",
    "dot = U(1.5)*(S(:strokeWidth=>15,:stroke=>grey)Circle(r=0.5) + R(0.5)U(0.3)curve)\n",
    "\n",
    "dots = U(0.8)mapreduce(x->S(:fill=>x[1],:stroke=>x[2])T(x[3]...)dot,+,zip(colorsl,colorsd,pts))\n",
    "line = S(:stroke=>bluej,:strokeLinecap=>\"round\",:strokeLinejoin=>\"round\",:strokeWidth=>40)*Line([[0.2,0.2],[1.5,1.1],[2.0,0.8],[3.9,2.3]])\n",
    "d = line + T(2.5,2.5)R(-π/5)dots\n",
    "\n",
    "xaxis = Line([[0,0],[1.05,0]])\n",
    "xtick = Line([[0,0],[0,0.08]])\n",
    "\n",
    "t = 0.25\n",
    "xticks = S(:strokeWidth=>10)*(T(t,0) * xtick + T(t*2,0) * xtick+ T(t*3,0) * xtick)\n",
    "yticks = M(π/4)xticks\n",
    "\n",
    "yaxis = Line([[0,0],[0,1]])\n",
    "\n",
    "axes = S(:strokeWidth=>10,:strokeLinecap=>\"round\")*(xaxis+xticks + yaxis+yticks)\n",
    "# axes = T(1,1)R(π) * axes + axes\n",
    "\n",
    "d = line + T(2.5,2.5)R(-π/5)dots + U(4.0)*(axes)\n",
    "h = 4.8\n",
    "w = 4.8\n",
    "s = S(:fill=>grey)Rectangle(h=h,w=w)\n",
    "d = amiddle(d,s)*acenter(d,s)*s + d\n",
    "# d = T(w/2,h/2)*s + d\n",
    "\n",
    "logo = U(80)S(:vectorEffect=>\"none\")d\n",
    "draw(logo,height=168,pad=30)"
   ]
  },
  {
   "cell_type": "code",
   "execution_count": 168,
   "id": "ae9313dd-d12a-44d8-b25f-34bef06fff8a",
   "metadata": {},
   "outputs": [
    {
     "data": {
      "text/plain": [
       "3272"
      ]
     },
     "execution_count": 168,
     "metadata": {},
     "output_type": "execute_result"
    }
   ],
   "source": [
    "savesvg(logo,filename=\"logo.svg\",height=300,pad=0)"
   ]
  },
  {
   "cell_type": "code",
   "execution_count": 172,
   "id": "3a1671e1-dd7b-44f5-bf95-343dcc0ac089",
   "metadata": {},
   "outputs": [
    {
     "data": {
      "text/html": [
       "<svg height=\"168\" viewBox=\"-28.57142857142857 -348.57142857142856 393.1428571428571 377.1428571428571\" width=\"176.4\" preserveAspectRatio=\"xMidYMid meet\" xmlns=\"http://www.w3.org/2000/svg\" version=\"1.1\"><polyline points=\"16.0 16.0 120.0 88.0 160.0 64.0 312.0 184.0 \" style=\"vector-effect: none; stroke: #6A82E0; stroke-linejoin: round; fill: none; stroke-width: 40; stroke-linecap: round; \" transform=\"scale(1,-1)\" /><circle cy=\"251.77708763999664\" style=\"vector-effect: none; stroke: white; fill: #69AD57; stroke-width: 15; \" r=\"48.00000000000003\" transform=\"scale(1,-1)\" cx=\"237.61825614671827\" /><path style=\"vector-effect: none; stroke: #399746; fill: #69AD57; stroke-width: 10; fill-opacity: 0; stroke-linecap: round; \" transform=\"scale(1,-1)\" d=\"M231.44503783280254 226.43873379353033 Q 260.00825770257234 222.753293430265, 263.6936980658377 251.31651330003484 \" /><circle cy=\"206.68982164912984\" style=\"vector-effect: none; stroke: white; fill: #D8645F; stroke-width: 15; \" r=\"48.000000000000014\" transform=\"scale(1,-1)\" cx=\"136.3505986964305\" /><path style=\"vector-effect: none; stroke: #CA3C32; fill: #D8645F; stroke-width: 10; fill-opacity: 0; stroke-linecap: round; \" transform=\"scale(1,-1)\" d=\"M130.17738038251477 181.3514678026635 Q 158.7406002522846 177.6660274393982, 162.42604061554988 206.22924730916804 \" /><circle cy=\"141.53309071087352\" style=\"vector-effect: none; stroke: white; fill: #AB7AC1; stroke-width: 15; \" r=\"47.99999999999996\" transform=\"scale(1,-1)\" cx=\"226.0311451568512\" /><path style=\"vector-effect: none; stroke: #9259A3; fill: #AB7AC1; stroke-width: 10; fill-opacity: 0; stroke-linecap: round; \" transform=\"scale(1,-1)\" d=\"M219.85792684293543 116.19473686440719 Q 248.4211467127053 112.50929650114189, 252.1065870759706 141.07251637091173 \" /><polyline points=\"0.0 0.0 336.0 0.0 \" style=\"vector-effect: none; stroke: black; fill: none; stroke-width: 10; stroke-linecap: round; \" transform=\"scale(1,-1)\" /><polyline points=\"80.0 0.0 80.0 25.6 \" style=\"vector-effect: none; stroke: black; fill: none; stroke-width: 10; stroke-linecap: round; \" transform=\"scale(1,-1)\" /><polyline points=\"160.0 0.0 160.0 25.6 \" style=\"vector-effect: none; stroke: black; fill: none; stroke-width: 10; stroke-linecap: round; \" transform=\"scale(1,-1)\" /><polyline points=\"240.0 0.0 240.0 25.6 \" style=\"vector-effect: none; stroke: black; fill: none; stroke-width: 10; stroke-linecap: round; \" transform=\"scale(1,-1)\" /><polyline points=\"0.0 0.0 0.0 320.0 \" style=\"vector-effect: none; stroke: black; fill: none; stroke-width: 10; stroke-linecap: round; \" transform=\"scale(1,-1)\" /><polyline points=\"4.898587196589413e-15 80.0 25.600000000000005 80.0 \" style=\"vector-effect: none; stroke: black; fill: none; stroke-width: 10; stroke-linecap: round; \" transform=\"scale(1,-1)\" /><polyline points=\"9.797174393178826e-15 160.0 25.60000000000001 160.0 \" style=\"vector-effect: none; stroke: black; fill: none; stroke-width: 10; stroke-linecap: round; \" transform=\"scale(1,-1)\" /><polyline points=\"1.4695761589768237e-14 240.0 25.600000000000016 240.0 \" style=\"vector-effect: none; stroke: black; fill: none; stroke-width: 10; stroke-linecap: round; \" transform=\"scale(1,-1)\" /></svg>"
      ],
      "text/plain": [
       "<svg height=\"168\" viewBox=\"-28.57142857142857 -348.57142857142856 393.1428571428571 377.1428571428571\" width=\"176.4\" preserveAspectRatio=\"xMidYMid meet\" xmlns=\"http://www.w3.org/2000/svg\" version=\"1.1\"><polyline points=\"16.0 16.0 120.0 88.0 160.0 64.0 312.0 184.0 \" style=\"vector-effect: none; stroke: #6A82E0; stroke-linejoin: round; fill: none; stroke-width: 40; stroke-linecap: round; \" transform=\"scale(1,-1)\" /><circle cy=\"251.77708763999664\" style=\"vector-effect: none; stroke: white; fill: #69AD57; stroke-width: 15; \" r=\"48.00000000000003\" transform=\"scale(1,-1)\" cx=\"237.61825614671827\" /><path style=\"vector-effect: none; stroke: #399746; fill: #69AD57; stroke-width: 10; fill-opacity: 0; stroke-linecap: round; \" transform=\"scale(1,-1)\" d=\"M231.44503783280254 226.43873379353033 Q 260.00825770257234 222.753293430265, 263.6936980658377 251.31651330003484 \" /><circle cy=\"206.68982164912984\" style=\"vector-effect: none; stroke: white; fill: #D8645F; stroke-width: 15; \" r=\"48.000000000000014\" transform=\"scale(1,-1)\" cx=\"136.3505986964305\" /><path style=\"vector-effect: none; stroke: #CA3C32; fill: #D8645F; stroke-width: 10; fill-opacity: 0; stroke-linecap: round; \" transform=\"scale(1,-1)\" d=\"M130.17738038251477 181.3514678026635 Q 158.7406002522846 177.6660274393982, 162.42604061554988 206.22924730916804 \" /><circle cy=\"141.53309071087352\" style=\"vector-effect: none; stroke: white; fill: #AB7AC1; stroke-width: 15; \" r=\"47.99999999999996\" transform=\"scale(1,-1)\" cx=\"226.0311451568512\" /><path style=\"vector-effect: none; stroke: #9259A3; fill: #AB7AC1; stroke-width: 10; fill-opacity: 0; stroke-linecap: round; \" transform=\"scale(1,-1)\" d=\"M219.85792684293543 116.19473686440719 Q 248.4211467127053 112.50929650114189, 252.1065870759706 141.07251637091173 \" /><polyline points=\"0.0 0.0 336.0 0.0 \" style=\"vector-effect: none; stroke: black; fill: none; stroke-width: 10; stroke-linecap: round; \" transform=\"scale(1,-1)\" /><polyline points=\"80.0 0.0 80.0 25.6 \" style=\"vector-effect: none; stroke: black; fill: none; stroke-width: 10; stroke-linecap: round; \" transform=\"scale(1,-1)\" /><polyline points=\"160.0 0.0 160.0 25.6 \" style=\"vector-effect: none; stroke: black; fill: none; stroke-width: 10; stroke-linecap: round; \" transform=\"scale(1,-1)\" /><polyline points=\"240.0 0.0 240.0 25.6 \" style=\"vector-effect: none; stroke: black; fill: none; stroke-width: 10; stroke-linecap: round; \" transform=\"scale(1,-1)\" /><polyline points=\"0.0 0.0 0.0 320.0 \" style=\"vector-effect: none; stroke: black; fill: none; stroke-width: 10; stroke-linecap: round; \" transform=\"scale(1,-1)\" /><polyline points=\"4.898587196589413e-15 80.0 25.600000000000005 80.0 \" style=\"vector-effect: none; stroke: black; fill: none; stroke-width: 10; stroke-linecap: round; \" transform=\"scale(1,-1)\" /><polyline points=\"9.797174393178826e-15 160.0 25.60000000000001 160.0 \" style=\"vector-effect: none; stroke: black; fill: none; stroke-width: 10; stroke-linecap: round; \" transform=\"scale(1,-1)\" /><polyline points=\"1.4695761589768237e-14 240.0 25.600000000000016 240.0 \" style=\"vector-effect: none; stroke: black; fill: none; stroke-width: 10; stroke-linecap: round; \" transform=\"scale(1,-1)\" /></svg>"
      ]
     },
     "execution_count": 172,
     "metadata": {},
     "output_type": "execute_result"
    }
   ],
   "source": [
    "n=3\n",
    "\n",
    "grey = \"#f5f5f5\"\n",
    "pts = Vizagrams.ϕ(RegularPolygon(n=n)).pts\n",
    "bluej = colourschemes[:julialegacy][1]\n",
    "colorsl = colourschemes[:julialegacy][[3,2,4]]\n",
    "colorsd = colourschemes[:julia][[3,2,4]]\n",
    "\n",
    "curve = T(-0.1,0.1)T(0,-1.0)QBezier([[0,0.],[1.,1]],[[1.0,0.0]])\n",
    "curve = S(:strokeLinecap=>\"round\",:fillOpacity=>0,:strokeWidth=>10)curve\n",
    "dot = U(1.5)*(S(:strokeWidth=>15,:stroke=>:white)Circle(r=0.5) + R(0.5)U(0.3)curve)\n",
    "\n",
    "dots = U(0.8)mapreduce(x->S(:fill=>x[1],:stroke=>x[2])T(x[3]...)dot,+,zip(colorsl,colorsd,pts))\n",
    "line = S(:stroke=>bluej,:strokeLinecap=>\"round\",:strokeLinejoin=>\"round\",:strokeWidth=>40)*Line([[0.2,0.2],[1.5,1.1],[2.0,0.8],[3.9,2.3]])\n",
    "d = line + T(2.5,2.5)R(-π/5)dots\n",
    "\n",
    "xaxis = Line([[0,0],[1.05,0]])\n",
    "xtick = Line([[0,0],[0,0.08]])\n",
    "\n",
    "t = 0.25\n",
    "xticks = S(:strokeWidth=>10)*(T(t,0) * xtick + T(t*2,0) * xtick+ T(t*3,0) * xtick)\n",
    "yticks = M(π/4)xticks\n",
    "\n",
    "yaxis = Line([[0,0],[0,1]])\n",
    "\n",
    "axes = S(:strokeWidth=>10,:strokeLinecap=>\"round\")*(xaxis+xticks + yaxis+yticks)\n",
    "# axes = T(1,1)R(π) * axes + axes\n",
    "\n",
    "d = line + T(2.5,2.5)R(-π/5)dots + U(4.0)*(axes)\n",
    "\n",
    "logo = U(80)S(:vectorEffect=>\"none\")d\n",
    "draw(logo,height=168,pad=30)"
   ]
  },
  {
   "cell_type": "code",
   "execution_count": 177,
   "id": "17f17f13-d442-4bda-a8d1-cb839883f617",
   "metadata": {},
   "outputs": [
    {
     "data": {
      "text/html": [
       "<svg height=\"500\" viewBox=\"-19.97812499999999 -336.525 372.503125 446.175\" width=\"410.83585476550684\" preserveAspectRatio=\"xMidYMid meet\" xmlns=\"http://www.w3.org/2000/svg\" version=\"1.1\"><polyline points=\"16.0 16.0 120.0 88.0 160.0 64.0 312.0 184.0 \" style=\"vector-effect: none; stroke: #6A82E0; stroke-linejoin: round; fill: none; stroke-width: 40; stroke-linecap: round; \" transform=\"scale(1,-1)\" /><circle cy=\"251.77708763999664\" style=\"vector-effect: none; stroke: white; fill: #69AD57; stroke-width: 15; \" r=\"48.00000000000003\" transform=\"scale(1,-1)\" cx=\"237.61825614671827\" /><path style=\"vector-effect: none; stroke: #399746; fill: #69AD57; stroke-width: 10; fill-opacity: 0; stroke-linecap: round; \" transform=\"scale(1,-1)\" d=\"M231.44503783280254 226.43873379353033 Q 260.00825770257234 222.753293430265, 263.6936980658377 251.31651330003484 \" /><circle cy=\"206.68982164912984\" style=\"vector-effect: none; stroke: white; fill: #D8645F; stroke-width: 15; \" r=\"48.000000000000014\" transform=\"scale(1,-1)\" cx=\"136.3505986964305\" /><path style=\"vector-effect: none; stroke: #CA3C32; fill: #D8645F; stroke-width: 10; fill-opacity: 0; stroke-linecap: round; \" transform=\"scale(1,-1)\" d=\"M130.17738038251477 181.3514678026635 Q 158.7406002522846 177.6660274393982, 162.42604061554988 206.22924730916804 \" /><circle cy=\"141.53309071087352\" style=\"vector-effect: none; stroke: white; fill: #AB7AC1; stroke-width: 15; \" r=\"47.99999999999996\" transform=\"scale(1,-1)\" cx=\"226.0311451568512\" /><path style=\"vector-effect: none; stroke: #9259A3; fill: #AB7AC1; stroke-width: 10; fill-opacity: 0; stroke-linecap: round; \" transform=\"scale(1,-1)\" d=\"M219.85792684293543 116.19473686440719 Q 248.4211467127053 112.50929650114189, 252.1065870759706 141.07251637091173 \" /><polyline points=\"0.0 0.0 336.0 0.0 \" style=\"vector-effect: none; stroke: black; fill: none; stroke-width: 10; stroke-linecap: round; \" transform=\"scale(1,-1)\" /><polyline points=\"80.0 0.0 80.0 25.6 \" style=\"vector-effect: none; stroke: black; fill: none; stroke-width: 10; stroke-linecap: round; \" transform=\"scale(1,-1)\" /><polyline points=\"160.0 0.0 160.0 25.6 \" style=\"vector-effect: none; stroke: black; fill: none; stroke-width: 10; stroke-linecap: round; \" transform=\"scale(1,-1)\" /><polyline points=\"240.0 0.0 240.0 25.6 \" style=\"vector-effect: none; stroke: black; fill: none; stroke-width: 10; stroke-linecap: round; \" transform=\"scale(1,-1)\" /><polyline points=\"0.0 0.0 0.0 320.0 \" style=\"vector-effect: none; stroke: black; fill: none; stroke-width: 10; stroke-linecap: round; \" transform=\"scale(1,-1)\" /><polyline points=\"4.898587196589413e-15 80.0 25.600000000000005 80.0 \" style=\"vector-effect: none; stroke: black; fill: none; stroke-width: 10; stroke-linecap: round; \" transform=\"scale(1,-1)\" /><polyline points=\"9.797174393178826e-15 160.0 25.60000000000001 160.0 \" style=\"vector-effect: none; stroke: black; fill: none; stroke-width: 10; stroke-linecap: round; \" transform=\"scale(1,-1)\" /><polyline points=\"1.4695761589768237e-14 240.0 25.600000000000016 240.0 \" style=\"vector-effect: none; stroke: black; fill: none; stroke-width: 10; stroke-linecap: round; \" transform=\"scale(1,-1)\" /><text x=\"-3.927083333333327\" style=\"font-family: Trebuchet MS; text-anchor: start; vector-effect: none; font-size: 56.0pt; font-weight: bold; \" transform=\"translate(0 155.625) rotate(-0.0, -3.927083333333327, -77.8125)\" y=\"-77.8125\">Vizagrams</text></svg>"
      ],
      "text/plain": [
       "<svg height=\"500\" viewBox=\"-19.97812499999999 -336.525 372.503125 446.175\" width=\"410.83585476550684\" preserveAspectRatio=\"xMidYMid meet\" xmlns=\"http://www.w3.org/2000/svg\" version=\"1.1\"><polyline points=\"16.0 16.0 120.0 88.0 160.0 64.0 312.0 184.0 \" style=\"vector-effect: none; stroke: #6A82E0; stroke-linejoin: round; fill: none; stroke-width: 40; stroke-linecap: round; \" transform=\"scale(1,-1)\" /><circle cy=\"251.77708763999664\" style=\"vector-effect: none; stroke: white; fill: #69AD57; stroke-width: 15; \" r=\"48.00000000000003\" transform=\"scale(1,-1)\" cx=\"237.61825614671827\" /><path style=\"vector-effect: none; stroke: #399746; fill: #69AD57; stroke-width: 10; fill-opacity: 0; stroke-linecap: round; \" transform=\"scale(1,-1)\" d=\"M231.44503783280254 226.43873379353033 Q 260.00825770257234 222.753293430265, 263.6936980658377 251.31651330003484 \" /><circle cy=\"206.68982164912984\" style=\"vector-effect: none; stroke: white; fill: #D8645F; stroke-width: 15; \" r=\"48.000000000000014\" transform=\"scale(1,-1)\" cx=\"136.3505986964305\" /><path style=\"vector-effect: none; stroke: #CA3C32; fill: #D8645F; stroke-width: 10; fill-opacity: 0; stroke-linecap: round; \" transform=\"scale(1,-1)\" d=\"M130.17738038251477 181.3514678026635 Q 158.7406002522846 177.6660274393982, 162.42604061554988 206.22924730916804 \" /><circle cy=\"141.53309071087352\" style=\"vector-effect: none; stroke: white; fill: #AB7AC1; stroke-width: 15; \" r=\"47.99999999999996\" transform=\"scale(1,-1)\" cx=\"226.0311451568512\" /><path style=\"vector-effect: none; stroke: #9259A3; fill: #AB7AC1; stroke-width: 10; fill-opacity: 0; stroke-linecap: round; \" transform=\"scale(1,-1)\" d=\"M219.85792684293543 116.19473686440719 Q 248.4211467127053 112.50929650114189, 252.1065870759706 141.07251637091173 \" /><polyline points=\"0.0 0.0 336.0 0.0 \" style=\"vector-effect: none; stroke: black; fill: none; stroke-width: 10; stroke-linecap: round; \" transform=\"scale(1,-1)\" /><polyline points=\"80.0 0.0 80.0 25.6 \" style=\"vector-effect: none; stroke: black; fill: none; stroke-width: 10; stroke-linecap: round; \" transform=\"scale(1,-1)\" /><polyline points=\"160.0 0.0 160.0 25.6 \" style=\"vector-effect: none; stroke: black; fill: none; stroke-width: 10; stroke-linecap: round; \" transform=\"scale(1,-1)\" /><polyline points=\"240.0 0.0 240.0 25.6 \" style=\"vector-effect: none; stroke: black; fill: none; stroke-width: 10; stroke-linecap: round; \" transform=\"scale(1,-1)\" /><polyline points=\"0.0 0.0 0.0 320.0 \" style=\"vector-effect: none; stroke: black; fill: none; stroke-width: 10; stroke-linecap: round; \" transform=\"scale(1,-1)\" /><polyline points=\"4.898587196589413e-15 80.0 25.600000000000005 80.0 \" style=\"vector-effect: none; stroke: black; fill: none; stroke-width: 10; stroke-linecap: round; \" transform=\"scale(1,-1)\" /><polyline points=\"9.797174393178826e-15 160.0 25.60000000000001 160.0 \" style=\"vector-effect: none; stroke: black; fill: none; stroke-width: 10; stroke-linecap: round; \" transform=\"scale(1,-1)\" /><polyline points=\"1.4695761589768237e-14 240.0 25.600000000000016 240.0 \" style=\"vector-effect: none; stroke: black; fill: none; stroke-width: 10; stroke-linecap: round; \" transform=\"scale(1,-1)\" /><text x=\"-3.927083333333327\" style=\"font-family: Trebuchet MS; text-anchor: start; vector-effect: none; font-size: 56.0pt; font-weight: bold; \" transform=\"translate(0 155.625) rotate(-0.0, -3.927083333333327, -77.8125)\" y=\"-77.8125\">Vizagrams</text></svg>"
      ]
     },
     "execution_count": 177,
     "metadata": {},
     "output_type": "execute_result"
    }
   ],
   "source": [
    "logoname = U(0.07)name\n",
    "logo = d ↓ (T(-0.05,-0.3),acenter(d,logoname)logoname)\n",
    "logo = U(80)S(:vectorEffect=>\"none\")logo\n",
    "drawsvg(logo,height=500,pad=40)"
   ]
  },
  {
   "cell_type": "code",
   "execution_count": 178,
   "id": "8d7ac2b1-288c-459a-b5a2-cfcdfc027c0b",
   "metadata": {},
   "outputs": [
    {
     "data": {
      "text/plain": [
       "3453"
      ]
     },
     "execution_count": 178,
     "metadata": {},
     "output_type": "execute_result"
    }
   ],
   "source": [
    "savesvg(logo,filename=\"logoname.svg\",height=168,pad=13)"
   ]
  }
 ],
 "metadata": {
  "kernelspec": {
   "display_name": "Julia 1.10.4",
   "language": "julia",
   "name": "julia-1.10"
  },
  "language_info": {
   "file_extension": ".jl",
   "mimetype": "application/julia",
   "name": "julia",
   "version": "1.10.4"
  }
 },
 "nbformat": 4,
 "nbformat_minor": 5
}
