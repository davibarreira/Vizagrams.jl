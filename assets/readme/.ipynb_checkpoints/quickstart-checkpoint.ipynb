{
 "cells": [
  {
   "cell_type": "code",
   "execution_count": null,
   "id": "86e99bad-a64d-46b9-a0cd-390a8eacc99a",
   "metadata": {},
   "outputs": [
    {
     "name": "stderr",
     "output_type": "stream",
     "text": [
      "\u001b[32m\u001b[1m  Activating\u001b[22m\u001b[39m project at `~/Documents/GitHub/Vizagrams.jl`\n",
      "\u001b[32m\u001b[1mPrecompiling\u001b[22m\u001b[39m project...\n",
      "\u001b[32m  ✓ \u001b[39mVizagrams\n",
      "  1 dependency successfully precompiled in 3 seconds. 133 already precompiled.\n"
     ]
    }
   ],
   "source": [
    "using Pkg\n",
    "Pkg.activate(\"../../.\")\n",
    "using TestEnv\n",
    "TestEnv.activate();"
   ]
  },
  {
   "cell_type": "code",
   "execution_count": null,
   "id": "bf13c4b5-c2a1-405d-920a-b42f7b8e36cc",
   "metadata": {},
   "outputs": [],
   "source": [
    "using Vizagrams\n",
    "\n",
    "d = Circle() + T(2,0)*Square()\n",
    "draw(d)"
   ]
  },
  {
   "cell_type": "code",
   "execution_count": null,
   "id": "ec32790a-fac9-454f-a97e-d5253e5393f0",
   "metadata": {},
   "outputs": [],
   "source": [
    "savefig(d, filename=\"diag1.svg\")"
   ]
  },
  {
   "cell_type": "code",
   "execution_count": null,
   "id": "dd750821-9366-43d0-9622-cc9bca2b34f8",
   "metadata": {},
   "outputs": [],
   "source": [
    "d = S(:fill=>:white,:stroke=>:black)*Circle(r=2) + d\n",
    "\n",
    "draw(d)"
   ]
  },
  {
   "cell_type": "code",
   "execution_count": null,
   "id": "9ce34e52-ec6d-424d-94ac-de216a74bc62",
   "metadata": {},
   "outputs": [],
   "source": [
    "savefig(d, filename=\"diag2.svg\")"
   ]
  },
  {
   "cell_type": "code",
   "execution_count": null,
   "id": "364ca0d3-c771-45a3-be16-0bc5a4cd545e",
   "metadata": {},
   "outputs": [],
   "source": [
    "using DataFrames\n",
    "using VegaDatasets\n",
    "df = DataFrame(dataset(\"cars\"));\n",
    "df = dropmissing(df);\n",
    "\n",
    "plt = Plot(\n",
    "    data=df,\n",
    "    encodings=(\n",
    "        x=(field=:Horsepower,),\n",
    "        y=(field=:Miles_per_Gallon,),\n",
    "        color=(field=:Origin,),\n",
    "        size=(field=:Acceleration,),\n",
    "    ),\n",
    "    graphic=Circle()\n",
    ")\n",
    "draw(plt)\n"
   ]
  },
  {
   "cell_type": "code",
   "execution_count": null,
   "id": "66b3037d-a91f-4b93-a395-c00c8ae9f904",
   "metadata": {},
   "outputs": [],
   "source": [
    "savefig(plt,filename=\"diag3.svg\")"
   ]
  },
  {
   "cell_type": "code",
   "execution_count": null,
   "id": "a5619d3f-79cf-46df-98f8-db0d8bb1fe9d",
   "metadata": {},
   "outputs": [],
   "source": [
    "new_plt = Plot(\n",
    "    data=df,\n",
    "    encodings=(\n",
    "        x=(field=:Horsepower,),\n",
    "        y=(field=:Miles_per_Gallon,),\n",
    "        color=(field=:Origin,),\n",
    "        size=(field=:Acceleration,),\n",
    "    ),\n",
    "    graphic = Mark(d)\n",
    ")\n",
    "\n",
    "draw(new_plt)"
   ]
  },
  {
   "cell_type": "code",
   "execution_count": null,
   "id": "b401e499-8ac8-4599-b0a5-49a845728cbb",
   "metadata": {},
   "outputs": [],
   "source": [
    "savefig(new_plt,filename=\"diag4.svg\")"
   ]
  },
  {
   "cell_type": "code",
   "execution_count": null,
   "id": "1a09d530-28c4-493f-b8aa-0278a02da712",
   "metadata": {},
   "outputs": [],
   "source": [
    "viz_title = TextMark(text=\"Creating a New Viz\",anchor=:c,fontsize=20)\n",
    "viz_frame = S(:fillOpacity=>0,:stroke=>:black)T(400,100)*Rectangle(h=370,w=1000)\n",
    "\n",
    "new_viz = new_plt + T(470,0)plt + viz_frame + T(400,250)*viz_title \n",
    "\n",
    "draw(new_viz)"
   ]
  },
  {
   "cell_type": "code",
   "execution_count": null,
   "id": "ecee1566-bdde-4889-84ca-c58ba45ad284",
   "metadata": {},
   "outputs": [],
   "source": [
    "savefig(new_viz,filename=\"diag5.svg\")"
   ]
  }
 ],
 "metadata": {
  "kernelspec": {
   "display_name": "Julia 1.10.4",
   "language": "julia",
   "name": "julia-1.10"
  },
  "language_info": {
   "file_extension": ".jl",
   "mimetype": "application/julia",
   "name": "julia",
   "version": "1.10.4"
  }
 },
 "nbformat": 4,
 "nbformat_minor": 5
}
