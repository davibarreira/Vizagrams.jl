{
 "cells": [
  {
   "cell_type": "markdown",
   "id": "0903e330-89c1-4832-84e7-6ddeede0cd02",
   "metadata": {},
   "source": [
    "# Basics of Diagram Drawing\n",
    "\n",
    "In this tutorial, we show how Vizagrams can be used to produce diagrams. We start from a simple\n",
    "example, and gradually present more complex examples."
   ]
  },
  {
   "cell_type": "code",
   "execution_count": 1,
   "id": "f4f38f73-80d4-44b2-9047-9b3b74c25d89",
   "metadata": {},
   "outputs": [
    {
     "name": "stderr",
     "output_type": "stream",
     "text": [
      "\u001b[32m\u001b[1m  Activating\u001b[22m\u001b[39m project at `~/Documents/GitHub/Vizagrams.jl`\n",
      "\u001b[32m\u001b[1mPrecompiling\u001b[22m\u001b[39m Vizagrams\n",
      "\u001b[32m  ✓ \u001b[39mVizagrams\n",
      "  1 dependency successfully precompiled in 3 seconds. 157 already precompiled.\n"
     ]
    }
   ],
   "source": [
    "using Pkg\n",
    "Pkg.activate(\"../.\")\n",
    "using TestEnv\n",
    "TestEnv.activate()\n",
    "using Vizagrams"
   ]
  },
  {
   "cell_type": "markdown",
   "id": "5851b933-9b6e-4070-95c9-25467812aa48",
   "metadata": {},
   "source": [
    "## 1. Drawing a simple diagram"
   ]
  },
  {
   "cell_type": "markdown",
   "id": "38b2f5b4-d403-4b76-b9d4-9aebe3c87374",
   "metadata": {},
   "source": [
    "The basic building blocks for any diagram are graphical marks and graphical transformations.\n",
    "We can think of graphical marks as graphical objects that can be drawn in the screen, while the graphical transformations are\n",
    "actions such as translations, rotations, change of color, and so on. Vizagrams provides some ready to use marks, but users\n",
    "can define their own marks, yet, we leave this topic to another tutorial.\n",
    "\n",
    "Let us start with a very simple example:"
   ]
  },
  {
   "cell_type": "code",
   "execution_count": 2,
   "id": "d0dcf90c-b97c-4748-8b64-985b2ef626b5",
   "metadata": {},
   "outputs": [
    {
     "data": {
      "text/html": [
       "<svg height=\"300\" viewBox=\"-1.0333333333333334 -1.0333333333333334 2.066666666666667 2.066666666666667\" width=\"300.0\" preserveAspectRatio=\"xMidYMid meet\" xmlns=\"http://www.w3.org/2000/svg\" version=\"1.1\"><circle cy=\"0\" style=\"vector-effect: non-scaling-stroke; \" r=\"1\" transform=\"scale(1,-1)\" cx=\"0\" /></svg>"
      ],
      "text/plain": [
       "<svg height=\"300\" viewBox=\"-1.0333333333333334 -1.0333333333333334 2.066666666666667 2.066666666666667\" width=\"300.0\" preserveAspectRatio=\"xMidYMid meet\" xmlns=\"http://www.w3.org/2000/svg\" version=\"1.1\"><circle cy=\"0\" style=\"vector-effect: non-scaling-stroke; \" r=\"1\" transform=\"scale(1,-1)\" cx=\"0\" /></svg>"
      ]
     },
     "execution_count": 2,
     "metadata": {},
     "output_type": "execute_result"
    }
   ],
   "source": [
    "# My first Diagram\n",
    "d = Circle()\n",
    "\n",
    "draw(d)"
   ]
  },
  {
   "cell_type": "markdown",
   "id": "234f5a92-4d9e-4517-ad96-a4369e6cbf0f",
   "metadata": {},
   "source": [
    "In the code above, we simply define a diagram `d` as containing a `Circle`. Note that this circle has a default radius of `1` and center `[0,0]`.\n",
    "By calling `draw(d)`, we turn the diagram `d` into an SVG file, which can then be rendered by the browser.\n",
    "Note that the `draw` also scales the drawing to fit an specific height. In this case, the default height is 500. We can pass another height in order to\n",
    "get either a smaller or larger diagram, or we can use a `pad` to apply some padding to the output SVG."
   ]
  },
  {
   "cell_type": "code",
   "execution_count": 3,
   "id": "0eb268d5-7628-4f60-8eae-005079e98ac6",
   "metadata": {},
   "outputs": [
    {
     "data": {
      "text/html": [
       "<svg height=\"100\" viewBox=\"-1.2 -1.2 2.4 2.4\" width=\"100.0\" preserveAspectRatio=\"xMidYMid meet\" xmlns=\"http://www.w3.org/2000/svg\" version=\"1.1\"><circle cy=\"0\" style=\"vector-effect: non-scaling-stroke; \" r=\"1\" transform=\"scale(1,-1)\" cx=\"0\" /></svg>"
      ],
      "text/plain": [
       "<svg height=\"100\" viewBox=\"-1.2 -1.2 2.4 2.4\" width=\"100.0\" preserveAspectRatio=\"xMidYMid meet\" xmlns=\"http://www.w3.org/2000/svg\" version=\"1.1\"><circle cy=\"0\" style=\"vector-effect: non-scaling-stroke; \" r=\"1\" transform=\"scale(1,-1)\" cx=\"0\" /></svg>"
      ]
     },
     "execution_count": 3,
     "metadata": {},
     "output_type": "execute_result"
    }
   ],
   "source": [
    "d = Circle()\n",
    "draw(d,height=100, pad=20)"
   ]
  },
  {
   "cell_type": "markdown",
   "id": "6e6aa457-4bad-40c5-ae18-952894d896d4",
   "metadata": {},
   "source": [
    "## 2. Applying Transformations\n",
    "\n",
    "Graphical transformations can be either geometric or aesthetic. The geometric transformations are translations (`T(x,y)`),\n",
    "rotations (`R(θ)`) and uniform scaling (`U(s)`). For aesthetic (stylistic) transformations, we use `S(attr)`, where `attr` is something\n",
    "like `:fill=>:red`, which will apply the fill color of red.\n",
    "\n",
    "The way we apply transformations follows a mathematical notation. We use `*` to represent the action of applying a transformation to a mark.\n",
    "Moreover, we can compose transformations also using `*` or by simply stacking transformations side by side. Let us do some examples to clarify."
   ]
  },
  {
   "cell_type": "code",
   "execution_count": 4,
   "id": "55230f69-ceeb-47b0-ac3f-b939e06e953f",
   "metadata": {},
   "outputs": [
    {
     "data": {
      "text/html": [
       "<svg height=\"100\" viewBox=\"-0.55 -0.55 1.1 1.1\" width=\"100.0\" preserveAspectRatio=\"xMidYMid meet\" xmlns=\"http://www.w3.org/2000/svg\" version=\"1.1\"><polygon points=\"-0.49999999999999994 0.5 -0.5 -0.5 0.49999999999999994 -0.5 0.5 0.5 \" style=\"vector-effect: non-scaling-stroke; \" transform=\"scale(1,-1)\" /></svg>"
      ],
      "text/plain": [
       "<svg height=\"100\" viewBox=\"-0.55 -0.55 1.1 1.1\" width=\"100.0\" preserveAspectRatio=\"xMidYMid meet\" xmlns=\"http://www.w3.org/2000/svg\" version=\"1.1\"><polygon points=\"-0.49999999999999994 0.5 -0.5 -0.5 0.49999999999999994 -0.5 0.5 0.5 \" style=\"vector-effect: non-scaling-stroke; \" transform=\"scale(1,-1)\" /></svg>"
      ]
     },
     "execution_count": 4,
     "metadata": {},
     "output_type": "execute_result"
    }
   ],
   "source": [
    "d = Square()\n",
    "draw(d,height=100)"
   ]
  },
  {
   "cell_type": "code",
   "execution_count": 5,
   "id": "a8762603-e030-4fd5-8589-80e97a5d2af3",
   "metadata": {},
   "outputs": [
    {
     "data": {
      "text/html": [
       "<svg height=\"100\" viewBox=\"-0.7778174593052022 -0.7778174593052022 1.5556349186104044 1.5556349186104044\" width=\"100.0\" preserveAspectRatio=\"xMidYMid meet\" xmlns=\"http://www.w3.org/2000/svg\" version=\"1.1\"><polygon points=\"-0.7071067811865475 5.551115123125783e-17 -5.551115123125783e-17 -0.7071067811865475 0.7071067811865475 -5.551115123125783e-17 5.551115123125783e-17 0.7071067811865475 \" style=\"vector-effect: non-scaling-stroke; \" transform=\"scale(1,-1)\" /></svg>"
      ],
      "text/plain": [
       "<svg height=\"100\" viewBox=\"-0.7778174593052022 -0.7778174593052022 1.5556349186104044 1.5556349186104044\" width=\"100.0\" preserveAspectRatio=\"xMidYMid meet\" xmlns=\"http://www.w3.org/2000/svg\" version=\"1.1\"><polygon points=\"-0.7071067811865475 5.551115123125783e-17 -5.551115123125783e-17 -0.7071067811865475 0.7071067811865475 -5.551115123125783e-17 5.551115123125783e-17 0.7071067811865475 \" style=\"vector-effect: non-scaling-stroke; \" transform=\"scale(1,-1)\" /></svg>"
      ]
     },
     "execution_count": 5,
     "metadata": {},
     "output_type": "execute_result"
    }
   ],
   "source": [
    "d = R(π/4)*Square()\n",
    "draw(d,height=100)"
   ]
  },
  {
   "cell_type": "code",
   "execution_count": 6,
   "id": "59632b33-632e-4100-8d1d-ed01b91a2418",
   "metadata": {},
   "outputs": [
    {
     "data": {
      "text/html": [
       "<svg height=\"100\" viewBox=\"-0.55 -0.55 1.1 1.1\" width=\"100.0\" preserveAspectRatio=\"xMidYMid meet\" xmlns=\"http://www.w3.org/2000/svg\" version=\"1.1\"><polygon points=\"-0.49999999999999994 0.5 -0.5 -0.5 0.49999999999999994 -0.5 0.5 0.5 \" style=\"vector-effect: non-scaling-stroke; stroke: blue; fill: red; stroke-width: 2; \" transform=\"scale(1,-1)\" /></svg>"
      ],
      "text/plain": [
       "<svg height=\"100\" viewBox=\"-0.55 -0.55 1.1 1.1\" width=\"100.0\" preserveAspectRatio=\"xMidYMid meet\" xmlns=\"http://www.w3.org/2000/svg\" version=\"1.1\"><polygon points=\"-0.49999999999999994 0.5 -0.5 -0.5 0.49999999999999994 -0.5 0.5 0.5 \" style=\"vector-effect: non-scaling-stroke; stroke: blue; fill: red; stroke-width: 2; \" transform=\"scale(1,-1)\" /></svg>"
      ]
     },
     "execution_count": 6,
     "metadata": {},
     "output_type": "execute_result"
    }
   ],
   "source": [
    "d = S(:fill=>:red,:stroke=>:blue,:strokeWidth=>2)*Square()\n",
    "draw(d,height=100)"
   ]
  },
  {
   "cell_type": "code",
   "execution_count": 7,
   "id": "8bc4f4aa-9eaf-42f3-928f-cf506854c461",
   "metadata": {},
   "outputs": [
    {
     "data": {
      "text/html": [
       "<svg height=\"100\" viewBox=\"-0.7778174593052022 -0.7778174593052022 1.5556349186104044 1.5556349186104044\" width=\"100.0\" preserveAspectRatio=\"xMidYMid meet\" xmlns=\"http://www.w3.org/2000/svg\" version=\"1.1\"><polygon points=\"-0.7071067811865475 5.551115123125783e-17 -5.551115123125783e-17 -0.7071067811865475 0.7071067811865475 -5.551115123125783e-17 5.551115123125783e-17 0.7071067811865475 \" style=\"vector-effect: non-scaling-stroke; stroke: blue; fill: red; stroke-width: 2; \" transform=\"scale(1,-1)\" /></svg>"
      ],
      "text/plain": [
       "<svg height=\"100\" viewBox=\"-0.7778174593052022 -0.7778174593052022 1.5556349186104044 1.5556349186104044\" width=\"100.0\" preserveAspectRatio=\"xMidYMid meet\" xmlns=\"http://www.w3.org/2000/svg\" version=\"1.1\"><polygon points=\"-0.7071067811865475 5.551115123125783e-17 -5.551115123125783e-17 -0.7071067811865475 0.7071067811865475 -5.551115123125783e-17 5.551115123125783e-17 0.7071067811865475 \" style=\"vector-effect: non-scaling-stroke; stroke: blue; fill: red; stroke-width: 2; \" transform=\"scale(1,-1)\" /></svg>"
      ]
     },
     "execution_count": 7,
     "metadata": {},
     "output_type": "execute_result"
    }
   ],
   "source": [
    "d = S(:fill=>:red,:stroke=>:blue,:strokeWidth=>2)R(π/4)*Square()\n",
    "draw(d,height=100)"
   ]
  },
  {
   "cell_type": "markdown",
   "id": "85c2723c-c353-4fd8-9f75-0e35e47ee368",
   "metadata": {},
   "source": [
    "## 3. Combining Marks for more complex Diagrams\n",
    "\n",
    "A diagram with a single graphical mark is not very interesting. We can construct more complex diagrams\n",
    "by \"adding\" marks together. The process of adding marks is akin to drawing a mark one on top of the other,\n",
    "similar to how in an SVG file we write the tag for a different geometry one after another."
   ]
  },
  {
   "cell_type": "code",
   "execution_count": 8,
   "id": "9b998ab0-1a69-404c-af29-8cf58240184c",
   "metadata": {},
   "outputs": [
    {
     "data": {
      "text/html": [
       "<svg height=\"100\" viewBox=\"-1.1 -1.1 2.2 2.2\" width=\"100.0\" preserveAspectRatio=\"xMidYMid meet\" xmlns=\"http://www.w3.org/2000/svg\" version=\"1.1\"><circle cy=\"0.0\" style=\"vector-effect: non-scaling-stroke; fill: blue; \" r=\"1.0\" transform=\"scale(1,-1)\" cx=\"0.0\" /><polygon points=\"-4.9789962505147994e-17 0.9999999999999999 -0.8660254037844389 -0.4999999999999998 0.8660254037844383 -0.5000000000000006 \" style=\"vector-effect: non-scaling-stroke; fill: red; \" transform=\"scale(1,-1)\" /><polygon points=\"-0.49999999999999994 0.5 -0.5 -0.5 0.49999999999999994 -0.5 0.5 0.5 \" style=\"vector-effect: non-scaling-stroke; fill: green; \" transform=\"scale(1,-1)\" /></svg>"
      ],
      "text/plain": [
       "<svg height=\"100\" viewBox=\"-1.1 -1.1 2.2 2.2\" width=\"100.0\" preserveAspectRatio=\"xMidYMid meet\" xmlns=\"http://www.w3.org/2000/svg\" version=\"1.1\"><circle cy=\"0.0\" style=\"vector-effect: non-scaling-stroke; fill: blue; \" r=\"1.0\" transform=\"scale(1,-1)\" cx=\"0.0\" /><polygon points=\"-4.9789962505147994e-17 0.9999999999999999 -0.8660254037844389 -0.4999999999999998 0.8660254037844383 -0.5000000000000006 \" style=\"vector-effect: non-scaling-stroke; fill: red; \" transform=\"scale(1,-1)\" /><polygon points=\"-0.49999999999999994 0.5 -0.5 -0.5 0.49999999999999994 -0.5 0.5 0.5 \" style=\"vector-effect: non-scaling-stroke; fill: green; \" transform=\"scale(1,-1)\" /></svg>"
      ]
     },
     "execution_count": 8,
     "metadata": {},
     "output_type": "execute_result"
    }
   ],
   "source": [
    "d = S(:fill=>:blue)Circle() + S(:fill=>:red)RegularPolygon(n=3) +S(:fill=>:green)Square() \n",
    "draw(d,height=100)"
   ]
  },
  {
   "cell_type": "markdown",
   "id": "5ddc1b57-4581-4b7c-980e-47e4d47408b8",
   "metadata": {},
   "source": [
    "We now have the tools to create very complex diagrams, it is just a matter of adding marks and applying transformations."
   ]
  },
  {
   "cell_type": "code",
   "execution_count": 9,
   "id": "da2c81f9-9a33-4713-978c-1d68120e68f2",
   "metadata": {},
   "outputs": [
    {
     "data": {
      "text/html": [
       "<svg height=\"100\" viewBox=\"-1.4730771862036056 -3.213003675533505 5.686080861737111 4.686080861737111\" width=\"123.47377333971644\" preserveAspectRatio=\"xMidYMid meet\" xmlns=\"http://www.w3.org/2000/svg\" version=\"1.1\"><circle cy=\"0.0\" style=\"vector-effect: non-scaling-stroke; \" r=\"1.0\" transform=\"scale(1,-1)\" cx=\"3.0\" /><polygon points=\"-4.9789962505147994e-17 3.0 -0.8660254037844389 1.5000000000000002 0.8660254037844383 1.4999999999999996 \" style=\"vector-effect: non-scaling-stroke; \" transform=\"scale(1,-1)\" /><polygon points=\"-1.2600735106701006 0.6420395219202061 -0.6420395219202062 -1.2600735106701006 1.2600735106701006 -0.6420395219202061 0.6420395219202062 1.2600735106701006 \" style=\"vector-effect: non-scaling-stroke; \" transform=\"scale(1,-1)\" /></svg>"
      ],
      "text/plain": [
       "<svg height=\"100\" viewBox=\"-1.4730771862036056 -3.213003675533505 5.686080861737111 4.686080861737111\" width=\"123.47377333971644\" preserveAspectRatio=\"xMidYMid meet\" xmlns=\"http://www.w3.org/2000/svg\" version=\"1.1\"><circle cy=\"0.0\" style=\"vector-effect: non-scaling-stroke; \" r=\"1.0\" transform=\"scale(1,-1)\" cx=\"3.0\" /><polygon points=\"-4.9789962505147994e-17 3.0 -0.8660254037844389 1.5000000000000002 0.8660254037844383 1.4999999999999996 \" style=\"vector-effect: non-scaling-stroke; \" transform=\"scale(1,-1)\" /><polygon points=\"-1.2600735106701006 0.6420395219202061 -0.6420395219202062 -1.2600735106701006 1.2600735106701006 -0.6420395219202061 0.6420395219202062 1.2600735106701006 \" style=\"vector-effect: non-scaling-stroke; \" transform=\"scale(1,-1)\" /></svg>"
      ]
     },
     "execution_count": 9,
     "metadata": {},
     "output_type": "execute_result"
    }
   ],
   "source": [
    "d = T(3,0)Circle() + T(0,2)RegularPolygon(n=3) +R(π/10)U(2)Square() \n",
    "draw(d,height=100)"
   ]
  },
  {
   "cell_type": "markdown",
   "id": "3775d904-e2ea-481d-bb9d-df053699f6f4",
   "metadata": {},
   "source": [
    "Note also that our `*` operator is distributive, hence, we can apply the same transformations to several marks at once. "
   ]
  },
  {
   "cell_type": "code",
   "execution_count": 10,
   "id": "ba1b2e02-75a0-4d4e-83b0-01658330165c",
   "metadata": {},
   "outputs": [
    {
     "data": {
      "text/html": [
       "<svg height=\"100\" viewBox=\"-1.5100735106701006 -3.25 6.7600735106701 5.5\" width=\"125.201470213402\" preserveAspectRatio=\"xMidYMid meet\" xmlns=\"http://www.w3.org/2000/svg\" version=\"1.1\"><circle cy=\"0.0\" style=\"vector-effect: non-scaling-stroke; fill: blue; \" r=\"1.0\" transform=\"scale(1,-1)\" cx=\"3.0\" /><polygon points=\"-1.6081226496766364e-16 3.0 -0.866025403784439 1.5000000000000002 0.8660254037844382 1.4999999999999996 \" style=\"vector-effect: non-scaling-stroke; fill: blue; \" transform=\"scale(1,-1)\" /><polygon points=\"-1.2600735106701006 0.642039521920206 -0.642039521920206 -1.2600735106701006 1.2600735106701006 -0.642039521920206 0.642039521920206 1.2600735106701006 \" style=\"vector-effect: non-scaling-stroke; fill: blue; \" transform=\"scale(1,-1)\" /><polyline points=\"2 -2 5 -2 5 1 \" style=\"vector-effect: non-scaling-stroke; stroke: red; fill: none; stroke-width: 5; \" transform=\"scale(1,-1)\" /></svg>"
      ],
      "text/plain": [
       "<svg height=\"100\" viewBox=\"-1.5100735106701006 -3.25 6.7600735106701 5.5\" width=\"125.201470213402\" preserveAspectRatio=\"xMidYMid meet\" xmlns=\"http://www.w3.org/2000/svg\" version=\"1.1\"><circle cy=\"0.0\" style=\"vector-effect: non-scaling-stroke; fill: blue; \" r=\"1.0\" transform=\"scale(1,-1)\" cx=\"3.0\" /><polygon points=\"-1.6081226496766364e-16 3.0 -0.866025403784439 1.5000000000000002 0.8660254037844382 1.4999999999999996 \" style=\"vector-effect: non-scaling-stroke; fill: blue; \" transform=\"scale(1,-1)\" /><polygon points=\"-1.2600735106701006 0.642039521920206 -0.642039521920206 -1.2600735106701006 1.2600735106701006 -0.642039521920206 0.642039521920206 1.2600735106701006 \" style=\"vector-effect: non-scaling-stroke; fill: blue; \" transform=\"scale(1,-1)\" /><polyline points=\"2 -2 5 -2 5 1 \" style=\"vector-effect: non-scaling-stroke; stroke: red; fill: none; stroke-width: 5; \" transform=\"scale(1,-1)\" /></svg>"
      ]
     },
     "execution_count": 10,
     "metadata": {},
     "output_type": "execute_result"
    }
   ],
   "source": [
    "d = S(:fill=>:blue)*(T(3,0)Circle() + T(0,2)RegularPolygon(n=3) +R(π/10)U(2)Square()) + T(2,-2)S(:stroke=>:red,:strokeWidth=>5)Line([[0,0],[3,0],[3,3]])\n",
    "draw(d,height=100)"
   ]
  },
  {
   "cell_type": "markdown",
   "id": "50625a54-91ad-432c-ae56-8c79bdcb737c",
   "metadata": {},
   "source": [
    "## 4. Combining Diagrams\n",
    "\n",
    "We can combine marks and apply transformations. Similarly, we can combine previously created diagrams to create new diagrams."
   ]
  },
  {
   "cell_type": "code",
   "execution_count": 11,
   "id": "5b483dfa-bfca-46f4-bb42-7255e03c58c9",
   "metadata": {},
   "outputs": [
    {
     "data": {
      "text/html": [
       "<svg height=\"100\" viewBox=\"-1.208007900177242 -2.971363657054661 9.843066783479328 4.576173803899324\" width=\"226.60319572218467\" preserveAspectRatio=\"xMidYMid meet\" xmlns=\"http://www.w3.org/2000/svg\" version=\"1.1\"><circle cy=\"0\" style=\"vector-effect: non-scaling-stroke; \" r=\"1\" transform=\"scale(1,-1)\" cx=\"0\" /><circle cy=\"0.0\" style=\"vector-effect: non-scaling-stroke; \" r=\"1.0\" transform=\"scale(1,-1)\" cx=\"2.0\" /><circle cy=\"1.7633557568774194\" style=\"vector-effect: non-scaling-stroke; fill: blue; \" r=\"1.0\" transform=\"scale(1,-1)\" cx=\"7.427050983124842\" /><polygon points=\"3.236644243122581 2.4270509831248424 3.4176928523392527 0.7044885311072948 4.818951390783326 1.7225624520175469 \" style=\"vector-effect: non-scaling-stroke; fill: blue; \" transform=\"scale(1,-1)\" /><polygon points=\"3.603197753332579 -0.22123174208247387 5.221231742082474 -1.3968022466674206 6.396802246667421 0.22123174208247387 4.778768257917526 1.3968022466674206 \" style=\"vector-effect: non-scaling-stroke; fill: blue; \" transform=\"scale(1,-1)\" /></svg>"
      ],
      "text/plain": [
       "<svg height=\"100\" viewBox=\"-1.208007900177242 -2.971363657054661 9.843066783479328 4.576173803899324\" width=\"226.60319572218467\" preserveAspectRatio=\"xMidYMid meet\" xmlns=\"http://www.w3.org/2000/svg\" version=\"1.1\"><circle cy=\"0\" style=\"vector-effect: non-scaling-stroke; \" r=\"1\" transform=\"scale(1,-1)\" cx=\"0\" /><circle cy=\"0.0\" style=\"vector-effect: non-scaling-stroke; \" r=\"1.0\" transform=\"scale(1,-1)\" cx=\"2.0\" /><circle cy=\"1.7633557568774194\" style=\"vector-effect: non-scaling-stroke; fill: blue; \" r=\"1.0\" transform=\"scale(1,-1)\" cx=\"7.427050983124842\" /><polygon points=\"3.236644243122581 2.4270509831248424 3.4176928523392527 0.7044885311072948 4.818951390783326 1.7225624520175469 \" style=\"vector-effect: non-scaling-stroke; fill: blue; \" transform=\"scale(1,-1)\" /><polygon points=\"3.603197753332579 -0.22123174208247387 5.221231742082474 -1.3968022466674206 6.396802246667421 0.22123174208247387 4.778768257917526 1.3968022466674206 \" style=\"vector-effect: non-scaling-stroke; fill: blue; \" transform=\"scale(1,-1)\" /></svg>"
      ]
     },
     "execution_count": 11,
     "metadata": {},
     "output_type": "execute_result"
    }
   ],
   "source": [
    "d1 = Circle() + T(2,0)*Circle()\n",
    "d2 = S(:fill=>:blue)*(T(3,0)Circle() + T(0,2)RegularPolygon(n=3) +R(π/10)U(2)Square())\n",
    "d  = d1 + T(5,0)R(π/5)*d2\n",
    "\n",
    "draw(d,height=100)"
   ]
  },
  {
   "cell_type": "markdown",
   "id": "a35da6e2-0e38-4605-8159-254349d21c48",
   "metadata": {},
   "source": [
    "## 5. Stacking Diagrams\n",
    "\n",
    "The basic geometric transformations translations, rotations and scaling. Yet, Vizagrams provides some stacking transformations\n",
    "to ease the process of diagram drawing. The process of stacking consists in placing two marks one right next to the other given a certain direction.\n",
    "This is done by computing the envelope (similar to bounding box) of each mark, and then translating the marks accordingly."
   ]
  },
  {
   "cell_type": "code",
   "execution_count": 12,
   "id": "fb3bcffa-8794-475d-9ba5-9335c7b11c43",
   "metadata": {},
   "outputs": [
    {
     "data": {
      "text/html": [
       "<svg height=\"100\" viewBox=\"-1.15 -2.15 4.3 3.3\" width=\"133.33333333333334\" preserveAspectRatio=\"xMidYMid meet\" xmlns=\"http://www.w3.org/2000/svg\" version=\"1.1\"><circle cy=\"0.0\" style=\"vector-effect: non-scaling-stroke; \" r=\"1.0\" transform=\"scale(1,-1)\" cx=\"0.0\" /><circle cy=\"0.0\" style=\"vector-effect: non-scaling-stroke; \" r=\"1.0\" transform=\"scale(1,-1)\" cx=\"2.0\" /><polygon points=\"1.5 2.0 1.5 1.0 2.5 1.0 2.5 2.0 \" style=\"vector-effect: non-scaling-stroke; \" transform=\"scale(1,-1)\" /></svg>"
      ],
      "text/plain": [
       "<svg height=\"100\" viewBox=\"-1.15 -2.15 4.3 3.3\" width=\"133.33333333333334\" preserveAspectRatio=\"xMidYMid meet\" xmlns=\"http://www.w3.org/2000/svg\" version=\"1.1\"><circle cy=\"0.0\" style=\"vector-effect: non-scaling-stroke; \" r=\"1.0\" transform=\"scale(1,-1)\" cx=\"0.0\" /><circle cy=\"0.0\" style=\"vector-effect: non-scaling-stroke; \" r=\"1.0\" transform=\"scale(1,-1)\" cx=\"2.0\" /><polygon points=\"1.5 2.0 1.5 1.0 2.5 1.0 2.5 2.0 \" style=\"vector-effect: non-scaling-stroke; \" transform=\"scale(1,-1)\" /></svg>"
      ]
     },
     "execution_count": 12,
     "metadata": {},
     "output_type": "execute_result"
    }
   ],
   "source": [
    "d = Circle() → Circle() ↑ Square()\n",
    "\n",
    "draw(d,height=100)"
   ]
  },
  {
   "cell_type": "markdown",
   "id": "7ce56c97-efb7-4f9a-9e59-efd6cb3c2dc7",
   "metadata": {},
   "source": [
    "We can add some spacing between the stacking by passing a tuple containing the mark and a translation transformation. "
   ]
  },
  {
   "cell_type": "code",
   "execution_count": 13,
   "id": "28b1dc73-a2c7-4ebf-ad5a-b3fbd9f1f430",
   "metadata": {},
   "outputs": [
    {
     "data": {
      "text/html": [
       "<svg height=\"100\" viewBox=\"-1.1 -1.1 7.2 2.2\" width=\"350.0\" preserveAspectRatio=\"xMidYMid meet\" xmlns=\"http://www.w3.org/2000/svg\" version=\"1.1\"><circle cy=\"0.0\" style=\"vector-effect: non-scaling-stroke; \" r=\"1.0\" transform=\"scale(1,-1)\" cx=\"0.0\" /><circle cy=\"0.0\" style=\"vector-effect: non-scaling-stroke; \" r=\"1.0\" transform=\"scale(1,-1)\" cx=\"2.5\" /><circle cy=\"0.0\" style=\"vector-effect: non-scaling-stroke; \" r=\"1.0\" transform=\"scale(1,-1)\" cx=\"5.0\" /></svg>"
      ],
      "text/plain": [
       "<svg height=\"100\" viewBox=\"-1.1 -1.1 7.2 2.2\" width=\"350.0\" preserveAspectRatio=\"xMidYMid meet\" xmlns=\"http://www.w3.org/2000/svg\" version=\"1.1\"><circle cy=\"0.0\" style=\"vector-effect: non-scaling-stroke; \" r=\"1.0\" transform=\"scale(1,-1)\" cx=\"0.0\" /><circle cy=\"0.0\" style=\"vector-effect: non-scaling-stroke; \" r=\"1.0\" transform=\"scale(1,-1)\" cx=\"2.5\" /><circle cy=\"0.0\" style=\"vector-effect: non-scaling-stroke; \" r=\"1.0\" transform=\"scale(1,-1)\" cx=\"5.0\" /></svg>"
      ]
     },
     "execution_count": 13,
     "metadata": {},
     "output_type": "execute_result"
    }
   ],
   "source": [
    "d = Circle() → (T(0.5,0),Circle() → (T(0.5,0),Circle()))\n",
    "\n",
    "draw(d,height=100)"
   ]
  },
  {
   "cell_type": "markdown",
   "id": "2d4d44e1-ce40-4391-92a7-4b1c1359f4f8",
   "metadata": {},
   "source": [
    "One has to pay attention to the parenthesis, as the order matters. Yet, we can use mapping functions to reduce the clutter. For example,\n",
    "let us stack several circles side by side with a 0.5 spacing."
   ]
  },
  {
   "cell_type": "code",
   "execution_count": 14,
   "id": "a3d0d988-1a1c-492a-b949-7dac7f3702f1",
   "metadata": {},
   "outputs": [
    {
     "data": {
      "text/html": [
       "<svg height=\"100\" viewBox=\"-1.1 -1.1 12.2 2.2\" width=\"600.0\" preserveAspectRatio=\"xMidYMid meet\" xmlns=\"http://www.w3.org/2000/svg\" version=\"1.1\"><circle cy=\"0.0\" style=\"vector-effect: non-scaling-stroke; \" r=\"1.0\" transform=\"scale(1,-1)\" cx=\"0.0\" /><circle cy=\"0.0\" style=\"vector-effect: non-scaling-stroke; \" r=\"1.0\" transform=\"scale(1,-1)\" cx=\"2.5\" /><circle cy=\"0.0\" style=\"vector-effect: non-scaling-stroke; \" r=\"1.0\" transform=\"scale(1,-1)\" cx=\"5.0\" /><circle cy=\"0.0\" style=\"vector-effect: non-scaling-stroke; \" r=\"1.0\" transform=\"scale(1,-1)\" cx=\"7.5\" /><circle cy=\"0.0\" style=\"vector-effect: non-scaling-stroke; \" r=\"1.0\" transform=\"scale(1,-1)\" cx=\"10.0\" /></svg>"
      ],
      "text/plain": [
       "<svg height=\"100\" viewBox=\"-1.1 -1.1 12.2 2.2\" width=\"600.0\" preserveAspectRatio=\"xMidYMid meet\" xmlns=\"http://www.w3.org/2000/svg\" version=\"1.1\"><circle cy=\"0.0\" style=\"vector-effect: non-scaling-stroke; \" r=\"1.0\" transform=\"scale(1,-1)\" cx=\"0.0\" /><circle cy=\"0.0\" style=\"vector-effect: non-scaling-stroke; \" r=\"1.0\" transform=\"scale(1,-1)\" cx=\"2.5\" /><circle cy=\"0.0\" style=\"vector-effect: non-scaling-stroke; \" r=\"1.0\" transform=\"scale(1,-1)\" cx=\"5.0\" /><circle cy=\"0.0\" style=\"vector-effect: non-scaling-stroke; \" r=\"1.0\" transform=\"scale(1,-1)\" cx=\"7.5\" /><circle cy=\"0.0\" style=\"vector-effect: non-scaling-stroke; \" r=\"1.0\" transform=\"scale(1,-1)\" cx=\"10.0\" /></svg>"
      ]
     },
     "execution_count": 14,
     "metadata": {},
     "output_type": "execute_result"
    }
   ],
   "source": [
    "d = mapreduce(c->Circle(), (x,y)-> x → (T(0.5,0),y), 1:5)\n",
    "draw(d,height=100)"
   ]
  },
  {
   "cell_type": "markdown",
   "id": "96de1684-4eb9-4151-88d4-16cd15b25f31",
   "metadata": {},
   "source": [
    "### 6. Text and LaTeX\n",
    "\n",
    "Text is also a mark. Hence, we can apply geometric and aesthetic transformations."
   ]
  },
  {
   "cell_type": "code",
   "execution_count": 15,
   "id": "a843a17f-4408-4894-9288-7b3a30e5be61",
   "metadata": {},
   "outputs": [
    {
     "data": {
      "text/html": [
       "<svg height=\"100\" viewBox=\"-2.3677734374999995 -0.5184895833333333 4.735546875 1.36640625\" width=\"371.2264150943396\" preserveAspectRatio=\"xMidYMid meet\" xmlns=\"http://www.w3.org/2000/svg\" version=\"1.1\"><text x=\"0.0\" style=\"font-family: Futura; text-anchor: middle; vector-effect: non-scaling-stroke; font-size: 1.0pt; \" transform=\"translate(0 1.0) rotate(-0.0, 0.0, -0.5)\" y=\"-0.5\">My Text</text></svg>"
      ],
      "text/plain": [
       "<svg height=\"100\" viewBox=\"-2.3677734374999995 -0.5184895833333333 4.735546875 1.36640625\" width=\"371.2264150943396\" preserveAspectRatio=\"xMidYMid meet\" xmlns=\"http://www.w3.org/2000/svg\" version=\"1.1\"><text x=\"0.0\" style=\"font-family: Futura; text-anchor: middle; vector-effect: non-scaling-stroke; font-size: 1.0pt; \" transform=\"translate(0 1.0) rotate(-0.0, 0.0, -0.5)\" y=\"-0.5\">My Text</text></svg>"
      ]
     },
     "execution_count": 15,
     "metadata": {},
     "output_type": "execute_result"
    }
   ],
   "source": [
    "d = S(:fontFamily=>\"Futura\")TextMark(text=\"My Text\",anchor=:c,fontsize=1)\n",
    "\n",
    "draw(d,height=100)"
   ]
  },
  {
   "cell_type": "markdown",
   "id": "32371af9-2ccb-40bf-af6d-791d23b20e00",
   "metadata": {},
   "source": [
    "Let is alter the anchor values to show how it behaves. We draw a cross around the center of the canvas, in order to make clear how\n",
    "the text moves."
   ]
  },
  {
   "cell_type": "code",
   "execution_count": 16,
   "id": "d3ac8deb-bead-421e-b298-d70bae283c7b",
   "metadata": {},
   "outputs": [
    {
     "data": {
      "text/html": [
       "<svg height=\"80\" viewBox=\"-3.375 -3.375 58.75 6.75\" width=\"773.3333333333334\" preserveAspectRatio=\"xMidYMid meet\" xmlns=\"http://www.w3.org/2000/svg\" version=\"1.1\"><polyline points=\"-3 0 3 0 \" style=\"vector-effect: non-scaling-stroke; stroke: black; fill: none; \" transform=\"scale(1,-1)\" /><polyline points=\"-1.8369701987210297e-16 -3.0 1.8369701987210297e-16 3.0 \" style=\"vector-effect: non-scaling-stroke; stroke: black; fill: none; \" transform=\"scale(1,-1)\" /><text x=\"0.0\" style=\"font-family: Helvetica; text-anchor: middle; vector-effect: non-scaling-stroke; font-size: 1.0pt; \" transform=\"translate(0 1.0) rotate(-0.0, 0.0, -0.5)\" y=\"-0.5\">C</text><polyline points=\"3.5 0.0 9.5 0.0 \" style=\"vector-effect: non-scaling-stroke; stroke: black; fill: none; \" transform=\"scale(1,-1)\" /><polyline points=\"6.5 -3.0 6.5 3.0 \" style=\"vector-effect: non-scaling-stroke; stroke: black; fill: none; \" transform=\"scale(1,-1)\" /><text x=\"6.5\" style=\"font-family: Helvetica; text-anchor: middle; vector-effect: non-scaling-stroke; font-size: 1.0pt; \" transform=\"translate(0 -0.0) rotate(-0.0, 6.5, 0.0)\" y=\"0.0\">S</text><polyline points=\"10.0 0.0 16.0 0.0 \" style=\"vector-effect: non-scaling-stroke; stroke: black; fill: none; \" transform=\"scale(1,-1)\" /><polyline points=\"13.0 -3.0 13.0 3.0 \" style=\"vector-effect: non-scaling-stroke; stroke: black; fill: none; \" transform=\"scale(1,-1)\" /><text x=\"13.0\" style=\"font-family: Helvetica; text-anchor: middle; vector-effect: non-scaling-stroke; font-size: 1.0pt; \" transform=\"translate(0 2.0) rotate(-0.0, 13.0, -1.0)\" y=\"-1.0\">N</text><polyline points=\"16.5 0.0 22.5 0.0 \" style=\"vector-effect: non-scaling-stroke; stroke: black; fill: none; \" transform=\"scale(1,-1)\" /><polyline points=\"19.5 -3.0 19.5 3.0 \" style=\"vector-effect: non-scaling-stroke; stroke: black; fill: none; \" transform=\"scale(1,-1)\" /><text x=\"19.5\" style=\"font-family: Helvetica; text-anchor: start; vector-effect: non-scaling-stroke; font-size: 1.0pt; \" transform=\"translate(0 1.0) rotate(-0.0, 19.5, -0.5)\" y=\"-0.5\">E</text><polyline points=\"23.0 0.0 29.0 0.0 \" style=\"vector-effect: non-scaling-stroke; stroke: black; fill: none; \" transform=\"scale(1,-1)\" /><polyline points=\"26.0 -3.0 26.0 3.0 \" style=\"vector-effect: non-scaling-stroke; stroke: black; fill: none; \" transform=\"scale(1,-1)\" /><text x=\"26.0\" style=\"font-family: Helvetica; text-anchor: end; vector-effect: non-scaling-stroke; font-size: 1.0pt; \" transform=\"translate(0 1.0) rotate(-0.0, 26.0, -0.5)\" y=\"-0.5\">W</text><polyline points=\"29.5 0.0 35.5 0.0 \" style=\"vector-effect: non-scaling-stroke; stroke: black; fill: none; \" transform=\"scale(1,-1)\" /><polyline points=\"32.5 -3.0 32.5 3.0 \" style=\"vector-effect: non-scaling-stroke; stroke: black; fill: none; \" transform=\"scale(1,-1)\" /><text x=\"32.5\" style=\"font-family: Helvetica; text-anchor: start; vector-effect: non-scaling-stroke; font-size: 1.0pt; \" transform=\"translate(0 -0.0) rotate(-0.0, 32.5, 0.0)\" y=\"0.0\">SE</text><polyline points=\"36.0 0.0 42.0 0.0 \" style=\"vector-effect: non-scaling-stroke; stroke: black; fill: none; \" transform=\"scale(1,-1)\" /><polyline points=\"39.0 -3.0 39.0 3.0 \" style=\"vector-effect: non-scaling-stroke; stroke: black; fill: none; \" transform=\"scale(1,-1)\" /><text x=\"39.0\" style=\"font-family: Helvetica; text-anchor: end; vector-effect: non-scaling-stroke; font-size: 1.0pt; \" transform=\"translate(0 -0.0) rotate(-0.0, 39.0, 0.0)\" y=\"0.0\">SW</text><polyline points=\"42.5 0.0 48.5 0.0 \" style=\"vector-effect: non-scaling-stroke; stroke: black; fill: none; \" transform=\"scale(1,-1)\" /><polyline points=\"45.5 -3.0 45.5 3.0 \" style=\"vector-effect: non-scaling-stroke; stroke: black; fill: none; \" transform=\"scale(1,-1)\" /><text x=\"45.5\" style=\"font-family: Helvetica; text-anchor: start; vector-effect: non-scaling-stroke; font-size: 1.0pt; \" transform=\"translate(0 2.0) rotate(-0.0, 45.5, -1.0)\" y=\"-1.0\">NE</text><polyline points=\"49.0 0.0 55.0 0.0 \" style=\"vector-effect: non-scaling-stroke; stroke: black; fill: none; \" transform=\"scale(1,-1)\" /><polyline points=\"52.0 -3.0 52.0 3.0 \" style=\"vector-effect: non-scaling-stroke; stroke: black; fill: none; \" transform=\"scale(1,-1)\" /><text x=\"52.0\" style=\"font-family: Helvetica; text-anchor: end; vector-effect: non-scaling-stroke; font-size: 1.0pt; \" transform=\"translate(0 2.0) rotate(-0.0, 52.0, -1.0)\" y=\"-1.0\">NW</text></svg>"
      ],
      "text/plain": [
       "<svg height=\"80\" viewBox=\"-3.375 -3.375 58.75 6.75\" width=\"773.3333333333334\" preserveAspectRatio=\"xMidYMid meet\" xmlns=\"http://www.w3.org/2000/svg\" version=\"1.1\"><polyline points=\"-3 0 3 0 \" style=\"vector-effect: non-scaling-stroke; stroke: black; fill: none; \" transform=\"scale(1,-1)\" /><polyline points=\"-1.8369701987210297e-16 -3.0 1.8369701987210297e-16 3.0 \" style=\"vector-effect: non-scaling-stroke; stroke: black; fill: none; \" transform=\"scale(1,-1)\" /><text x=\"0.0\" style=\"font-family: Helvetica; text-anchor: middle; vector-effect: non-scaling-stroke; font-size: 1.0pt; \" transform=\"translate(0 1.0) rotate(-0.0, 0.0, -0.5)\" y=\"-0.5\">C</text><polyline points=\"3.5 0.0 9.5 0.0 \" style=\"vector-effect: non-scaling-stroke; stroke: black; fill: none; \" transform=\"scale(1,-1)\" /><polyline points=\"6.5 -3.0 6.5 3.0 \" style=\"vector-effect: non-scaling-stroke; stroke: black; fill: none; \" transform=\"scale(1,-1)\" /><text x=\"6.5\" style=\"font-family: Helvetica; text-anchor: middle; vector-effect: non-scaling-stroke; font-size: 1.0pt; \" transform=\"translate(0 -0.0) rotate(-0.0, 6.5, 0.0)\" y=\"0.0\">S</text><polyline points=\"10.0 0.0 16.0 0.0 \" style=\"vector-effect: non-scaling-stroke; stroke: black; fill: none; \" transform=\"scale(1,-1)\" /><polyline points=\"13.0 -3.0 13.0 3.0 \" style=\"vector-effect: non-scaling-stroke; stroke: black; fill: none; \" transform=\"scale(1,-1)\" /><text x=\"13.0\" style=\"font-family: Helvetica; text-anchor: middle; vector-effect: non-scaling-stroke; font-size: 1.0pt; \" transform=\"translate(0 2.0) rotate(-0.0, 13.0, -1.0)\" y=\"-1.0\">N</text><polyline points=\"16.5 0.0 22.5 0.0 \" style=\"vector-effect: non-scaling-stroke; stroke: black; fill: none; \" transform=\"scale(1,-1)\" /><polyline points=\"19.5 -3.0 19.5 3.0 \" style=\"vector-effect: non-scaling-stroke; stroke: black; fill: none; \" transform=\"scale(1,-1)\" /><text x=\"19.5\" style=\"font-family: Helvetica; text-anchor: start; vector-effect: non-scaling-stroke; font-size: 1.0pt; \" transform=\"translate(0 1.0) rotate(-0.0, 19.5, -0.5)\" y=\"-0.5\">E</text><polyline points=\"23.0 0.0 29.0 0.0 \" style=\"vector-effect: non-scaling-stroke; stroke: black; fill: none; \" transform=\"scale(1,-1)\" /><polyline points=\"26.0 -3.0 26.0 3.0 \" style=\"vector-effect: non-scaling-stroke; stroke: black; fill: none; \" transform=\"scale(1,-1)\" /><text x=\"26.0\" style=\"font-family: Helvetica; text-anchor: end; vector-effect: non-scaling-stroke; font-size: 1.0pt; \" transform=\"translate(0 1.0) rotate(-0.0, 26.0, -0.5)\" y=\"-0.5\">W</text><polyline points=\"29.5 0.0 35.5 0.0 \" style=\"vector-effect: non-scaling-stroke; stroke: black; fill: none; \" transform=\"scale(1,-1)\" /><polyline points=\"32.5 -3.0 32.5 3.0 \" style=\"vector-effect: non-scaling-stroke; stroke: black; fill: none; \" transform=\"scale(1,-1)\" /><text x=\"32.5\" style=\"font-family: Helvetica; text-anchor: start; vector-effect: non-scaling-stroke; font-size: 1.0pt; \" transform=\"translate(0 -0.0) rotate(-0.0, 32.5, 0.0)\" y=\"0.0\">SE</text><polyline points=\"36.0 0.0 42.0 0.0 \" style=\"vector-effect: non-scaling-stroke; stroke: black; fill: none; \" transform=\"scale(1,-1)\" /><polyline points=\"39.0 -3.0 39.0 3.0 \" style=\"vector-effect: non-scaling-stroke; stroke: black; fill: none; \" transform=\"scale(1,-1)\" /><text x=\"39.0\" style=\"font-family: Helvetica; text-anchor: end; vector-effect: non-scaling-stroke; font-size: 1.0pt; \" transform=\"translate(0 -0.0) rotate(-0.0, 39.0, 0.0)\" y=\"0.0\">SW</text><polyline points=\"42.5 0.0 48.5 0.0 \" style=\"vector-effect: non-scaling-stroke; stroke: black; fill: none; \" transform=\"scale(1,-1)\" /><polyline points=\"45.5 -3.0 45.5 3.0 \" style=\"vector-effect: non-scaling-stroke; stroke: black; fill: none; \" transform=\"scale(1,-1)\" /><text x=\"45.5\" style=\"font-family: Helvetica; text-anchor: start; vector-effect: non-scaling-stroke; font-size: 1.0pt; \" transform=\"translate(0 2.0) rotate(-0.0, 45.5, -1.0)\" y=\"-1.0\">NE</text><polyline points=\"49.0 0.0 55.0 0.0 \" style=\"vector-effect: non-scaling-stroke; stroke: black; fill: none; \" transform=\"scale(1,-1)\" /><polyline points=\"52.0 -3.0 52.0 3.0 \" style=\"vector-effect: non-scaling-stroke; stroke: black; fill: none; \" transform=\"scale(1,-1)\" /><text x=\"52.0\" style=\"font-family: Helvetica; text-anchor: end; vector-effect: non-scaling-stroke; font-size: 1.0pt; \" transform=\"translate(0 2.0) rotate(-0.0, 52.0, -1.0)\" y=\"-1.0\">NW</text></svg>"
      ]
     },
     "execution_count": 16,
     "metadata": {},
     "output_type": "execute_result"
    }
   ],
   "source": [
    "cross = Line([[-3,0],[3,0]]) + R(π/2)Line([[-3,0],[3,0]]) \n",
    "\n",
    "anchors = [:c, :s, :n, :e, :w, :se, :sw, :ne, :nw]\n",
    "d = mapreduce(a->cross + TextMark(text=uppercase(\"$a\"),anchor=a,fontsize=1),(x,y)-> x → (T(0.5,0),y),anchors)\n",
    "\n",
    "draw(d,height=80)"
   ]
  },
  {
   "cell_type": "markdown",
   "id": "258ab5c7-67c9-4f6c-b8f8-1404b1ecc717",
   "metadata": {},
   "source": [
    "Vizagrams also provides the possibility of writing LaTeX. For this, the user must import `LaTeXStrings`:"
   ]
  },
  {
   "cell_type": "code",
   "execution_count": 17,
   "id": "d6ffe586-dc1c-4a6a-88bd-9da555963f3e",
   "metadata": {},
   "outputs": [
    {
     "data": {
      "text/html": [
       "<svg height=\"100\" viewBox=\"-78.76123100717861 -18.69599341551463 159.51121201515195 36.97431022326151\" width=\"464.5520123490477\" preserveAspectRatio=\"xMidYMid meet\" xmlns=\"http://www.w3.org/2000/svg\" version=\"1.1\"><text x=\"-77.54933054248491\" style=\"font-family: NewComputerModern; text-anchor: start; vector-effect: non-scaling-stroke; font-size: 10.0pt; fill: blue; font-style: italic; font-weight: ; \" transform=\"translate(0 5.28066651026408) rotate(-0.0, -77.54933054248491, -2.64033325513204)\" y=\"-2.64033325513204\">e</text><text x=\"-71.30933061242102\" style=\"font-family: NewComputerModern; text-anchor: start; vector-effect: non-scaling-stroke; font-size: 6.0pt; fill: blue; font-style: italic; font-weight: ; \" transform=\"translate(0 -6.212666670481362) rotate(-0.0, -71.30933061242102, 3.106333335240681)\" y=\"3.106333335240681\">x</text><text x=\"-64.93066385388374\" style=\"font-family: NewComputerModern Math; text-anchor: start; vector-effect: non-scaling-stroke; font-size: 10.0pt; fill: blue; font-style: ; font-weight: ; \" transform=\"translate(0 5.28066651026408) rotate(-0.0, -64.93066385388374, -2.64033325513204)\" y=\"-2.64033325513204\">&#61;</text><text x=\"-51.89066424965858\" style=\"font-family: NewComputerModern Math; text-anchor: start; vector-effect: non-scaling-stroke; font-size: 13.333333333333329pt; fill: blue; font-style: ; font-weight: ; \" transform=\"translate(0 7.947333176930746) rotate(-0.0, -51.89066424965858, -3.973666588465373)\" y=\"-3.973666588465373\">∑</text><text x=\"-50.382664551337555\" style=\"font-family: NewComputerModern; text-anchor: start; vector-effect: non-scaling-stroke; font-size: 6.0pt; fill: blue; font-style: italic; font-weight: ; \" transform=\"translate(0 32.84333244959514) rotate(-0.0, -50.382664551337555, -16.42166622479757)\" y=\"-16.42166622479757\">i</text><text x=\"-46.32666443785031\" style=\"font-family: NewComputerModern Math; text-anchor: start; vector-effect: non-scaling-stroke; font-size: 6.0pt; fill: blue; font-style: ; font-weight: ; \" transform=\"translate(0 32.84333244959514) rotate(-0.0, -46.32666443785031, -16.42166622479757)\" y=\"-16.42166622479757\">&#61;</text><text x=\"-38.50266443689662\" style=\"font-family: NewComputerModern Math; text-anchor: start; vector-effect: non-scaling-stroke; font-size: 6.0pt; fill: blue; font-style: ; font-weight: ; \" transform=\"translate(0 32.84333244959514) rotate(-0.0, -38.50266443689662, -16.42166622479757)\" y=\"-16.42166622479757\">0</text><text x=\"-46.26666441559791\" style=\"font-family: NewComputerModern Math; text-anchor: start; vector-effect: non-scaling-stroke; font-size: 6.0pt; fill: blue; font-style: ; font-weight: ; \" transform=\"translate(0 -25.225998401641842) rotate(-0.0, -46.26666441559791, 12.612999200820921)\" y=\"12.612999200820921\">∞</text><polygon points=\"-32.63732925057411 -0.5169999202092495 -18.87599565585454 -0.5169999202092495 -18.87599565585454 -0.016999920209249453 -32.63732925057411 -0.016999920209249453 \" style=\"vector-effect: non-scaling-stroke; fill: blue; \" transform=\"scale(1,-1)\" /><text x=\"-31.200662602980927\" style=\"font-family: NewComputerModern; text-anchor: start; vector-effect: non-scaling-stroke; font-size: 10.0pt; fill: blue; font-style: italic; font-weight: ; \" transform=\"translate(0 -11.045999368031818) rotate(-0.0, -31.200662602980927, 5.522999684015909)\" y=\"5.522999684015909\">x</text><text x=\"-24.293995847304657\" style=\"font-family: NewComputerModern; text-anchor: start; vector-effect: non-scaling-stroke; font-size: 6.0pt; fill: blue; font-style: italic; font-weight: ; \" transform=\"translate(0 -22.539332548777256) rotate(-0.0, -24.293995847304657, 11.269666274388628)\" y=\"11.269666274388628\">n</text><text x=\"-30.22999559839566\" style=\"font-family: NewComputerModern; text-anchor: start; vector-effect: non-scaling-stroke; font-size: 10.0pt; fill: blue; font-style: italic; font-weight: ; \" transform=\"translate(0 24.874000708262127) rotate(-0.0, -30.22999559839566, -12.437000354131063)\" y=\"-12.437000354131063\">n</text><text x=\"-22.736662576595933\" style=\"font-family: NewComputerModern Math; text-anchor: start; vector-effect: non-scaling-stroke; font-size: 10.0pt; fill: blue; font-style: ; font-weight: ; \" transform=\"translate(0 24.874000708262127) rotate(-0.0, -22.736662576595933, -12.437000354131063)\" y=\"-12.437000354131063\">&#33;</text><text x=\"-16.2093328932921\" style=\"font-family: NewComputerModern Math; text-anchor: start; vector-effect: non-scaling-stroke; font-size: 10.0pt; fill: blue; font-style: ; font-weight: ; \" transform=\"translate(0 5.28066651026408) rotate(-0.0, -16.2093328932921, -2.64033325513204)\" y=\"-2.64033325513204\">&#61;</text><text x=\"-3.169333289066941\" style=\"font-family: NewComputerModern Math; text-anchor: start; vector-effect: non-scaling-stroke; font-size: 10.0pt; fill: blue; font-style: ; font-weight: ; \" transform=\"translate(0 5.28066651026408) rotate(-0.0, -3.169333289066941, -2.64033325513204)\" y=\"-2.64033325513204\">1</text><text x=\"6.164000084002822\" style=\"font-family: NewComputerModern Math; text-anchor: start; vector-effect: non-scaling-stroke; font-size: 10.0pt; fill: blue; font-style: ; font-weight: ; \" transform=\"translate(0 5.28066651026408) rotate(-0.0, 6.164000084002822, -2.64033325513204)\" y=\"-2.64033325513204\">&#43;</text><text x=\"19.20399968822798\" style=\"font-family: NewComputerModern; text-anchor: start; vector-effect: non-scaling-stroke; font-size: 10.0pt; fill: blue; font-style: italic; font-weight: ; \" transform=\"translate(0 5.28066651026408) rotate(-0.0, 19.20399968822798, -2.64033325513204)\" y=\"-2.64033325513204\">x</text><text x=\"28.057336062192917\" style=\"font-family: NewComputerModern Math; text-anchor: start; vector-effect: non-scaling-stroke; font-size: 10.0pt; fill: blue; font-style: ; font-weight: ; \" transform=\"translate(0 5.28066651026408) rotate(-0.0, 28.057336062192917, -2.64033325513204)\" y=\"-2.64033325513204\">&#43;</text><polygon points=\"41.09732930858931 -0.5169999202092495 53.76266270875928 -0.5169999202092495 53.76266270875928 -0.016999920209249453 41.09732930858931 -0.016999920209249453 \" style=\"vector-effect: non-scaling-stroke; fill: blue; \" transform=\"scale(1,-1)\" /><text x=\"42.53399595618248\" style=\"font-family: NewComputerModern; text-anchor: start; vector-effect: non-scaling-stroke; font-size: 10.0pt; fill: blue; font-style: italic; font-weight: ; \" transform=\"translate(0 -11.045999368031818) rotate(-0.0, 42.53399595618248, 5.522999684015909)\" y=\"5.522999684015909\">x</text><text x=\"49.44066271185875\" style=\"font-family: NewComputerModern Math; text-anchor: start; vector-effect: non-scaling-stroke; font-size: 6.0pt; fill: blue; font-style: ; font-weight: ; \" transform=\"translate(0 -22.539332548777256) rotate(-0.0, 49.44066271185875, 11.269666274388628)\" y=\"11.269666274388628\">2</text><text x=\"44.769996255636215\" style=\"font-family: NewComputerModern Math; text-anchor: start; vector-effect: non-scaling-stroke; font-size: 10.0pt; fill: blue; font-style: ; font-weight: ; \" transform=\"translate(0 23.540667057037354) rotate(-0.0, 44.769996255636215, -11.770333528518677)\" y=\"-11.770333528518677\">2</text><text x=\"56.429337710142136\" style=\"font-family: NewComputerModern Math; text-anchor: start; vector-effect: non-scaling-stroke; font-size: 10.0pt; fill: blue; font-style: ; font-weight: ; \" transform=\"translate(0 5.28066651026408) rotate(-0.0, 56.429337710142136, -2.64033325513204)\" y=\"-2.64033325513204\">&#43;</text><text x=\"69.46933095653853\" style=\"font-family: NewComputerModern Math; text-anchor: start; vector-effect: non-scaling-stroke; font-size: 10.0pt; fill: blue; font-style: ; font-weight: ; \" transform=\"translate(0 5.28066651026408) rotate(-0.0, 69.46933095653853, -2.64033325513204)\" y=\"-2.64033325513204\">⋯</text><polygon points=\"-76.02933054169017 -16.597666343053177 79.06933054327965 -16.597666343053177 79.06933054327965 16.597666343053184 -76.02933054169017 16.597666343053184 \" style=\"vector-effect: non-scaling-stroke; fill: blue; fill-opacity: 0; \" transform=\"scale(1,-1)\" /></svg>"
      ],
      "text/plain": [
       "<svg height=\"100\" viewBox=\"-78.76123100717861 -18.69599341551463 159.51121201515195 36.97431022326151\" width=\"464.5520123490477\" preserveAspectRatio=\"xMidYMid meet\" xmlns=\"http://www.w3.org/2000/svg\" version=\"1.1\"><text x=\"-77.54933054248491\" style=\"font-family: NewComputerModern; text-anchor: start; vector-effect: non-scaling-stroke; font-size: 10.0pt; fill: blue; font-style: italic; font-weight: ; \" transform=\"translate(0 5.28066651026408) rotate(-0.0, -77.54933054248491, -2.64033325513204)\" y=\"-2.64033325513204\">e</text><text x=\"-71.30933061242102\" style=\"font-family: NewComputerModern; text-anchor: start; vector-effect: non-scaling-stroke; font-size: 6.0pt; fill: blue; font-style: italic; font-weight: ; \" transform=\"translate(0 -6.212666670481362) rotate(-0.0, -71.30933061242102, 3.106333335240681)\" y=\"3.106333335240681\">x</text><text x=\"-64.93066385388374\" style=\"font-family: NewComputerModern Math; text-anchor: start; vector-effect: non-scaling-stroke; font-size: 10.0pt; fill: blue; font-style: ; font-weight: ; \" transform=\"translate(0 5.28066651026408) rotate(-0.0, -64.93066385388374, -2.64033325513204)\" y=\"-2.64033325513204\">&#61;</text><text x=\"-51.89066424965858\" style=\"font-family: NewComputerModern Math; text-anchor: start; vector-effect: non-scaling-stroke; font-size: 13.333333333333329pt; fill: blue; font-style: ; font-weight: ; \" transform=\"translate(0 7.947333176930746) rotate(-0.0, -51.89066424965858, -3.973666588465373)\" y=\"-3.973666588465373\">∑</text><text x=\"-50.382664551337555\" style=\"font-family: NewComputerModern; text-anchor: start; vector-effect: non-scaling-stroke; font-size: 6.0pt; fill: blue; font-style: italic; font-weight: ; \" transform=\"translate(0 32.84333244959514) rotate(-0.0, -50.382664551337555, -16.42166622479757)\" y=\"-16.42166622479757\">i</text><text x=\"-46.32666443785031\" style=\"font-family: NewComputerModern Math; text-anchor: start; vector-effect: non-scaling-stroke; font-size: 6.0pt; fill: blue; font-style: ; font-weight: ; \" transform=\"translate(0 32.84333244959514) rotate(-0.0, -46.32666443785031, -16.42166622479757)\" y=\"-16.42166622479757\">&#61;</text><text x=\"-38.50266443689662\" style=\"font-family: NewComputerModern Math; text-anchor: start; vector-effect: non-scaling-stroke; font-size: 6.0pt; fill: blue; font-style: ; font-weight: ; \" transform=\"translate(0 32.84333244959514) rotate(-0.0, -38.50266443689662, -16.42166622479757)\" y=\"-16.42166622479757\">0</text><text x=\"-46.26666441559791\" style=\"font-family: NewComputerModern Math; text-anchor: start; vector-effect: non-scaling-stroke; font-size: 6.0pt; fill: blue; font-style: ; font-weight: ; \" transform=\"translate(0 -25.225998401641842) rotate(-0.0, -46.26666441559791, 12.612999200820921)\" y=\"12.612999200820921\">∞</text><polygon points=\"-32.63732925057411 -0.5169999202092495 -18.87599565585454 -0.5169999202092495 -18.87599565585454 -0.016999920209249453 -32.63732925057411 -0.016999920209249453 \" style=\"vector-effect: non-scaling-stroke; fill: blue; \" transform=\"scale(1,-1)\" /><text x=\"-31.200662602980927\" style=\"font-family: NewComputerModern; text-anchor: start; vector-effect: non-scaling-stroke; font-size: 10.0pt; fill: blue; font-style: italic; font-weight: ; \" transform=\"translate(0 -11.045999368031818) rotate(-0.0, -31.200662602980927, 5.522999684015909)\" y=\"5.522999684015909\">x</text><text x=\"-24.293995847304657\" style=\"font-family: NewComputerModern; text-anchor: start; vector-effect: non-scaling-stroke; font-size: 6.0pt; fill: blue; font-style: italic; font-weight: ; \" transform=\"translate(0 -22.539332548777256) rotate(-0.0, -24.293995847304657, 11.269666274388628)\" y=\"11.269666274388628\">n</text><text x=\"-30.22999559839566\" style=\"font-family: NewComputerModern; text-anchor: start; vector-effect: non-scaling-stroke; font-size: 10.0pt; fill: blue; font-style: italic; font-weight: ; \" transform=\"translate(0 24.874000708262127) rotate(-0.0, -30.22999559839566, -12.437000354131063)\" y=\"-12.437000354131063\">n</text><text x=\"-22.736662576595933\" style=\"font-family: NewComputerModern Math; text-anchor: start; vector-effect: non-scaling-stroke; font-size: 10.0pt; fill: blue; font-style: ; font-weight: ; \" transform=\"translate(0 24.874000708262127) rotate(-0.0, -22.736662576595933, -12.437000354131063)\" y=\"-12.437000354131063\">&#33;</text><text x=\"-16.2093328932921\" style=\"font-family: NewComputerModern Math; text-anchor: start; vector-effect: non-scaling-stroke; font-size: 10.0pt; fill: blue; font-style: ; font-weight: ; \" transform=\"translate(0 5.28066651026408) rotate(-0.0, -16.2093328932921, -2.64033325513204)\" y=\"-2.64033325513204\">&#61;</text><text x=\"-3.169333289066941\" style=\"font-family: NewComputerModern Math; text-anchor: start; vector-effect: non-scaling-stroke; font-size: 10.0pt; fill: blue; font-style: ; font-weight: ; \" transform=\"translate(0 5.28066651026408) rotate(-0.0, -3.169333289066941, -2.64033325513204)\" y=\"-2.64033325513204\">1</text><text x=\"6.164000084002822\" style=\"font-family: NewComputerModern Math; text-anchor: start; vector-effect: non-scaling-stroke; font-size: 10.0pt; fill: blue; font-style: ; font-weight: ; \" transform=\"translate(0 5.28066651026408) rotate(-0.0, 6.164000084002822, -2.64033325513204)\" y=\"-2.64033325513204\">&#43;</text><text x=\"19.20399968822798\" style=\"font-family: NewComputerModern; text-anchor: start; vector-effect: non-scaling-stroke; font-size: 10.0pt; fill: blue; font-style: italic; font-weight: ; \" transform=\"translate(0 5.28066651026408) rotate(-0.0, 19.20399968822798, -2.64033325513204)\" y=\"-2.64033325513204\">x</text><text x=\"28.057336062192917\" style=\"font-family: NewComputerModern Math; text-anchor: start; vector-effect: non-scaling-stroke; font-size: 10.0pt; fill: blue; font-style: ; font-weight: ; \" transform=\"translate(0 5.28066651026408) rotate(-0.0, 28.057336062192917, -2.64033325513204)\" y=\"-2.64033325513204\">&#43;</text><polygon points=\"41.09732930858931 -0.5169999202092495 53.76266270875928 -0.5169999202092495 53.76266270875928 -0.016999920209249453 41.09732930858931 -0.016999920209249453 \" style=\"vector-effect: non-scaling-stroke; fill: blue; \" transform=\"scale(1,-1)\" /><text x=\"42.53399595618248\" style=\"font-family: NewComputerModern; text-anchor: start; vector-effect: non-scaling-stroke; font-size: 10.0pt; fill: blue; font-style: italic; font-weight: ; \" transform=\"translate(0 -11.045999368031818) rotate(-0.0, 42.53399595618248, 5.522999684015909)\" y=\"5.522999684015909\">x</text><text x=\"49.44066271185875\" style=\"font-family: NewComputerModern Math; text-anchor: start; vector-effect: non-scaling-stroke; font-size: 6.0pt; fill: blue; font-style: ; font-weight: ; \" transform=\"translate(0 -22.539332548777256) rotate(-0.0, 49.44066271185875, 11.269666274388628)\" y=\"11.269666274388628\">2</text><text x=\"44.769996255636215\" style=\"font-family: NewComputerModern Math; text-anchor: start; vector-effect: non-scaling-stroke; font-size: 10.0pt; fill: blue; font-style: ; font-weight: ; \" transform=\"translate(0 23.540667057037354) rotate(-0.0, 44.769996255636215, -11.770333528518677)\" y=\"-11.770333528518677\">2</text><text x=\"56.429337710142136\" style=\"font-family: NewComputerModern Math; text-anchor: start; vector-effect: non-scaling-stroke; font-size: 10.0pt; fill: blue; font-style: ; font-weight: ; \" transform=\"translate(0 5.28066651026408) rotate(-0.0, 56.429337710142136, -2.64033325513204)\" y=\"-2.64033325513204\">&#43;</text><text x=\"69.46933095653853\" style=\"font-family: NewComputerModern Math; text-anchor: start; vector-effect: non-scaling-stroke; font-size: 10.0pt; fill: blue; font-style: ; font-weight: ; \" transform=\"translate(0 5.28066651026408) rotate(-0.0, 69.46933095653853, -2.64033325513204)\" y=\"-2.64033325513204\">⋯</text><polygon points=\"-76.02933054169017 -16.597666343053177 79.06933054327965 -16.597666343053177 79.06933054327965 16.597666343053184 -76.02933054169017 16.597666343053184 \" style=\"vector-effect: non-scaling-stroke; fill: blue; fill-opacity: 0; \" transform=\"scale(1,-1)\" /></svg>"
      ]
     },
     "execution_count": 17,
     "metadata": {},
     "output_type": "execute_result"
    }
   ],
   "source": [
    "using LaTeXStrings\n",
    "d = S(:fill=>:blue)TextMark(text=L\"e^x = \\sum^\\infty_{i=0}\\frac{x^n}{n!} = 1 + x + \\frac{x^2}{2} + \\cdots\")\n",
    "draw(d,height=100)"
   ]
  },
  {
   "cell_type": "markdown",
   "id": "69b7c509-255b-41ad-8556-60f19d96ec01",
   "metadata": {},
   "source": [
    "## 6. A Final Example\n",
    "\n",
    "We end this tutorial with a fractal diagram."
   ]
  },
  {
   "cell_type": "code",
   "execution_count": 18,
   "id": "0273e74a-70d6-432f-b484-23147989a1a6",
   "metadata": {},
   "outputs": [
    {
     "data": {
      "text/html": [
       "<svg height=\"300\" viewBox=\"-0.5010416666666667 -1.0166666666666666 1.0333333333333334 1.0333333333333334\" width=\"300.0\" preserveAspectRatio=\"xMidYMid meet\" xmlns=\"http://www.w3.org/2000/svg\" version=\"1.1\"><polygon points=\"-0.453125 0.0 -0.484375 0.0 -0.46875 0.03125 \" style=\"vector-effect: non-scaling-stroke; \" transform=\"scale(1,-1)\" /><polygon points=\"-0.4375 0.03125 -0.46875 0.03125 -0.453125 0.0625 \" style=\"vector-effect: non-scaling-stroke; \" transform=\"scale(1,-1)\" /><polygon points=\"-0.421875 0.0 -0.453125 0.0 -0.4375 0.03125 \" style=\"vector-effect: non-scaling-stroke; \" transform=\"scale(1,-1)\" /><polygon points=\"-0.421875 0.0625 -0.453125 0.0625 -0.4375 0.09375 \" style=\"vector-effect: non-scaling-stroke; \" transform=\"scale(1,-1)\" /><polygon points=\"-0.40625 0.09375 -0.4375 0.09375 -0.421875 0.125 \" style=\"vector-effect: non-scaling-stroke; \" transform=\"scale(1,-1)\" /><polygon points=\"-0.390625 0.0625 -0.421875 0.0625 -0.40625 0.09375 \" style=\"vector-effect: non-scaling-stroke; \" transform=\"scale(1,-1)\" /><polygon points=\"-0.390625 0.0 -0.421875 0.0 -0.40625 0.03125 \" style=\"vector-effect: non-scaling-stroke; \" transform=\"scale(1,-1)\" /><polygon points=\"-0.375 0.03125 -0.40625 0.03125 -0.390625 0.0625 \" style=\"vector-effect: non-scaling-stroke; \" transform=\"scale(1,-1)\" /><polygon points=\"-0.359375 0.0 -0.390625 0.0 -0.375 0.03125 \" style=\"vector-effect: non-scaling-stroke; \" transform=\"scale(1,-1)\" /><polygon points=\"-0.390625 0.125 -0.421875 0.125 -0.40625 0.15625 \" style=\"vector-effect: non-scaling-stroke; \" transform=\"scale(1,-1)\" /><polygon points=\"-0.375 0.15625 -0.40625 0.15625 -0.390625 0.1875 \" style=\"vector-effect: non-scaling-stroke; \" transform=\"scale(1,-1)\" /><polygon points=\"-0.359375 0.125 -0.390625 0.125 -0.375 0.15625 \" style=\"vector-effect: non-scaling-stroke; \" transform=\"scale(1,-1)\" /><polygon points=\"-0.359375 0.1875 -0.390625 0.1875 -0.375 0.21875 \" style=\"vector-effect: non-scaling-stroke; \" transform=\"scale(1,-1)\" /><polygon points=\"-0.34375 0.21875 -0.375 0.21875 -0.359375 0.25 \" style=\"vector-effect: non-scaling-stroke; \" transform=\"scale(1,-1)\" /><polygon points=\"-0.328125 0.1875 -0.359375 0.1875 -0.34375 0.21875 \" style=\"vector-effect: non-scaling-stroke; \" transform=\"scale(1,-1)\" /><polygon points=\"-0.328125 0.125 -0.359375 0.125 -0.34375 0.15625 \" style=\"vector-effect: non-scaling-stroke; \" transform=\"scale(1,-1)\" /><polygon points=\"-0.3125 0.15625 -0.34375 0.15625 -0.328125 0.1875 \" style=\"vector-effect: non-scaling-stroke; \" transform=\"scale(1,-1)\" /><polygon points=\"-0.296875 0.125 -0.328125 0.125 -0.3125 0.15625 \" style=\"vector-effect: non-scaling-stroke; \" transform=\"scale(1,-1)\" /><polygon points=\"-0.328125 0.0 -0.359375 0.0 -0.34375 0.03125 \" style=\"vector-effect: non-scaling-stroke; \" transform=\"scale(1,-1)\" /><polygon points=\"-0.3125 0.03125 -0.34375 0.03125 -0.328125 0.0625 \" style=\"vector-effect: non-scaling-stroke; \" transform=\"scale(1,-1)\" /><polygon points=\"-0.296875 0.0 -0.328125 0.0 -0.3125 0.03125 \" style=\"vector-effect: non-scaling-stroke; \" transform=\"scale(1,-1)\" /><polygon points=\"-0.296875 0.0625 -0.328125 0.0625 -0.3125 0.09375 \" style=\"vector-effect: non-scaling-stroke; \" transform=\"scale(1,-1)\" /><polygon points=\"-0.28125 0.09375 -0.3125 0.09375 -0.296875 0.125 \" style=\"vector-effect: non-scaling-stroke; \" transform=\"scale(1,-1)\" /><polygon points=\"-0.265625 0.0625 -0.296875 0.0625 -0.28125 0.09375 \" style=\"vector-effect: non-scaling-stroke; \" transform=\"scale(1,-1)\" /><polygon points=\"-0.265625 0.0 -0.296875 0.0 -0.28125 0.03125 \" style=\"vector-effect: non-scaling-stroke; \" transform=\"scale(1,-1)\" /><polygon points=\"-0.25 0.03125 -0.28125 0.03125 -0.265625 0.0625 \" style=\"vector-effect: non-scaling-stroke; \" transform=\"scale(1,-1)\" /><polygon points=\"-0.234375 0.0 -0.265625 0.0 -0.25 0.03125 \" style=\"vector-effect: non-scaling-stroke; \" transform=\"scale(1,-1)\" /><polygon points=\"-0.328125 0.25 -0.359375 0.25 -0.34375 0.28125 \" style=\"vector-effect: non-scaling-stroke; \" transform=\"scale(1,-1)\" /><polygon points=\"-0.3125 0.28125 -0.34375 0.28125 -0.328125 0.3125 \" style=\"vector-effect: non-scaling-stroke; \" transform=\"scale(1,-1)\" /><polygon points=\"-0.296875 0.25 -0.328125 0.25 -0.3125 0.28125 \" style=\"vector-effect: non-scaling-stroke; \" transform=\"scale(1,-1)\" /><polygon points=\"-0.296875 0.3125 -0.328125 0.3125 -0.3125 0.34375 \" style=\"vector-effect: non-scaling-stroke; \" transform=\"scale(1,-1)\" /><polygon points=\"-0.28125 0.34375 -0.3125 0.34375 -0.296875 0.375 \" style=\"vector-effect: non-scaling-stroke; \" transform=\"scale(1,-1)\" /><polygon points=\"-0.265625 0.3125 -0.296875 0.3125 -0.28125 0.34375 \" style=\"vector-effect: non-scaling-stroke; \" transform=\"scale(1,-1)\" /><polygon points=\"-0.265625 0.25 -0.296875 0.25 -0.28125 0.28125 \" style=\"vector-effect: non-scaling-stroke; \" transform=\"scale(1,-1)\" /><polygon points=\"-0.25 0.28125 -0.28125 0.28125 -0.265625 0.3125 \" style=\"vector-effect: non-scaling-stroke; \" transform=\"scale(1,-1)\" /><polygon points=\"-0.234375 0.25 -0.265625 0.25 -0.25 0.28125 \" style=\"vector-effect: non-scaling-stroke; \" transform=\"scale(1,-1)\" /><polygon points=\"-0.265625 0.375 -0.296875 0.375 -0.28125 0.40625 \" style=\"vector-effect: non-scaling-stroke; \" transform=\"scale(1,-1)\" /><polygon points=\"-0.25 0.40625 -0.28125 0.40625 -0.265625 0.4375 \" style=\"vector-effect: non-scaling-stroke; \" transform=\"scale(1,-1)\" /><polygon points=\"-0.234375 0.375 -0.265625 0.375 -0.25 0.40625 \" style=\"vector-effect: non-scaling-stroke; \" transform=\"scale(1,-1)\" /><polygon points=\"-0.234375 0.4375 -0.265625 0.4375 -0.25 0.46875 \" style=\"vector-effect: non-scaling-stroke; \" transform=\"scale(1,-1)\" /><polygon points=\"-0.21875 0.46875 -0.25 0.46875 -0.234375 0.5 \" style=\"vector-effect: non-scaling-stroke; \" transform=\"scale(1,-1)\" /><polygon points=\"-0.203125 0.4375 -0.234375 0.4375 -0.21875 0.46875 \" style=\"vector-effect: non-scaling-stroke; \" transform=\"scale(1,-1)\" /><polygon points=\"-0.203125 0.375 -0.234375 0.375 -0.21875 0.40625 \" style=\"vector-effect: non-scaling-stroke; \" transform=\"scale(1,-1)\" /><polygon points=\"-0.1875 0.40625 -0.21875 0.40625 -0.203125 0.4375 \" style=\"vector-effect: non-scaling-stroke; \" transform=\"scale(1,-1)\" /><polygon points=\"-0.171875 0.375 -0.203125 0.375 -0.1875 0.40625 \" style=\"vector-effect: non-scaling-stroke; \" transform=\"scale(1,-1)\" /><polygon points=\"-0.203125 0.25 -0.234375 0.25 -0.21875 0.28125 \" style=\"vector-effect: non-scaling-stroke; \" transform=\"scale(1,-1)\" /><polygon points=\"-0.1875 0.28125 -0.21875 0.28125 -0.203125 0.3125 \" style=\"vector-effect: non-scaling-stroke; \" transform=\"scale(1,-1)\" /><polygon points=\"-0.171875 0.25 -0.203125 0.25 -0.1875 0.28125 \" style=\"vector-effect: non-scaling-stroke; \" transform=\"scale(1,-1)\" /><polygon points=\"-0.171875 0.3125 -0.203125 0.3125 -0.1875 0.34375 \" style=\"vector-effect: non-scaling-stroke; \" transform=\"scale(1,-1)\" /><polygon points=\"-0.15625 0.34375 -0.1875 0.34375 -0.171875 0.375 \" style=\"vector-effect: non-scaling-stroke; \" transform=\"scale(1,-1)\" /><polygon points=\"-0.140625 0.3125 -0.171875 0.3125 -0.15625 0.34375 \" style=\"vector-effect: non-scaling-stroke; \" transform=\"scale(1,-1)\" /><polygon points=\"-0.140625 0.25 -0.171875 0.25 -0.15625 0.28125 \" style=\"vector-effect: non-scaling-stroke; \" transform=\"scale(1,-1)\" /><polygon points=\"-0.125 0.28125 -0.15625 0.28125 -0.140625 0.3125 \" style=\"vector-effect: non-scaling-stroke; \" transform=\"scale(1,-1)\" /><polygon points=\"-0.109375 0.25 -0.140625 0.25 -0.125 0.28125 \" style=\"vector-effect: non-scaling-stroke; \" transform=\"scale(1,-1)\" /><polygon points=\"-0.203125 0.0 -0.234375 0.0 -0.21875 0.03125 \" style=\"vector-effect: non-scaling-stroke; \" transform=\"scale(1,-1)\" /><polygon points=\"-0.1875 0.03125 -0.21875 0.03125 -0.203125 0.0625 \" style=\"vector-effect: non-scaling-stroke; \" transform=\"scale(1,-1)\" /><polygon points=\"-0.171875 0.0 -0.203125 0.0 -0.1875 0.03125 \" style=\"vector-effect: non-scaling-stroke; \" transform=\"scale(1,-1)\" /><polygon points=\"-0.171875 0.0625 -0.203125 0.0625 -0.1875 0.09375 \" style=\"vector-effect: non-scaling-stroke; \" transform=\"scale(1,-1)\" /><polygon points=\"-0.15625 0.09375 -0.1875 0.09375 -0.171875 0.125 \" style=\"vector-effect: non-scaling-stroke; \" transform=\"scale(1,-1)\" /><polygon points=\"-0.140625 0.0625 -0.171875 0.0625 -0.15625 0.09375 \" style=\"vector-effect: non-scaling-stroke; \" transform=\"scale(1,-1)\" /><polygon points=\"-0.140625 0.0 -0.171875 0.0 -0.15625 0.03125 \" style=\"vector-effect: non-scaling-stroke; \" transform=\"scale(1,-1)\" /><polygon points=\"-0.125 0.03125 -0.15625 0.03125 -0.140625 0.0625 \" style=\"vector-effect: non-scaling-stroke; \" transform=\"scale(1,-1)\" /><polygon points=\"-0.109375 0.0 -0.140625 0.0 -0.125 0.03125 \" style=\"vector-effect: non-scaling-stroke; \" transform=\"scale(1,-1)\" /><polygon points=\"-0.140625 0.125 -0.171875 0.125 -0.15625 0.15625 \" style=\"vector-effect: non-scaling-stroke; \" transform=\"scale(1,-1)\" /><polygon points=\"-0.125 0.15625 -0.15625 0.15625 -0.140625 0.1875 \" style=\"vector-effect: non-scaling-stroke; \" transform=\"scale(1,-1)\" /><polygon points=\"-0.109375 0.125 -0.140625 0.125 -0.125 0.15625 \" style=\"vector-effect: non-scaling-stroke; \" transform=\"scale(1,-1)\" /><polygon points=\"-0.109375 0.1875 -0.140625 0.1875 -0.125 0.21875 \" style=\"vector-effect: non-scaling-stroke; \" transform=\"scale(1,-1)\" /><polygon points=\"-0.09375 0.21875 -0.125 0.21875 -0.109375 0.25 \" style=\"vector-effect: non-scaling-stroke; \" transform=\"scale(1,-1)\" /><polygon points=\"-0.078125 0.1875 -0.109375 0.1875 -0.09375 0.21875 \" style=\"vector-effect: non-scaling-stroke; \" transform=\"scale(1,-1)\" /><polygon points=\"-0.078125 0.125 -0.109375 0.125 -0.09375 0.15625 \" style=\"vector-effect: non-scaling-stroke; \" transform=\"scale(1,-1)\" /><polygon points=\"-0.0625 0.15625 -0.09375 0.15625 -0.078125 0.1875 \" style=\"vector-effect: non-scaling-stroke; \" transform=\"scale(1,-1)\" /><polygon points=\"-0.046875 0.125 -0.078125 0.125 -0.0625 0.15625 \" style=\"vector-effect: non-scaling-stroke; \" transform=\"scale(1,-1)\" /><polygon points=\"-0.078125 0.0 -0.109375 0.0 -0.09375 0.03125 \" style=\"vector-effect: non-scaling-stroke; \" transform=\"scale(1,-1)\" /><polygon points=\"-0.0625 0.03125 -0.09375 0.03125 -0.078125 0.0625 \" style=\"vector-effect: non-scaling-stroke; \" transform=\"scale(1,-1)\" /><polygon points=\"-0.046875 0.0 -0.078125 0.0 -0.0625 0.03125 \" style=\"vector-effect: non-scaling-stroke; \" transform=\"scale(1,-1)\" /><polygon points=\"-0.046875 0.0625 -0.078125 0.0625 -0.0625 0.09375 \" style=\"vector-effect: non-scaling-stroke; \" transform=\"scale(1,-1)\" /><polygon points=\"-0.03125 0.09375 -0.0625 0.09375 -0.046875 0.125 \" style=\"vector-effect: non-scaling-stroke; \" transform=\"scale(1,-1)\" /><polygon points=\"-0.015625 0.0625 -0.046875 0.0625 -0.03125 0.09375 \" style=\"vector-effect: non-scaling-stroke; \" transform=\"scale(1,-1)\" /><polygon points=\"-0.015625 0.0 -0.046875 0.0 -0.03125 0.03125 \" style=\"vector-effect: non-scaling-stroke; \" transform=\"scale(1,-1)\" /><polygon points=\"0.0 0.03125 -0.03125 0.03125 -0.015625 0.0625 \" style=\"vector-effect: non-scaling-stroke; \" transform=\"scale(1,-1)\" /><polygon points=\"0.015625 0.0 -0.015625 0.0 0.0 0.03125 \" style=\"vector-effect: non-scaling-stroke; \" transform=\"scale(1,-1)\" /><polygon points=\"-0.203125 0.5 -0.234375 0.5 -0.21875 0.53125 \" style=\"vector-effect: non-scaling-stroke; \" transform=\"scale(1,-1)\" /><polygon points=\"-0.1875 0.53125 -0.21875 0.53125 -0.203125 0.5625 \" style=\"vector-effect: non-scaling-stroke; \" transform=\"scale(1,-1)\" /><polygon points=\"-0.171875 0.5 -0.203125 0.5 -0.1875 0.53125 \" style=\"vector-effect: non-scaling-stroke; \" transform=\"scale(1,-1)\" /><polygon points=\"-0.171875 0.5625 -0.203125 0.5625 -0.1875 0.59375 \" style=\"vector-effect: non-scaling-stroke; \" transform=\"scale(1,-1)\" /><polygon points=\"-0.15625 0.59375 -0.1875 0.59375 -0.171875 0.625 \" style=\"vector-effect: non-scaling-stroke; \" transform=\"scale(1,-1)\" /><polygon points=\"-0.140625 0.5625 -0.171875 0.5625 -0.15625 0.59375 \" style=\"vector-effect: non-scaling-stroke; \" transform=\"scale(1,-1)\" /><polygon points=\"-0.140625 0.5 -0.171875 0.5 -0.15625 0.53125 \" style=\"vector-effect: non-scaling-stroke; \" transform=\"scale(1,-1)\" /><polygon points=\"-0.125 0.53125 -0.15625 0.53125 -0.140625 0.5625 \" style=\"vector-effect: non-scaling-stroke; \" transform=\"scale(1,-1)\" /><polygon points=\"-0.109375 0.5 -0.140625 0.5 -0.125 0.53125 \" style=\"vector-effect: non-scaling-stroke; \" transform=\"scale(1,-1)\" /><polygon points=\"-0.140625 0.625 -0.171875 0.625 -0.15625 0.65625 \" style=\"vector-effect: non-scaling-stroke; \" transform=\"scale(1,-1)\" /><polygon points=\"-0.125 0.65625 -0.15625 0.65625 -0.140625 0.6875 \" style=\"vector-effect: non-scaling-stroke; \" transform=\"scale(1,-1)\" /><polygon points=\"-0.109375 0.625 -0.140625 0.625 -0.125 0.65625 \" style=\"vector-effect: non-scaling-stroke; \" transform=\"scale(1,-1)\" /><polygon points=\"-0.109375 0.6875 -0.140625 0.6875 -0.125 0.71875 \" style=\"vector-effect: non-scaling-stroke; \" transform=\"scale(1,-1)\" /><polygon points=\"-0.09375 0.71875 -0.125 0.71875 -0.109375 0.75 \" style=\"vector-effect: non-scaling-stroke; \" transform=\"scale(1,-1)\" /><polygon points=\"-0.078125 0.6875 -0.109375 0.6875 -0.09375 0.71875 \" style=\"vector-effect: non-scaling-stroke; \" transform=\"scale(1,-1)\" /><polygon points=\"-0.078125 0.625 -0.109375 0.625 -0.09375 0.65625 \" style=\"vector-effect: non-scaling-stroke; \" transform=\"scale(1,-1)\" /><polygon points=\"-0.0625 0.65625 -0.09375 0.65625 -0.078125 0.6875 \" style=\"vector-effect: non-scaling-stroke; \" transform=\"scale(1,-1)\" /><polygon points=\"-0.046875 0.625 -0.078125 0.625 -0.0625 0.65625 \" style=\"vector-effect: non-scaling-stroke; \" transform=\"scale(1,-1)\" /><polygon points=\"-0.078125 0.5 -0.109375 0.5 -0.09375 0.53125 \" style=\"vector-effect: non-scaling-stroke; \" transform=\"scale(1,-1)\" /><polygon points=\"-0.0625 0.53125 -0.09375 0.53125 -0.078125 0.5625 \" style=\"vector-effect: non-scaling-stroke; \" transform=\"scale(1,-1)\" /><polygon points=\"-0.046875 0.5 -0.078125 0.5 -0.0625 0.53125 \" style=\"vector-effect: non-scaling-stroke; \" transform=\"scale(1,-1)\" /><polygon points=\"-0.046875 0.5625 -0.078125 0.5625 -0.0625 0.59375 \" style=\"vector-effect: non-scaling-stroke; \" transform=\"scale(1,-1)\" /><polygon points=\"-0.03125 0.59375 -0.0625 0.59375 -0.046875 0.625 \" style=\"vector-effect: non-scaling-stroke; \" transform=\"scale(1,-1)\" /><polygon points=\"-0.015625 0.5625 -0.046875 0.5625 -0.03125 0.59375 \" style=\"vector-effect: non-scaling-stroke; \" transform=\"scale(1,-1)\" /><polygon points=\"-0.015625 0.5 -0.046875 0.5 -0.03125 0.53125 \" style=\"vector-effect: non-scaling-stroke; \" transform=\"scale(1,-1)\" /><polygon points=\"0.0 0.53125 -0.03125 0.53125 -0.015625 0.5625 \" style=\"vector-effect: non-scaling-stroke; \" transform=\"scale(1,-1)\" /><polygon points=\"0.015625 0.5 -0.015625 0.5 0.0 0.53125 \" style=\"vector-effect: non-scaling-stroke; \" transform=\"scale(1,-1)\" /><polygon points=\"-0.078125 0.75 -0.109375 0.75 -0.09375 0.78125 \" style=\"vector-effect: non-scaling-stroke; \" transform=\"scale(1,-1)\" /><polygon points=\"-0.0625 0.78125 -0.09375 0.78125 -0.078125 0.8125 \" style=\"vector-effect: non-scaling-stroke; \" transform=\"scale(1,-1)\" /><polygon points=\"-0.046875 0.75 -0.078125 0.75 -0.0625 0.78125 \" style=\"vector-effect: non-scaling-stroke; \" transform=\"scale(1,-1)\" /><polygon points=\"-0.046875 0.8125 -0.078125 0.8125 -0.0625 0.84375 \" style=\"vector-effect: non-scaling-stroke; \" transform=\"scale(1,-1)\" /><polygon points=\"-0.03125 0.84375 -0.0625 0.84375 -0.046875 0.875 \" style=\"vector-effect: non-scaling-stroke; \" transform=\"scale(1,-1)\" /><polygon points=\"-0.015625 0.8125 -0.046875 0.8125 -0.03125 0.84375 \" style=\"vector-effect: non-scaling-stroke; \" transform=\"scale(1,-1)\" /><polygon points=\"-0.015625 0.75 -0.046875 0.75 -0.03125 0.78125 \" style=\"vector-effect: non-scaling-stroke; \" transform=\"scale(1,-1)\" /><polygon points=\"0.0 0.78125 -0.03125 0.78125 -0.015625 0.8125 \" style=\"vector-effect: non-scaling-stroke; \" transform=\"scale(1,-1)\" /><polygon points=\"0.015625 0.75 -0.015625 0.75 0.0 0.78125 \" style=\"vector-effect: non-scaling-stroke; \" transform=\"scale(1,-1)\" /><polygon points=\"-0.015625 0.875 -0.046875 0.875 -0.03125 0.90625 \" style=\"vector-effect: non-scaling-stroke; \" transform=\"scale(1,-1)\" /><polygon points=\"0.0 0.90625 -0.03125 0.90625 -0.015625 0.9375 \" style=\"vector-effect: non-scaling-stroke; \" transform=\"scale(1,-1)\" /><polygon points=\"0.015625 0.875 -0.015625 0.875 0.0 0.90625 \" style=\"vector-effect: non-scaling-stroke; \" transform=\"scale(1,-1)\" /><polygon points=\"0.015625 0.9375 -0.015625 0.9375 0.0 0.96875 \" style=\"vector-effect: non-scaling-stroke; \" transform=\"scale(1,-1)\" /><polygon points=\"0.03125 0.96875 0.0 0.96875 0.015625 1.0 \" style=\"vector-effect: non-scaling-stroke; \" transform=\"scale(1,-1)\" /><polygon points=\"0.046875 0.9375 0.015625 0.9375 0.03125 0.96875 \" style=\"vector-effect: non-scaling-stroke; \" transform=\"scale(1,-1)\" /><polygon points=\"0.046875 0.875 0.015625 0.875 0.03125 0.90625 \" style=\"vector-effect: non-scaling-stroke; \" transform=\"scale(1,-1)\" /><polygon points=\"0.0625 0.90625 0.03125 0.90625 0.046875 0.9375 \" style=\"vector-effect: non-scaling-stroke; \" transform=\"scale(1,-1)\" /><polygon points=\"0.078125 0.875 0.046875 0.875 0.0625 0.90625 \" style=\"vector-effect: non-scaling-stroke; \" transform=\"scale(1,-1)\" /><polygon points=\"0.046875 0.75 0.015625 0.75 0.03125 0.78125 \" style=\"vector-effect: non-scaling-stroke; \" transform=\"scale(1,-1)\" /><polygon points=\"0.0625 0.78125 0.03125 0.78125 0.046875 0.8125 \" style=\"vector-effect: non-scaling-stroke; \" transform=\"scale(1,-1)\" /><polygon points=\"0.078125 0.75 0.046875 0.75 0.0625 0.78125 \" style=\"vector-effect: non-scaling-stroke; \" transform=\"scale(1,-1)\" /><polygon points=\"0.078125 0.8125 0.046875 0.8125 0.0625 0.84375 \" style=\"vector-effect: non-scaling-stroke; \" transform=\"scale(1,-1)\" /><polygon points=\"0.09375 0.84375 0.0625 0.84375 0.078125 0.875 \" style=\"vector-effect: non-scaling-stroke; \" transform=\"scale(1,-1)\" /><polygon points=\"0.109375 0.8125 0.078125 0.8125 0.09375 0.84375 \" style=\"vector-effect: non-scaling-stroke; \" transform=\"scale(1,-1)\" /><polygon points=\"0.109375 0.75 0.078125 0.75 0.09375 0.78125 \" style=\"vector-effect: non-scaling-stroke; \" transform=\"scale(1,-1)\" /><polygon points=\"0.125 0.78125 0.09375 0.78125 0.109375 0.8125 \" style=\"vector-effect: non-scaling-stroke; \" transform=\"scale(1,-1)\" /><polygon points=\"0.140625 0.75 0.109375 0.75 0.125 0.78125 \" style=\"vector-effect: non-scaling-stroke; \" transform=\"scale(1,-1)\" /><polygon points=\"0.046875 0.5 0.015625 0.5 0.03125 0.53125 \" style=\"vector-effect: non-scaling-stroke; \" transform=\"scale(1,-1)\" /><polygon points=\"0.0625 0.53125 0.03125 0.53125 0.046875 0.5625 \" style=\"vector-effect: non-scaling-stroke; \" transform=\"scale(1,-1)\" /><polygon points=\"0.078125 0.5 0.046875 0.5 0.0625 0.53125 \" style=\"vector-effect: non-scaling-stroke; \" transform=\"scale(1,-1)\" /><polygon points=\"0.078125 0.5625 0.046875 0.5625 0.0625 0.59375 \" style=\"vector-effect: non-scaling-stroke; \" transform=\"scale(1,-1)\" /><polygon points=\"0.09375 0.59375 0.0625 0.59375 0.078125 0.625 \" style=\"vector-effect: non-scaling-stroke; \" transform=\"scale(1,-1)\" /><polygon points=\"0.109375 0.5625 0.078125 0.5625 0.09375 0.59375 \" style=\"vector-effect: non-scaling-stroke; \" transform=\"scale(1,-1)\" /><polygon points=\"0.109375 0.5 0.078125 0.5 0.09375 0.53125 \" style=\"vector-effect: non-scaling-stroke; \" transform=\"scale(1,-1)\" /><polygon points=\"0.125 0.53125 0.09375 0.53125 0.109375 0.5625 \" style=\"vector-effect: non-scaling-stroke; \" transform=\"scale(1,-1)\" /><polygon points=\"0.140625 0.5 0.109375 0.5 0.125 0.53125 \" style=\"vector-effect: non-scaling-stroke; \" transform=\"scale(1,-1)\" /><polygon points=\"0.109375 0.625 0.078125 0.625 0.09375 0.65625 \" style=\"vector-effect: non-scaling-stroke; \" transform=\"scale(1,-1)\" /><polygon points=\"0.125 0.65625 0.09375 0.65625 0.109375 0.6875 \" style=\"vector-effect: non-scaling-stroke; \" transform=\"scale(1,-1)\" /><polygon points=\"0.140625 0.625 0.109375 0.625 0.125 0.65625 \" style=\"vector-effect: non-scaling-stroke; \" transform=\"scale(1,-1)\" /><polygon points=\"0.140625 0.6875 0.109375 0.6875 0.125 0.71875 \" style=\"vector-effect: non-scaling-stroke; \" transform=\"scale(1,-1)\" /><polygon points=\"0.15625 0.71875 0.125 0.71875 0.140625 0.75 \" style=\"vector-effect: non-scaling-stroke; \" transform=\"scale(1,-1)\" /><polygon points=\"0.171875 0.6875 0.140625 0.6875 0.15625 0.71875 \" style=\"vector-effect: non-scaling-stroke; \" transform=\"scale(1,-1)\" /><polygon points=\"0.171875 0.625 0.140625 0.625 0.15625 0.65625 \" style=\"vector-effect: non-scaling-stroke; \" transform=\"scale(1,-1)\" /><polygon points=\"0.1875 0.65625 0.15625 0.65625 0.171875 0.6875 \" style=\"vector-effect: non-scaling-stroke; \" transform=\"scale(1,-1)\" /><polygon points=\"0.203125 0.625 0.171875 0.625 0.1875 0.65625 \" style=\"vector-effect: non-scaling-stroke; \" transform=\"scale(1,-1)\" /><polygon points=\"0.171875 0.5 0.140625 0.5 0.15625 0.53125 \" style=\"vector-effect: non-scaling-stroke; \" transform=\"scale(1,-1)\" /><polygon points=\"0.1875 0.53125 0.15625 0.53125 0.171875 0.5625 \" style=\"vector-effect: non-scaling-stroke; \" transform=\"scale(1,-1)\" /><polygon points=\"0.203125 0.5 0.171875 0.5 0.1875 0.53125 \" style=\"vector-effect: non-scaling-stroke; \" transform=\"scale(1,-1)\" /><polygon points=\"0.203125 0.5625 0.171875 0.5625 0.1875 0.59375 \" style=\"vector-effect: non-scaling-stroke; \" transform=\"scale(1,-1)\" /><polygon points=\"0.21875 0.59375 0.1875 0.59375 0.203125 0.625 \" style=\"vector-effect: non-scaling-stroke; \" transform=\"scale(1,-1)\" /><polygon points=\"0.234375 0.5625 0.203125 0.5625 0.21875 0.59375 \" style=\"vector-effect: non-scaling-stroke; \" transform=\"scale(1,-1)\" /><polygon points=\"0.234375 0.5 0.203125 0.5 0.21875 0.53125 \" style=\"vector-effect: non-scaling-stroke; \" transform=\"scale(1,-1)\" /><polygon points=\"0.25 0.53125 0.21875 0.53125 0.234375 0.5625 \" style=\"vector-effect: non-scaling-stroke; \" transform=\"scale(1,-1)\" /><polygon points=\"0.265625 0.5 0.234375 0.5 0.25 0.53125 \" style=\"vector-effect: non-scaling-stroke; \" transform=\"scale(1,-1)\" /><polygon points=\"0.046875 0.0 0.015625 0.0 0.03125 0.03125 \" style=\"vector-effect: non-scaling-stroke; \" transform=\"scale(1,-1)\" /><polygon points=\"0.0625 0.03125 0.03125 0.03125 0.046875 0.0625 \" style=\"vector-effect: non-scaling-stroke; \" transform=\"scale(1,-1)\" /><polygon points=\"0.078125 0.0 0.046875 0.0 0.0625 0.03125 \" style=\"vector-effect: non-scaling-stroke; \" transform=\"scale(1,-1)\" /><polygon points=\"0.078125 0.0625 0.046875 0.0625 0.0625 0.09375 \" style=\"vector-effect: non-scaling-stroke; \" transform=\"scale(1,-1)\" /><polygon points=\"0.09375 0.09375 0.0625 0.09375 0.078125 0.125 \" style=\"vector-effect: non-scaling-stroke; \" transform=\"scale(1,-1)\" /><polygon points=\"0.109375 0.0625 0.078125 0.0625 0.09375 0.09375 \" style=\"vector-effect: non-scaling-stroke; \" transform=\"scale(1,-1)\" /><polygon points=\"0.109375 0.0 0.078125 0.0 0.09375 0.03125 \" style=\"vector-effect: non-scaling-stroke; \" transform=\"scale(1,-1)\" /><polygon points=\"0.125 0.03125 0.09375 0.03125 0.109375 0.0625 \" style=\"vector-effect: non-scaling-stroke; \" transform=\"scale(1,-1)\" /><polygon points=\"0.140625 0.0 0.109375 0.0 0.125 0.03125 \" style=\"vector-effect: non-scaling-stroke; \" transform=\"scale(1,-1)\" /><polygon points=\"0.109375 0.125 0.078125 0.125 0.09375 0.15625 \" style=\"vector-effect: non-scaling-stroke; \" transform=\"scale(1,-1)\" /><polygon points=\"0.125 0.15625 0.09375 0.15625 0.109375 0.1875 \" style=\"vector-effect: non-scaling-stroke; \" transform=\"scale(1,-1)\" /><polygon points=\"0.140625 0.125 0.109375 0.125 0.125 0.15625 \" style=\"vector-effect: non-scaling-stroke; \" transform=\"scale(1,-1)\" /><polygon points=\"0.140625 0.1875 0.109375 0.1875 0.125 0.21875 \" style=\"vector-effect: non-scaling-stroke; \" transform=\"scale(1,-1)\" /><polygon points=\"0.15625 0.21875 0.125 0.21875 0.140625 0.25 \" style=\"vector-effect: non-scaling-stroke; \" transform=\"scale(1,-1)\" /><polygon points=\"0.171875 0.1875 0.140625 0.1875 0.15625 0.21875 \" style=\"vector-effect: non-scaling-stroke; \" transform=\"scale(1,-1)\" /><polygon points=\"0.171875 0.125 0.140625 0.125 0.15625 0.15625 \" style=\"vector-effect: non-scaling-stroke; \" transform=\"scale(1,-1)\" /><polygon points=\"0.1875 0.15625 0.15625 0.15625 0.171875 0.1875 \" style=\"vector-effect: non-scaling-stroke; \" transform=\"scale(1,-1)\" /><polygon points=\"0.203125 0.125 0.171875 0.125 0.1875 0.15625 \" style=\"vector-effect: non-scaling-stroke; \" transform=\"scale(1,-1)\" /><polygon points=\"0.171875 0.0 0.140625 0.0 0.15625 0.03125 \" style=\"vector-effect: non-scaling-stroke; \" transform=\"scale(1,-1)\" /><polygon points=\"0.1875 0.03125 0.15625 0.03125 0.171875 0.0625 \" style=\"vector-effect: non-scaling-stroke; \" transform=\"scale(1,-1)\" /><polygon points=\"0.203125 0.0 0.171875 0.0 0.1875 0.03125 \" style=\"vector-effect: non-scaling-stroke; \" transform=\"scale(1,-1)\" /><polygon points=\"0.203125 0.0625 0.171875 0.0625 0.1875 0.09375 \" style=\"vector-effect: non-scaling-stroke; \" transform=\"scale(1,-1)\" /><polygon points=\"0.21875 0.09375 0.1875 0.09375 0.203125 0.125 \" style=\"vector-effect: non-scaling-stroke; \" transform=\"scale(1,-1)\" /><polygon points=\"0.234375 0.0625 0.203125 0.0625 0.21875 0.09375 \" style=\"vector-effect: non-scaling-stroke; \" transform=\"scale(1,-1)\" /><polygon points=\"0.234375 0.0 0.203125 0.0 0.21875 0.03125 \" style=\"vector-effect: non-scaling-stroke; \" transform=\"scale(1,-1)\" /><polygon points=\"0.25 0.03125 0.21875 0.03125 0.234375 0.0625 \" style=\"vector-effect: non-scaling-stroke; \" transform=\"scale(1,-1)\" /><polygon points=\"0.265625 0.0 0.234375 0.0 0.25 0.03125 \" style=\"vector-effect: non-scaling-stroke; \" transform=\"scale(1,-1)\" /><polygon points=\"0.171875 0.25 0.140625 0.25 0.15625 0.28125 \" style=\"vector-effect: non-scaling-stroke; \" transform=\"scale(1,-1)\" /><polygon points=\"0.1875 0.28125 0.15625 0.28125 0.171875 0.3125 \" style=\"vector-effect: non-scaling-stroke; \" transform=\"scale(1,-1)\" /><polygon points=\"0.203125 0.25 0.171875 0.25 0.1875 0.28125 \" style=\"vector-effect: non-scaling-stroke; \" transform=\"scale(1,-1)\" /><polygon points=\"0.203125 0.3125 0.171875 0.3125 0.1875 0.34375 \" style=\"vector-effect: non-scaling-stroke; \" transform=\"scale(1,-1)\" /><polygon points=\"0.21875 0.34375 0.1875 0.34375 0.203125 0.375 \" style=\"vector-effect: non-scaling-stroke; \" transform=\"scale(1,-1)\" /><polygon points=\"0.234375 0.3125 0.203125 0.3125 0.21875 0.34375 \" style=\"vector-effect: non-scaling-stroke; \" transform=\"scale(1,-1)\" /><polygon points=\"0.234375 0.25 0.203125 0.25 0.21875 0.28125 \" style=\"vector-effect: non-scaling-stroke; \" transform=\"scale(1,-1)\" /><polygon points=\"0.25 0.28125 0.21875 0.28125 0.234375 0.3125 \" style=\"vector-effect: non-scaling-stroke; \" transform=\"scale(1,-1)\" /><polygon points=\"0.265625 0.25 0.234375 0.25 0.25 0.28125 \" style=\"vector-effect: non-scaling-stroke; \" transform=\"scale(1,-1)\" /><polygon points=\"0.234375 0.375 0.203125 0.375 0.21875 0.40625 \" style=\"vector-effect: non-scaling-stroke; \" transform=\"scale(1,-1)\" /><polygon points=\"0.25 0.40625 0.21875 0.40625 0.234375 0.4375 \" style=\"vector-effect: non-scaling-stroke; \" transform=\"scale(1,-1)\" /><polygon points=\"0.265625 0.375 0.234375 0.375 0.25 0.40625 \" style=\"vector-effect: non-scaling-stroke; \" transform=\"scale(1,-1)\" /><polygon points=\"0.265625 0.4375 0.234375 0.4375 0.25 0.46875 \" style=\"vector-effect: non-scaling-stroke; \" transform=\"scale(1,-1)\" /><polygon points=\"0.28125 0.46875 0.25 0.46875 0.265625 0.5 \" style=\"vector-effect: non-scaling-stroke; \" transform=\"scale(1,-1)\" /><polygon points=\"0.296875 0.4375 0.265625 0.4375 0.28125 0.46875 \" style=\"vector-effect: non-scaling-stroke; \" transform=\"scale(1,-1)\" /><polygon points=\"0.296875 0.375 0.265625 0.375 0.28125 0.40625 \" style=\"vector-effect: non-scaling-stroke; \" transform=\"scale(1,-1)\" /><polygon points=\"0.3125 0.40625 0.28125 0.40625 0.296875 0.4375 \" style=\"vector-effect: non-scaling-stroke; \" transform=\"scale(1,-1)\" /><polygon points=\"0.328125 0.375 0.296875 0.375 0.3125 0.40625 \" style=\"vector-effect: non-scaling-stroke; \" transform=\"scale(1,-1)\" /><polygon points=\"0.296875 0.25 0.265625 0.25 0.28125 0.28125 \" style=\"vector-effect: non-scaling-stroke; \" transform=\"scale(1,-1)\" /><polygon points=\"0.3125 0.28125 0.28125 0.28125 0.296875 0.3125 \" style=\"vector-effect: non-scaling-stroke; \" transform=\"scale(1,-1)\" /><polygon points=\"0.328125 0.25 0.296875 0.25 0.3125 0.28125 \" style=\"vector-effect: non-scaling-stroke; \" transform=\"scale(1,-1)\" /><polygon points=\"0.328125 0.3125 0.296875 0.3125 0.3125 0.34375 \" style=\"vector-effect: non-scaling-stroke; \" transform=\"scale(1,-1)\" /><polygon points=\"0.34375 0.34375 0.3125 0.34375 0.328125 0.375 \" style=\"vector-effect: non-scaling-stroke; \" transform=\"scale(1,-1)\" /><polygon points=\"0.359375 0.3125 0.328125 0.3125 0.34375 0.34375 \" style=\"vector-effect: non-scaling-stroke; \" transform=\"scale(1,-1)\" /><polygon points=\"0.359375 0.25 0.328125 0.25 0.34375 0.28125 \" style=\"vector-effect: non-scaling-stroke; \" transform=\"scale(1,-1)\" /><polygon points=\"0.375 0.28125 0.34375 0.28125 0.359375 0.3125 \" style=\"vector-effect: non-scaling-stroke; \" transform=\"scale(1,-1)\" /><polygon points=\"0.390625 0.25 0.359375 0.25 0.375 0.28125 \" style=\"vector-effect: non-scaling-stroke; \" transform=\"scale(1,-1)\" /><polygon points=\"0.296875 0.0 0.265625 0.0 0.28125 0.03125 \" style=\"vector-effect: non-scaling-stroke; \" transform=\"scale(1,-1)\" /><polygon points=\"0.3125 0.03125 0.28125 0.03125 0.296875 0.0625 \" style=\"vector-effect: non-scaling-stroke; \" transform=\"scale(1,-1)\" /><polygon points=\"0.328125 0.0 0.296875 0.0 0.3125 0.03125 \" style=\"vector-effect: non-scaling-stroke; \" transform=\"scale(1,-1)\" /><polygon points=\"0.328125 0.0625 0.296875 0.0625 0.3125 0.09375 \" style=\"vector-effect: non-scaling-stroke; \" transform=\"scale(1,-1)\" /><polygon points=\"0.34375 0.09375 0.3125 0.09375 0.328125 0.125 \" style=\"vector-effect: non-scaling-stroke; \" transform=\"scale(1,-1)\" /><polygon points=\"0.359375 0.0625 0.328125 0.0625 0.34375 0.09375 \" style=\"vector-effect: non-scaling-stroke; \" transform=\"scale(1,-1)\" /><polygon points=\"0.359375 0.0 0.328125 0.0 0.34375 0.03125 \" style=\"vector-effect: non-scaling-stroke; \" transform=\"scale(1,-1)\" /><polygon points=\"0.375 0.03125 0.34375 0.03125 0.359375 0.0625 \" style=\"vector-effect: non-scaling-stroke; \" transform=\"scale(1,-1)\" /><polygon points=\"0.390625 0.0 0.359375 0.0 0.375 0.03125 \" style=\"vector-effect: non-scaling-stroke; \" transform=\"scale(1,-1)\" /><polygon points=\"0.359375 0.125 0.328125 0.125 0.34375 0.15625 \" style=\"vector-effect: non-scaling-stroke; \" transform=\"scale(1,-1)\" /><polygon points=\"0.375 0.15625 0.34375 0.15625 0.359375 0.1875 \" style=\"vector-effect: non-scaling-stroke; \" transform=\"scale(1,-1)\" /><polygon points=\"0.390625 0.125 0.359375 0.125 0.375 0.15625 \" style=\"vector-effect: non-scaling-stroke; \" transform=\"scale(1,-1)\" /><polygon points=\"0.390625 0.1875 0.359375 0.1875 0.375 0.21875 \" style=\"vector-effect: non-scaling-stroke; \" transform=\"scale(1,-1)\" /><polygon points=\"0.40625 0.21875 0.375 0.21875 0.390625 0.25 \" style=\"vector-effect: non-scaling-stroke; \" transform=\"scale(1,-1)\" /><polygon points=\"0.421875 0.1875 0.390625 0.1875 0.40625 0.21875 \" style=\"vector-effect: non-scaling-stroke; \" transform=\"scale(1,-1)\" /><polygon points=\"0.421875 0.125 0.390625 0.125 0.40625 0.15625 \" style=\"vector-effect: non-scaling-stroke; \" transform=\"scale(1,-1)\" /><polygon points=\"0.4375 0.15625 0.40625 0.15625 0.421875 0.1875 \" style=\"vector-effect: non-scaling-stroke; \" transform=\"scale(1,-1)\" /><polygon points=\"0.453125 0.125 0.421875 0.125 0.4375 0.15625 \" style=\"vector-effect: non-scaling-stroke; \" transform=\"scale(1,-1)\" /><polygon points=\"0.421875 0.0 0.390625 0.0 0.40625 0.03125 \" style=\"vector-effect: non-scaling-stroke; \" transform=\"scale(1,-1)\" /><polygon points=\"0.4375 0.03125 0.40625 0.03125 0.421875 0.0625 \" style=\"vector-effect: non-scaling-stroke; \" transform=\"scale(1,-1)\" /><polygon points=\"0.453125 0.0 0.421875 0.0 0.4375 0.03125 \" style=\"vector-effect: non-scaling-stroke; \" transform=\"scale(1,-1)\" /><polygon points=\"0.453125 0.0625 0.421875 0.0625 0.4375 0.09375 \" style=\"vector-effect: non-scaling-stroke; \" transform=\"scale(1,-1)\" /><polygon points=\"0.46875 0.09375 0.4375 0.09375 0.453125 0.125 \" style=\"vector-effect: non-scaling-stroke; \" transform=\"scale(1,-1)\" /><polygon points=\"0.484375 0.0625 0.453125 0.0625 0.46875 0.09375 \" style=\"vector-effect: non-scaling-stroke; \" transform=\"scale(1,-1)\" /><polygon points=\"0.484375 0.0 0.453125 0.0 0.46875 0.03125 \" style=\"vector-effect: non-scaling-stroke; \" transform=\"scale(1,-1)\" /><polygon points=\"0.5 0.03125 0.46875 0.03125 0.484375 0.0625 \" style=\"vector-effect: non-scaling-stroke; \" transform=\"scale(1,-1)\" /><polygon points=\"0.515625 0.0 0.484375 0.0 0.5 0.03125 \" style=\"vector-effect: non-scaling-stroke; \" transform=\"scale(1,-1)\" /></svg>"
      ],
      "text/plain": [
       "<svg height=\"300\" viewBox=\"-0.5010416666666667 -1.0166666666666666 1.0333333333333334 1.0333333333333334\" width=\"300.0\" preserveAspectRatio=\"xMidYMid meet\" xmlns=\"http://www.w3.org/2000/svg\" version=\"1.1\"><polygon points=\"-0.453125 0.0 -0.484375 0.0 -0.46875 0.03125 \" style=\"vector-effect: non-scaling-stroke; \" transform=\"scale(1,-1)\" /><polygon points=\"-0.4375 0.03125 -0.46875 0.03125 -0.453125 0.0625 \" style=\"vector-effect: non-scaling-stroke; \" transform=\"scale(1,-1)\" /><polygon points=\"-0.421875 0.0 -0.453125 0.0 -0.4375 0.03125 \" style=\"vector-effect: non-scaling-stroke; \" transform=\"scale(1,-1)\" /><polygon points=\"-0.421875 0.0625 -0.453125 0.0625 -0.4375 0.09375 \" style=\"vector-effect: non-scaling-stroke; \" transform=\"scale(1,-1)\" /><polygon points=\"-0.40625 0.09375 -0.4375 0.09375 -0.421875 0.125 \" style=\"vector-effect: non-scaling-stroke; \" transform=\"scale(1,-1)\" /><polygon points=\"-0.390625 0.0625 -0.421875 0.0625 -0.40625 0.09375 \" style=\"vector-effect: non-scaling-stroke; \" transform=\"scale(1,-1)\" /><polygon points=\"-0.390625 0.0 -0.421875 0.0 -0.40625 0.03125 \" style=\"vector-effect: non-scaling-stroke; \" transform=\"scale(1,-1)\" /><polygon points=\"-0.375 0.03125 -0.40625 0.03125 -0.390625 0.0625 \" style=\"vector-effect: non-scaling-stroke; \" transform=\"scale(1,-1)\" /><polygon points=\"-0.359375 0.0 -0.390625 0.0 -0.375 0.03125 \" style=\"vector-effect: non-scaling-stroke; \" transform=\"scale(1,-1)\" /><polygon points=\"-0.390625 0.125 -0.421875 0.125 -0.40625 0.15625 \" style=\"vector-effect: non-scaling-stroke; \" transform=\"scale(1,-1)\" /><polygon points=\"-0.375 0.15625 -0.40625 0.15625 -0.390625 0.1875 \" style=\"vector-effect: non-scaling-stroke; \" transform=\"scale(1,-1)\" /><polygon points=\"-0.359375 0.125 -0.390625 0.125 -0.375 0.15625 \" style=\"vector-effect: non-scaling-stroke; \" transform=\"scale(1,-1)\" /><polygon points=\"-0.359375 0.1875 -0.390625 0.1875 -0.375 0.21875 \" style=\"vector-effect: non-scaling-stroke; \" transform=\"scale(1,-1)\" /><polygon points=\"-0.34375 0.21875 -0.375 0.21875 -0.359375 0.25 \" style=\"vector-effect: non-scaling-stroke; \" transform=\"scale(1,-1)\" /><polygon points=\"-0.328125 0.1875 -0.359375 0.1875 -0.34375 0.21875 \" style=\"vector-effect: non-scaling-stroke; \" transform=\"scale(1,-1)\" /><polygon points=\"-0.328125 0.125 -0.359375 0.125 -0.34375 0.15625 \" style=\"vector-effect: non-scaling-stroke; \" transform=\"scale(1,-1)\" /><polygon points=\"-0.3125 0.15625 -0.34375 0.15625 -0.328125 0.1875 \" style=\"vector-effect: non-scaling-stroke; \" transform=\"scale(1,-1)\" /><polygon points=\"-0.296875 0.125 -0.328125 0.125 -0.3125 0.15625 \" style=\"vector-effect: non-scaling-stroke; \" transform=\"scale(1,-1)\" /><polygon points=\"-0.328125 0.0 -0.359375 0.0 -0.34375 0.03125 \" style=\"vector-effect: non-scaling-stroke; \" transform=\"scale(1,-1)\" /><polygon points=\"-0.3125 0.03125 -0.34375 0.03125 -0.328125 0.0625 \" style=\"vector-effect: non-scaling-stroke; \" transform=\"scale(1,-1)\" /><polygon points=\"-0.296875 0.0 -0.328125 0.0 -0.3125 0.03125 \" style=\"vector-effect: non-scaling-stroke; \" transform=\"scale(1,-1)\" /><polygon points=\"-0.296875 0.0625 -0.328125 0.0625 -0.3125 0.09375 \" style=\"vector-effect: non-scaling-stroke; \" transform=\"scale(1,-1)\" /><polygon points=\"-0.28125 0.09375 -0.3125 0.09375 -0.296875 0.125 \" style=\"vector-effect: non-scaling-stroke; \" transform=\"scale(1,-1)\" /><polygon points=\"-0.265625 0.0625 -0.296875 0.0625 -0.28125 0.09375 \" style=\"vector-effect: non-scaling-stroke; \" transform=\"scale(1,-1)\" /><polygon points=\"-0.265625 0.0 -0.296875 0.0 -0.28125 0.03125 \" style=\"vector-effect: non-scaling-stroke; \" transform=\"scale(1,-1)\" /><polygon points=\"-0.25 0.03125 -0.28125 0.03125 -0.265625 0.0625 \" style=\"vector-effect: non-scaling-stroke; \" transform=\"scale(1,-1)\" /><polygon points=\"-0.234375 0.0 -0.265625 0.0 -0.25 0.03125 \" style=\"vector-effect: non-scaling-stroke; \" transform=\"scale(1,-1)\" /><polygon points=\"-0.328125 0.25 -0.359375 0.25 -0.34375 0.28125 \" style=\"vector-effect: non-scaling-stroke; \" transform=\"scale(1,-1)\" /><polygon points=\"-0.3125 0.28125 -0.34375 0.28125 -0.328125 0.3125 \" style=\"vector-effect: non-scaling-stroke; \" transform=\"scale(1,-1)\" /><polygon points=\"-0.296875 0.25 -0.328125 0.25 -0.3125 0.28125 \" style=\"vector-effect: non-scaling-stroke; \" transform=\"scale(1,-1)\" /><polygon points=\"-0.296875 0.3125 -0.328125 0.3125 -0.3125 0.34375 \" style=\"vector-effect: non-scaling-stroke; \" transform=\"scale(1,-1)\" /><polygon points=\"-0.28125 0.34375 -0.3125 0.34375 -0.296875 0.375 \" style=\"vector-effect: non-scaling-stroke; \" transform=\"scale(1,-1)\" /><polygon points=\"-0.265625 0.3125 -0.296875 0.3125 -0.28125 0.34375 \" style=\"vector-effect: non-scaling-stroke; \" transform=\"scale(1,-1)\" /><polygon points=\"-0.265625 0.25 -0.296875 0.25 -0.28125 0.28125 \" style=\"vector-effect: non-scaling-stroke; \" transform=\"scale(1,-1)\" /><polygon points=\"-0.25 0.28125 -0.28125 0.28125 -0.265625 0.3125 \" style=\"vector-effect: non-scaling-stroke; \" transform=\"scale(1,-1)\" /><polygon points=\"-0.234375 0.25 -0.265625 0.25 -0.25 0.28125 \" style=\"vector-effect: non-scaling-stroke; \" transform=\"scale(1,-1)\" /><polygon points=\"-0.265625 0.375 -0.296875 0.375 -0.28125 0.40625 \" style=\"vector-effect: non-scaling-stroke; \" transform=\"scale(1,-1)\" /><polygon points=\"-0.25 0.40625 -0.28125 0.40625 -0.265625 0.4375 \" style=\"vector-effect: non-scaling-stroke; \" transform=\"scale(1,-1)\" /><polygon points=\"-0.234375 0.375 -0.265625 0.375 -0.25 0.40625 \" style=\"vector-effect: non-scaling-stroke; \" transform=\"scale(1,-1)\" /><polygon points=\"-0.234375 0.4375 -0.265625 0.4375 -0.25 0.46875 \" style=\"vector-effect: non-scaling-stroke; \" transform=\"scale(1,-1)\" /><polygon points=\"-0.21875 0.46875 -0.25 0.46875 -0.234375 0.5 \" style=\"vector-effect: non-scaling-stroke; \" transform=\"scale(1,-1)\" /><polygon points=\"-0.203125 0.4375 -0.234375 0.4375 -0.21875 0.46875 \" style=\"vector-effect: non-scaling-stroke; \" transform=\"scale(1,-1)\" /><polygon points=\"-0.203125 0.375 -0.234375 0.375 -0.21875 0.40625 \" style=\"vector-effect: non-scaling-stroke; \" transform=\"scale(1,-1)\" /><polygon points=\"-0.1875 0.40625 -0.21875 0.40625 -0.203125 0.4375 \" style=\"vector-effect: non-scaling-stroke; \" transform=\"scale(1,-1)\" /><polygon points=\"-0.171875 0.375 -0.203125 0.375 -0.1875 0.40625 \" style=\"vector-effect: non-scaling-stroke; \" transform=\"scale(1,-1)\" /><polygon points=\"-0.203125 0.25 -0.234375 0.25 -0.21875 0.28125 \" style=\"vector-effect: non-scaling-stroke; \" transform=\"scale(1,-1)\" /><polygon points=\"-0.1875 0.28125 -0.21875 0.28125 -0.203125 0.3125 \" style=\"vector-effect: non-scaling-stroke; \" transform=\"scale(1,-1)\" /><polygon points=\"-0.171875 0.25 -0.203125 0.25 -0.1875 0.28125 \" style=\"vector-effect: non-scaling-stroke; \" transform=\"scale(1,-1)\" /><polygon points=\"-0.171875 0.3125 -0.203125 0.3125 -0.1875 0.34375 \" style=\"vector-effect: non-scaling-stroke; \" transform=\"scale(1,-1)\" /><polygon points=\"-0.15625 0.34375 -0.1875 0.34375 -0.171875 0.375 \" style=\"vector-effect: non-scaling-stroke; \" transform=\"scale(1,-1)\" /><polygon points=\"-0.140625 0.3125 -0.171875 0.3125 -0.15625 0.34375 \" style=\"vector-effect: non-scaling-stroke; \" transform=\"scale(1,-1)\" /><polygon points=\"-0.140625 0.25 -0.171875 0.25 -0.15625 0.28125 \" style=\"vector-effect: non-scaling-stroke; \" transform=\"scale(1,-1)\" /><polygon points=\"-0.125 0.28125 -0.15625 0.28125 -0.140625 0.3125 \" style=\"vector-effect: non-scaling-stroke; \" transform=\"scale(1,-1)\" /><polygon points=\"-0.109375 0.25 -0.140625 0.25 -0.125 0.28125 \" style=\"vector-effect: non-scaling-stroke; \" transform=\"scale(1,-1)\" /><polygon points=\"-0.203125 0.0 -0.234375 0.0 -0.21875 0.03125 \" style=\"vector-effect: non-scaling-stroke; \" transform=\"scale(1,-1)\" /><polygon points=\"-0.1875 0.03125 -0.21875 0.03125 -0.203125 0.0625 \" style=\"vector-effect: non-scaling-stroke; \" transform=\"scale(1,-1)\" /><polygon points=\"-0.171875 0.0 -0.203125 0.0 -0.1875 0.03125 \" style=\"vector-effect: non-scaling-stroke; \" transform=\"scale(1,-1)\" /><polygon points=\"-0.171875 0.0625 -0.203125 0.0625 -0.1875 0.09375 \" style=\"vector-effect: non-scaling-stroke; \" transform=\"scale(1,-1)\" /><polygon points=\"-0.15625 0.09375 -0.1875 0.09375 -0.171875 0.125 \" style=\"vector-effect: non-scaling-stroke; \" transform=\"scale(1,-1)\" /><polygon points=\"-0.140625 0.0625 -0.171875 0.0625 -0.15625 0.09375 \" style=\"vector-effect: non-scaling-stroke; \" transform=\"scale(1,-1)\" /><polygon points=\"-0.140625 0.0 -0.171875 0.0 -0.15625 0.03125 \" style=\"vector-effect: non-scaling-stroke; \" transform=\"scale(1,-1)\" /><polygon points=\"-0.125 0.03125 -0.15625 0.03125 -0.140625 0.0625 \" style=\"vector-effect: non-scaling-stroke; \" transform=\"scale(1,-1)\" /><polygon points=\"-0.109375 0.0 -0.140625 0.0 -0.125 0.03125 \" style=\"vector-effect: non-scaling-stroke; \" transform=\"scale(1,-1)\" /><polygon points=\"-0.140625 0.125 -0.171875 0.125 -0.15625 0.15625 \" style=\"vector-effect: non-scaling-stroke; \" transform=\"scale(1,-1)\" /><polygon points=\"-0.125 0.15625 -0.15625 0.15625 -0.140625 0.1875 \" style=\"vector-effect: non-scaling-stroke; \" transform=\"scale(1,-1)\" /><polygon points=\"-0.109375 0.125 -0.140625 0.125 -0.125 0.15625 \" style=\"vector-effect: non-scaling-stroke; \" transform=\"scale(1,-1)\" /><polygon points=\"-0.109375 0.1875 -0.140625 0.1875 -0.125 0.21875 \" style=\"vector-effect: non-scaling-stroke; \" transform=\"scale(1,-1)\" /><polygon points=\"-0.09375 0.21875 -0.125 0.21875 -0.109375 0.25 \" style=\"vector-effect: non-scaling-stroke; \" transform=\"scale(1,-1)\" /><polygon points=\"-0.078125 0.1875 -0.109375 0.1875 -0.09375 0.21875 \" style=\"vector-effect: non-scaling-stroke; \" transform=\"scale(1,-1)\" /><polygon points=\"-0.078125 0.125 -0.109375 0.125 -0.09375 0.15625 \" style=\"vector-effect: non-scaling-stroke; \" transform=\"scale(1,-1)\" /><polygon points=\"-0.0625 0.15625 -0.09375 0.15625 -0.078125 0.1875 \" style=\"vector-effect: non-scaling-stroke; \" transform=\"scale(1,-1)\" /><polygon points=\"-0.046875 0.125 -0.078125 0.125 -0.0625 0.15625 \" style=\"vector-effect: non-scaling-stroke; \" transform=\"scale(1,-1)\" /><polygon points=\"-0.078125 0.0 -0.109375 0.0 -0.09375 0.03125 \" style=\"vector-effect: non-scaling-stroke; \" transform=\"scale(1,-1)\" /><polygon points=\"-0.0625 0.03125 -0.09375 0.03125 -0.078125 0.0625 \" style=\"vector-effect: non-scaling-stroke; \" transform=\"scale(1,-1)\" /><polygon points=\"-0.046875 0.0 -0.078125 0.0 -0.0625 0.03125 \" style=\"vector-effect: non-scaling-stroke; \" transform=\"scale(1,-1)\" /><polygon points=\"-0.046875 0.0625 -0.078125 0.0625 -0.0625 0.09375 \" style=\"vector-effect: non-scaling-stroke; \" transform=\"scale(1,-1)\" /><polygon points=\"-0.03125 0.09375 -0.0625 0.09375 -0.046875 0.125 \" style=\"vector-effect: non-scaling-stroke; \" transform=\"scale(1,-1)\" /><polygon points=\"-0.015625 0.0625 -0.046875 0.0625 -0.03125 0.09375 \" style=\"vector-effect: non-scaling-stroke; \" transform=\"scale(1,-1)\" /><polygon points=\"-0.015625 0.0 -0.046875 0.0 -0.03125 0.03125 \" style=\"vector-effect: non-scaling-stroke; \" transform=\"scale(1,-1)\" /><polygon points=\"0.0 0.03125 -0.03125 0.03125 -0.015625 0.0625 \" style=\"vector-effect: non-scaling-stroke; \" transform=\"scale(1,-1)\" /><polygon points=\"0.015625 0.0 -0.015625 0.0 0.0 0.03125 \" style=\"vector-effect: non-scaling-stroke; \" transform=\"scale(1,-1)\" /><polygon points=\"-0.203125 0.5 -0.234375 0.5 -0.21875 0.53125 \" style=\"vector-effect: non-scaling-stroke; \" transform=\"scale(1,-1)\" /><polygon points=\"-0.1875 0.53125 -0.21875 0.53125 -0.203125 0.5625 \" style=\"vector-effect: non-scaling-stroke; \" transform=\"scale(1,-1)\" /><polygon points=\"-0.171875 0.5 -0.203125 0.5 -0.1875 0.53125 \" style=\"vector-effect: non-scaling-stroke; \" transform=\"scale(1,-1)\" /><polygon points=\"-0.171875 0.5625 -0.203125 0.5625 -0.1875 0.59375 \" style=\"vector-effect: non-scaling-stroke; \" transform=\"scale(1,-1)\" /><polygon points=\"-0.15625 0.59375 -0.1875 0.59375 -0.171875 0.625 \" style=\"vector-effect: non-scaling-stroke; \" transform=\"scale(1,-1)\" /><polygon points=\"-0.140625 0.5625 -0.171875 0.5625 -0.15625 0.59375 \" style=\"vector-effect: non-scaling-stroke; \" transform=\"scale(1,-1)\" /><polygon points=\"-0.140625 0.5 -0.171875 0.5 -0.15625 0.53125 \" style=\"vector-effect: non-scaling-stroke; \" transform=\"scale(1,-1)\" /><polygon points=\"-0.125 0.53125 -0.15625 0.53125 -0.140625 0.5625 \" style=\"vector-effect: non-scaling-stroke; \" transform=\"scale(1,-1)\" /><polygon points=\"-0.109375 0.5 -0.140625 0.5 -0.125 0.53125 \" style=\"vector-effect: non-scaling-stroke; \" transform=\"scale(1,-1)\" /><polygon points=\"-0.140625 0.625 -0.171875 0.625 -0.15625 0.65625 \" style=\"vector-effect: non-scaling-stroke; \" transform=\"scale(1,-1)\" /><polygon points=\"-0.125 0.65625 -0.15625 0.65625 -0.140625 0.6875 \" style=\"vector-effect: non-scaling-stroke; \" transform=\"scale(1,-1)\" /><polygon points=\"-0.109375 0.625 -0.140625 0.625 -0.125 0.65625 \" style=\"vector-effect: non-scaling-stroke; \" transform=\"scale(1,-1)\" /><polygon points=\"-0.109375 0.6875 -0.140625 0.6875 -0.125 0.71875 \" style=\"vector-effect: non-scaling-stroke; \" transform=\"scale(1,-1)\" /><polygon points=\"-0.09375 0.71875 -0.125 0.71875 -0.109375 0.75 \" style=\"vector-effect: non-scaling-stroke; \" transform=\"scale(1,-1)\" /><polygon points=\"-0.078125 0.6875 -0.109375 0.6875 -0.09375 0.71875 \" style=\"vector-effect: non-scaling-stroke; \" transform=\"scale(1,-1)\" /><polygon points=\"-0.078125 0.625 -0.109375 0.625 -0.09375 0.65625 \" style=\"vector-effect: non-scaling-stroke; \" transform=\"scale(1,-1)\" /><polygon points=\"-0.0625 0.65625 -0.09375 0.65625 -0.078125 0.6875 \" style=\"vector-effect: non-scaling-stroke; \" transform=\"scale(1,-1)\" /><polygon points=\"-0.046875 0.625 -0.078125 0.625 -0.0625 0.65625 \" style=\"vector-effect: non-scaling-stroke; \" transform=\"scale(1,-1)\" /><polygon points=\"-0.078125 0.5 -0.109375 0.5 -0.09375 0.53125 \" style=\"vector-effect: non-scaling-stroke; \" transform=\"scale(1,-1)\" /><polygon points=\"-0.0625 0.53125 -0.09375 0.53125 -0.078125 0.5625 \" style=\"vector-effect: non-scaling-stroke; \" transform=\"scale(1,-1)\" /><polygon points=\"-0.046875 0.5 -0.078125 0.5 -0.0625 0.53125 \" style=\"vector-effect: non-scaling-stroke; \" transform=\"scale(1,-1)\" /><polygon points=\"-0.046875 0.5625 -0.078125 0.5625 -0.0625 0.59375 \" style=\"vector-effect: non-scaling-stroke; \" transform=\"scale(1,-1)\" /><polygon points=\"-0.03125 0.59375 -0.0625 0.59375 -0.046875 0.625 \" style=\"vector-effect: non-scaling-stroke; \" transform=\"scale(1,-1)\" /><polygon points=\"-0.015625 0.5625 -0.046875 0.5625 -0.03125 0.59375 \" style=\"vector-effect: non-scaling-stroke; \" transform=\"scale(1,-1)\" /><polygon points=\"-0.015625 0.5 -0.046875 0.5 -0.03125 0.53125 \" style=\"vector-effect: non-scaling-stroke; \" transform=\"scale(1,-1)\" /><polygon points=\"0.0 0.53125 -0.03125 0.53125 -0.015625 0.5625 \" style=\"vector-effect: non-scaling-stroke; \" transform=\"scale(1,-1)\" /><polygon points=\"0.015625 0.5 -0.015625 0.5 0.0 0.53125 \" style=\"vector-effect: non-scaling-stroke; \" transform=\"scale(1,-1)\" /><polygon points=\"-0.078125 0.75 -0.109375 0.75 -0.09375 0.78125 \" style=\"vector-effect: non-scaling-stroke; \" transform=\"scale(1,-1)\" /><polygon points=\"-0.0625 0.78125 -0.09375 0.78125 -0.078125 0.8125 \" style=\"vector-effect: non-scaling-stroke; \" transform=\"scale(1,-1)\" /><polygon points=\"-0.046875 0.75 -0.078125 0.75 -0.0625 0.78125 \" style=\"vector-effect: non-scaling-stroke; \" transform=\"scale(1,-1)\" /><polygon points=\"-0.046875 0.8125 -0.078125 0.8125 -0.0625 0.84375 \" style=\"vector-effect: non-scaling-stroke; \" transform=\"scale(1,-1)\" /><polygon points=\"-0.03125 0.84375 -0.0625 0.84375 -0.046875 0.875 \" style=\"vector-effect: non-scaling-stroke; \" transform=\"scale(1,-1)\" /><polygon points=\"-0.015625 0.8125 -0.046875 0.8125 -0.03125 0.84375 \" style=\"vector-effect: non-scaling-stroke; \" transform=\"scale(1,-1)\" /><polygon points=\"-0.015625 0.75 -0.046875 0.75 -0.03125 0.78125 \" style=\"vector-effect: non-scaling-stroke; \" transform=\"scale(1,-1)\" /><polygon points=\"0.0 0.78125 -0.03125 0.78125 -0.015625 0.8125 \" style=\"vector-effect: non-scaling-stroke; \" transform=\"scale(1,-1)\" /><polygon points=\"0.015625 0.75 -0.015625 0.75 0.0 0.78125 \" style=\"vector-effect: non-scaling-stroke; \" transform=\"scale(1,-1)\" /><polygon points=\"-0.015625 0.875 -0.046875 0.875 -0.03125 0.90625 \" style=\"vector-effect: non-scaling-stroke; \" transform=\"scale(1,-1)\" /><polygon points=\"0.0 0.90625 -0.03125 0.90625 -0.015625 0.9375 \" style=\"vector-effect: non-scaling-stroke; \" transform=\"scale(1,-1)\" /><polygon points=\"0.015625 0.875 -0.015625 0.875 0.0 0.90625 \" style=\"vector-effect: non-scaling-stroke; \" transform=\"scale(1,-1)\" /><polygon points=\"0.015625 0.9375 -0.015625 0.9375 0.0 0.96875 \" style=\"vector-effect: non-scaling-stroke; \" transform=\"scale(1,-1)\" /><polygon points=\"0.03125 0.96875 0.0 0.96875 0.015625 1.0 \" style=\"vector-effect: non-scaling-stroke; \" transform=\"scale(1,-1)\" /><polygon points=\"0.046875 0.9375 0.015625 0.9375 0.03125 0.96875 \" style=\"vector-effect: non-scaling-stroke; \" transform=\"scale(1,-1)\" /><polygon points=\"0.046875 0.875 0.015625 0.875 0.03125 0.90625 \" style=\"vector-effect: non-scaling-stroke; \" transform=\"scale(1,-1)\" /><polygon points=\"0.0625 0.90625 0.03125 0.90625 0.046875 0.9375 \" style=\"vector-effect: non-scaling-stroke; \" transform=\"scale(1,-1)\" /><polygon points=\"0.078125 0.875 0.046875 0.875 0.0625 0.90625 \" style=\"vector-effect: non-scaling-stroke; \" transform=\"scale(1,-1)\" /><polygon points=\"0.046875 0.75 0.015625 0.75 0.03125 0.78125 \" style=\"vector-effect: non-scaling-stroke; \" transform=\"scale(1,-1)\" /><polygon points=\"0.0625 0.78125 0.03125 0.78125 0.046875 0.8125 \" style=\"vector-effect: non-scaling-stroke; \" transform=\"scale(1,-1)\" /><polygon points=\"0.078125 0.75 0.046875 0.75 0.0625 0.78125 \" style=\"vector-effect: non-scaling-stroke; \" transform=\"scale(1,-1)\" /><polygon points=\"0.078125 0.8125 0.046875 0.8125 0.0625 0.84375 \" style=\"vector-effect: non-scaling-stroke; \" transform=\"scale(1,-1)\" /><polygon points=\"0.09375 0.84375 0.0625 0.84375 0.078125 0.875 \" style=\"vector-effect: non-scaling-stroke; \" transform=\"scale(1,-1)\" /><polygon points=\"0.109375 0.8125 0.078125 0.8125 0.09375 0.84375 \" style=\"vector-effect: non-scaling-stroke; \" transform=\"scale(1,-1)\" /><polygon points=\"0.109375 0.75 0.078125 0.75 0.09375 0.78125 \" style=\"vector-effect: non-scaling-stroke; \" transform=\"scale(1,-1)\" /><polygon points=\"0.125 0.78125 0.09375 0.78125 0.109375 0.8125 \" style=\"vector-effect: non-scaling-stroke; \" transform=\"scale(1,-1)\" /><polygon points=\"0.140625 0.75 0.109375 0.75 0.125 0.78125 \" style=\"vector-effect: non-scaling-stroke; \" transform=\"scale(1,-1)\" /><polygon points=\"0.046875 0.5 0.015625 0.5 0.03125 0.53125 \" style=\"vector-effect: non-scaling-stroke; \" transform=\"scale(1,-1)\" /><polygon points=\"0.0625 0.53125 0.03125 0.53125 0.046875 0.5625 \" style=\"vector-effect: non-scaling-stroke; \" transform=\"scale(1,-1)\" /><polygon points=\"0.078125 0.5 0.046875 0.5 0.0625 0.53125 \" style=\"vector-effect: non-scaling-stroke; \" transform=\"scale(1,-1)\" /><polygon points=\"0.078125 0.5625 0.046875 0.5625 0.0625 0.59375 \" style=\"vector-effect: non-scaling-stroke; \" transform=\"scale(1,-1)\" /><polygon points=\"0.09375 0.59375 0.0625 0.59375 0.078125 0.625 \" style=\"vector-effect: non-scaling-stroke; \" transform=\"scale(1,-1)\" /><polygon points=\"0.109375 0.5625 0.078125 0.5625 0.09375 0.59375 \" style=\"vector-effect: non-scaling-stroke; \" transform=\"scale(1,-1)\" /><polygon points=\"0.109375 0.5 0.078125 0.5 0.09375 0.53125 \" style=\"vector-effect: non-scaling-stroke; \" transform=\"scale(1,-1)\" /><polygon points=\"0.125 0.53125 0.09375 0.53125 0.109375 0.5625 \" style=\"vector-effect: non-scaling-stroke; \" transform=\"scale(1,-1)\" /><polygon points=\"0.140625 0.5 0.109375 0.5 0.125 0.53125 \" style=\"vector-effect: non-scaling-stroke; \" transform=\"scale(1,-1)\" /><polygon points=\"0.109375 0.625 0.078125 0.625 0.09375 0.65625 \" style=\"vector-effect: non-scaling-stroke; \" transform=\"scale(1,-1)\" /><polygon points=\"0.125 0.65625 0.09375 0.65625 0.109375 0.6875 \" style=\"vector-effect: non-scaling-stroke; \" transform=\"scale(1,-1)\" /><polygon points=\"0.140625 0.625 0.109375 0.625 0.125 0.65625 \" style=\"vector-effect: non-scaling-stroke; \" transform=\"scale(1,-1)\" /><polygon points=\"0.140625 0.6875 0.109375 0.6875 0.125 0.71875 \" style=\"vector-effect: non-scaling-stroke; \" transform=\"scale(1,-1)\" /><polygon points=\"0.15625 0.71875 0.125 0.71875 0.140625 0.75 \" style=\"vector-effect: non-scaling-stroke; \" transform=\"scale(1,-1)\" /><polygon points=\"0.171875 0.6875 0.140625 0.6875 0.15625 0.71875 \" style=\"vector-effect: non-scaling-stroke; \" transform=\"scale(1,-1)\" /><polygon points=\"0.171875 0.625 0.140625 0.625 0.15625 0.65625 \" style=\"vector-effect: non-scaling-stroke; \" transform=\"scale(1,-1)\" /><polygon points=\"0.1875 0.65625 0.15625 0.65625 0.171875 0.6875 \" style=\"vector-effect: non-scaling-stroke; \" transform=\"scale(1,-1)\" /><polygon points=\"0.203125 0.625 0.171875 0.625 0.1875 0.65625 \" style=\"vector-effect: non-scaling-stroke; \" transform=\"scale(1,-1)\" /><polygon points=\"0.171875 0.5 0.140625 0.5 0.15625 0.53125 \" style=\"vector-effect: non-scaling-stroke; \" transform=\"scale(1,-1)\" /><polygon points=\"0.1875 0.53125 0.15625 0.53125 0.171875 0.5625 \" style=\"vector-effect: non-scaling-stroke; \" transform=\"scale(1,-1)\" /><polygon points=\"0.203125 0.5 0.171875 0.5 0.1875 0.53125 \" style=\"vector-effect: non-scaling-stroke; \" transform=\"scale(1,-1)\" /><polygon points=\"0.203125 0.5625 0.171875 0.5625 0.1875 0.59375 \" style=\"vector-effect: non-scaling-stroke; \" transform=\"scale(1,-1)\" /><polygon points=\"0.21875 0.59375 0.1875 0.59375 0.203125 0.625 \" style=\"vector-effect: non-scaling-stroke; \" transform=\"scale(1,-1)\" /><polygon points=\"0.234375 0.5625 0.203125 0.5625 0.21875 0.59375 \" style=\"vector-effect: non-scaling-stroke; \" transform=\"scale(1,-1)\" /><polygon points=\"0.234375 0.5 0.203125 0.5 0.21875 0.53125 \" style=\"vector-effect: non-scaling-stroke; \" transform=\"scale(1,-1)\" /><polygon points=\"0.25 0.53125 0.21875 0.53125 0.234375 0.5625 \" style=\"vector-effect: non-scaling-stroke; \" transform=\"scale(1,-1)\" /><polygon points=\"0.265625 0.5 0.234375 0.5 0.25 0.53125 \" style=\"vector-effect: non-scaling-stroke; \" transform=\"scale(1,-1)\" /><polygon points=\"0.046875 0.0 0.015625 0.0 0.03125 0.03125 \" style=\"vector-effect: non-scaling-stroke; \" transform=\"scale(1,-1)\" /><polygon points=\"0.0625 0.03125 0.03125 0.03125 0.046875 0.0625 \" style=\"vector-effect: non-scaling-stroke; \" transform=\"scale(1,-1)\" /><polygon points=\"0.078125 0.0 0.046875 0.0 0.0625 0.03125 \" style=\"vector-effect: non-scaling-stroke; \" transform=\"scale(1,-1)\" /><polygon points=\"0.078125 0.0625 0.046875 0.0625 0.0625 0.09375 \" style=\"vector-effect: non-scaling-stroke; \" transform=\"scale(1,-1)\" /><polygon points=\"0.09375 0.09375 0.0625 0.09375 0.078125 0.125 \" style=\"vector-effect: non-scaling-stroke; \" transform=\"scale(1,-1)\" /><polygon points=\"0.109375 0.0625 0.078125 0.0625 0.09375 0.09375 \" style=\"vector-effect: non-scaling-stroke; \" transform=\"scale(1,-1)\" /><polygon points=\"0.109375 0.0 0.078125 0.0 0.09375 0.03125 \" style=\"vector-effect: non-scaling-stroke; \" transform=\"scale(1,-1)\" /><polygon points=\"0.125 0.03125 0.09375 0.03125 0.109375 0.0625 \" style=\"vector-effect: non-scaling-stroke; \" transform=\"scale(1,-1)\" /><polygon points=\"0.140625 0.0 0.109375 0.0 0.125 0.03125 \" style=\"vector-effect: non-scaling-stroke; \" transform=\"scale(1,-1)\" /><polygon points=\"0.109375 0.125 0.078125 0.125 0.09375 0.15625 \" style=\"vector-effect: non-scaling-stroke; \" transform=\"scale(1,-1)\" /><polygon points=\"0.125 0.15625 0.09375 0.15625 0.109375 0.1875 \" style=\"vector-effect: non-scaling-stroke; \" transform=\"scale(1,-1)\" /><polygon points=\"0.140625 0.125 0.109375 0.125 0.125 0.15625 \" style=\"vector-effect: non-scaling-stroke; \" transform=\"scale(1,-1)\" /><polygon points=\"0.140625 0.1875 0.109375 0.1875 0.125 0.21875 \" style=\"vector-effect: non-scaling-stroke; \" transform=\"scale(1,-1)\" /><polygon points=\"0.15625 0.21875 0.125 0.21875 0.140625 0.25 \" style=\"vector-effect: non-scaling-stroke; \" transform=\"scale(1,-1)\" /><polygon points=\"0.171875 0.1875 0.140625 0.1875 0.15625 0.21875 \" style=\"vector-effect: non-scaling-stroke; \" transform=\"scale(1,-1)\" /><polygon points=\"0.171875 0.125 0.140625 0.125 0.15625 0.15625 \" style=\"vector-effect: non-scaling-stroke; \" transform=\"scale(1,-1)\" /><polygon points=\"0.1875 0.15625 0.15625 0.15625 0.171875 0.1875 \" style=\"vector-effect: non-scaling-stroke; \" transform=\"scale(1,-1)\" /><polygon points=\"0.203125 0.125 0.171875 0.125 0.1875 0.15625 \" style=\"vector-effect: non-scaling-stroke; \" transform=\"scale(1,-1)\" /><polygon points=\"0.171875 0.0 0.140625 0.0 0.15625 0.03125 \" style=\"vector-effect: non-scaling-stroke; \" transform=\"scale(1,-1)\" /><polygon points=\"0.1875 0.03125 0.15625 0.03125 0.171875 0.0625 \" style=\"vector-effect: non-scaling-stroke; \" transform=\"scale(1,-1)\" /><polygon points=\"0.203125 0.0 0.171875 0.0 0.1875 0.03125 \" style=\"vector-effect: non-scaling-stroke; \" transform=\"scale(1,-1)\" /><polygon points=\"0.203125 0.0625 0.171875 0.0625 0.1875 0.09375 \" style=\"vector-effect: non-scaling-stroke; \" transform=\"scale(1,-1)\" /><polygon points=\"0.21875 0.09375 0.1875 0.09375 0.203125 0.125 \" style=\"vector-effect: non-scaling-stroke; \" transform=\"scale(1,-1)\" /><polygon points=\"0.234375 0.0625 0.203125 0.0625 0.21875 0.09375 \" style=\"vector-effect: non-scaling-stroke; \" transform=\"scale(1,-1)\" /><polygon points=\"0.234375 0.0 0.203125 0.0 0.21875 0.03125 \" style=\"vector-effect: non-scaling-stroke; \" transform=\"scale(1,-1)\" /><polygon points=\"0.25 0.03125 0.21875 0.03125 0.234375 0.0625 \" style=\"vector-effect: non-scaling-stroke; \" transform=\"scale(1,-1)\" /><polygon points=\"0.265625 0.0 0.234375 0.0 0.25 0.03125 \" style=\"vector-effect: non-scaling-stroke; \" transform=\"scale(1,-1)\" /><polygon points=\"0.171875 0.25 0.140625 0.25 0.15625 0.28125 \" style=\"vector-effect: non-scaling-stroke; \" transform=\"scale(1,-1)\" /><polygon points=\"0.1875 0.28125 0.15625 0.28125 0.171875 0.3125 \" style=\"vector-effect: non-scaling-stroke; \" transform=\"scale(1,-1)\" /><polygon points=\"0.203125 0.25 0.171875 0.25 0.1875 0.28125 \" style=\"vector-effect: non-scaling-stroke; \" transform=\"scale(1,-1)\" /><polygon points=\"0.203125 0.3125 0.171875 0.3125 0.1875 0.34375 \" style=\"vector-effect: non-scaling-stroke; \" transform=\"scale(1,-1)\" /><polygon points=\"0.21875 0.34375 0.1875 0.34375 0.203125 0.375 \" style=\"vector-effect: non-scaling-stroke; \" transform=\"scale(1,-1)\" /><polygon points=\"0.234375 0.3125 0.203125 0.3125 0.21875 0.34375 \" style=\"vector-effect: non-scaling-stroke; \" transform=\"scale(1,-1)\" /><polygon points=\"0.234375 0.25 0.203125 0.25 0.21875 0.28125 \" style=\"vector-effect: non-scaling-stroke; \" transform=\"scale(1,-1)\" /><polygon points=\"0.25 0.28125 0.21875 0.28125 0.234375 0.3125 \" style=\"vector-effect: non-scaling-stroke; \" transform=\"scale(1,-1)\" /><polygon points=\"0.265625 0.25 0.234375 0.25 0.25 0.28125 \" style=\"vector-effect: non-scaling-stroke; \" transform=\"scale(1,-1)\" /><polygon points=\"0.234375 0.375 0.203125 0.375 0.21875 0.40625 \" style=\"vector-effect: non-scaling-stroke; \" transform=\"scale(1,-1)\" /><polygon points=\"0.25 0.40625 0.21875 0.40625 0.234375 0.4375 \" style=\"vector-effect: non-scaling-stroke; \" transform=\"scale(1,-1)\" /><polygon points=\"0.265625 0.375 0.234375 0.375 0.25 0.40625 \" style=\"vector-effect: non-scaling-stroke; \" transform=\"scale(1,-1)\" /><polygon points=\"0.265625 0.4375 0.234375 0.4375 0.25 0.46875 \" style=\"vector-effect: non-scaling-stroke; \" transform=\"scale(1,-1)\" /><polygon points=\"0.28125 0.46875 0.25 0.46875 0.265625 0.5 \" style=\"vector-effect: non-scaling-stroke; \" transform=\"scale(1,-1)\" /><polygon points=\"0.296875 0.4375 0.265625 0.4375 0.28125 0.46875 \" style=\"vector-effect: non-scaling-stroke; \" transform=\"scale(1,-1)\" /><polygon points=\"0.296875 0.375 0.265625 0.375 0.28125 0.40625 \" style=\"vector-effect: non-scaling-stroke; \" transform=\"scale(1,-1)\" /><polygon points=\"0.3125 0.40625 0.28125 0.40625 0.296875 0.4375 \" style=\"vector-effect: non-scaling-stroke; \" transform=\"scale(1,-1)\" /><polygon points=\"0.328125 0.375 0.296875 0.375 0.3125 0.40625 \" style=\"vector-effect: non-scaling-stroke; \" transform=\"scale(1,-1)\" /><polygon points=\"0.296875 0.25 0.265625 0.25 0.28125 0.28125 \" style=\"vector-effect: non-scaling-stroke; \" transform=\"scale(1,-1)\" /><polygon points=\"0.3125 0.28125 0.28125 0.28125 0.296875 0.3125 \" style=\"vector-effect: non-scaling-stroke; \" transform=\"scale(1,-1)\" /><polygon points=\"0.328125 0.25 0.296875 0.25 0.3125 0.28125 \" style=\"vector-effect: non-scaling-stroke; \" transform=\"scale(1,-1)\" /><polygon points=\"0.328125 0.3125 0.296875 0.3125 0.3125 0.34375 \" style=\"vector-effect: non-scaling-stroke; \" transform=\"scale(1,-1)\" /><polygon points=\"0.34375 0.34375 0.3125 0.34375 0.328125 0.375 \" style=\"vector-effect: non-scaling-stroke; \" transform=\"scale(1,-1)\" /><polygon points=\"0.359375 0.3125 0.328125 0.3125 0.34375 0.34375 \" style=\"vector-effect: non-scaling-stroke; \" transform=\"scale(1,-1)\" /><polygon points=\"0.359375 0.25 0.328125 0.25 0.34375 0.28125 \" style=\"vector-effect: non-scaling-stroke; \" transform=\"scale(1,-1)\" /><polygon points=\"0.375 0.28125 0.34375 0.28125 0.359375 0.3125 \" style=\"vector-effect: non-scaling-stroke; \" transform=\"scale(1,-1)\" /><polygon points=\"0.390625 0.25 0.359375 0.25 0.375 0.28125 \" style=\"vector-effect: non-scaling-stroke; \" transform=\"scale(1,-1)\" /><polygon points=\"0.296875 0.0 0.265625 0.0 0.28125 0.03125 \" style=\"vector-effect: non-scaling-stroke; \" transform=\"scale(1,-1)\" /><polygon points=\"0.3125 0.03125 0.28125 0.03125 0.296875 0.0625 \" style=\"vector-effect: non-scaling-stroke; \" transform=\"scale(1,-1)\" /><polygon points=\"0.328125 0.0 0.296875 0.0 0.3125 0.03125 \" style=\"vector-effect: non-scaling-stroke; \" transform=\"scale(1,-1)\" /><polygon points=\"0.328125 0.0625 0.296875 0.0625 0.3125 0.09375 \" style=\"vector-effect: non-scaling-stroke; \" transform=\"scale(1,-1)\" /><polygon points=\"0.34375 0.09375 0.3125 0.09375 0.328125 0.125 \" style=\"vector-effect: non-scaling-stroke; \" transform=\"scale(1,-1)\" /><polygon points=\"0.359375 0.0625 0.328125 0.0625 0.34375 0.09375 \" style=\"vector-effect: non-scaling-stroke; \" transform=\"scale(1,-1)\" /><polygon points=\"0.359375 0.0 0.328125 0.0 0.34375 0.03125 \" style=\"vector-effect: non-scaling-stroke; \" transform=\"scale(1,-1)\" /><polygon points=\"0.375 0.03125 0.34375 0.03125 0.359375 0.0625 \" style=\"vector-effect: non-scaling-stroke; \" transform=\"scale(1,-1)\" /><polygon points=\"0.390625 0.0 0.359375 0.0 0.375 0.03125 \" style=\"vector-effect: non-scaling-stroke; \" transform=\"scale(1,-1)\" /><polygon points=\"0.359375 0.125 0.328125 0.125 0.34375 0.15625 \" style=\"vector-effect: non-scaling-stroke; \" transform=\"scale(1,-1)\" /><polygon points=\"0.375 0.15625 0.34375 0.15625 0.359375 0.1875 \" style=\"vector-effect: non-scaling-stroke; \" transform=\"scale(1,-1)\" /><polygon points=\"0.390625 0.125 0.359375 0.125 0.375 0.15625 \" style=\"vector-effect: non-scaling-stroke; \" transform=\"scale(1,-1)\" /><polygon points=\"0.390625 0.1875 0.359375 0.1875 0.375 0.21875 \" style=\"vector-effect: non-scaling-stroke; \" transform=\"scale(1,-1)\" /><polygon points=\"0.40625 0.21875 0.375 0.21875 0.390625 0.25 \" style=\"vector-effect: non-scaling-stroke; \" transform=\"scale(1,-1)\" /><polygon points=\"0.421875 0.1875 0.390625 0.1875 0.40625 0.21875 \" style=\"vector-effect: non-scaling-stroke; \" transform=\"scale(1,-1)\" /><polygon points=\"0.421875 0.125 0.390625 0.125 0.40625 0.15625 \" style=\"vector-effect: non-scaling-stroke; \" transform=\"scale(1,-1)\" /><polygon points=\"0.4375 0.15625 0.40625 0.15625 0.421875 0.1875 \" style=\"vector-effect: non-scaling-stroke; \" transform=\"scale(1,-1)\" /><polygon points=\"0.453125 0.125 0.421875 0.125 0.4375 0.15625 \" style=\"vector-effect: non-scaling-stroke; \" transform=\"scale(1,-1)\" /><polygon points=\"0.421875 0.0 0.390625 0.0 0.40625 0.03125 \" style=\"vector-effect: non-scaling-stroke; \" transform=\"scale(1,-1)\" /><polygon points=\"0.4375 0.03125 0.40625 0.03125 0.421875 0.0625 \" style=\"vector-effect: non-scaling-stroke; \" transform=\"scale(1,-1)\" /><polygon points=\"0.453125 0.0 0.421875 0.0 0.4375 0.03125 \" style=\"vector-effect: non-scaling-stroke; \" transform=\"scale(1,-1)\" /><polygon points=\"0.453125 0.0625 0.421875 0.0625 0.4375 0.09375 \" style=\"vector-effect: non-scaling-stroke; \" transform=\"scale(1,-1)\" /><polygon points=\"0.46875 0.09375 0.4375 0.09375 0.453125 0.125 \" style=\"vector-effect: non-scaling-stroke; \" transform=\"scale(1,-1)\" /><polygon points=\"0.484375 0.0625 0.453125 0.0625 0.46875 0.09375 \" style=\"vector-effect: non-scaling-stroke; \" transform=\"scale(1,-1)\" /><polygon points=\"0.484375 0.0 0.453125 0.0 0.46875 0.03125 \" style=\"vector-effect: non-scaling-stroke; \" transform=\"scale(1,-1)\" /><polygon points=\"0.5 0.03125 0.46875 0.03125 0.484375 0.0625 \" style=\"vector-effect: non-scaling-stroke; \" transform=\"scale(1,-1)\" /><polygon points=\"0.515625 0.0 0.484375 0.0 0.5 0.03125 \" style=\"vector-effect: non-scaling-stroke; \" transform=\"scale(1,-1)\" /></svg>"
      ]
     },
     "execution_count": 18,
     "metadata": {},
     "output_type": "execute_result"
    }
   ],
   "source": [
    "function sierpinski(n)\n",
    "    if n == 0\n",
    "        return Polygon([(1,0), (0,0), (1/2, 1)])\n",
    "    else\n",
    "        t = sierpinski(n - 1)\n",
    "        return U(0.5) * (T(-1/2,0)t + T(0,1)t + T(1/2,0)t)\n",
    "    end\n",
    "end\n",
    "\n",
    "d = sierpinski(5)\n",
    "draw(d)"
   ]
  }
 ],
 "metadata": {
  "kernelspec": {
   "display_name": "Julia 1.10.4",
   "language": "julia",
   "name": "julia-1.10"
  },
  "language_info": {
   "file_extension": ".jl",
   "mimetype": "application/julia",
   "name": "julia",
   "version": "1.10.4"
  }
 },
 "nbformat": 4,
 "nbformat_minor": 5
}
