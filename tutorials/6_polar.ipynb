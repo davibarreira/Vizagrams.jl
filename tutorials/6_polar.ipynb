{
 "cells": [
  {
   "cell_type": "markdown",
   "id": "1ec6e8f6-382f-4ef2-8c44-93b07af76372",
   "metadata": {},
   "source": [
    "# Polar Visualizations\n",
    "\n",
    "At the moment, all our plots have used the tipical Cartesian coordinates. In this tutorial,\n",
    "we explor data visualizations that use other coordinate systems.\n"
   ]
  },
  {
   "cell_type": "code",
   "execution_count": 1,
   "id": "482a99a3-4313-4281-8254-709e36b0ddbe",
   "metadata": {},
   "outputs": [
    {
     "name": "stderr",
     "output_type": "stream",
     "text": [
      "\u001b[32m\u001b[1m  Activating\u001b[22m\u001b[39m project at `~/Documents/GitHub/Vizagrams.jl`\n"
     ]
    }
   ],
   "source": [
    "using Pkg\n",
    "Pkg.activate(\"../.\")\n",
    "using TestEnv\n",
    "TestEnv.activate()\n",
    "using Vizagrams\n",
    "using StructArrays\n",
    "using DataFrames\n",
    "using Random\n",
    "using Transducers\n",
    "using LaTeXStrings"
   ]
  },
  {
   "cell_type": "markdown",
   "id": "02bf214f-17d5-403d-b3a5-27525eb1cedd",
   "metadata": {},
   "source": [
    "## 1. Pizza Plot  / Pie Chart"
   ]
  },
  {
   "cell_type": "code",
   "execution_count": 2,
   "id": "23788074-148f-4883-905e-22381f2a5aac",
   "metadata": {},
   "outputs": [
    {
     "data": {
      "text/html": [
       "<div><div style = \"float: left;\"><span>6×6 DataFrame</span></div><div style = \"clear: both;\"></div></div><div class = \"data-frame\" style = \"overflow-x: scroll;\"><table class = \"data-frame\" style = \"margin-bottom: 6px;\"><thead><tr class = \"header\"><th class = \"rowNumber\" style = \"font-weight: bold; text-align: right;\">Row</th><th style = \"text-align: left;\">x</th><th style = \"text-align: left;\">y</th><th style = \"text-align: left;\">c</th><th style = \"text-align: left;\">d</th><th style = \"text-align: left;\">e</th><th style = \"text-align: left;\">k</th></tr><tr class = \"subheader headerLastRow\"><th class = \"rowNumber\" style = \"font-weight: bold; text-align: right;\"></th><th title = \"Int64\" style = \"text-align: left;\">Int64</th><th title = \"Int64\" style = \"text-align: left;\">Int64</th><th title = \"String\" style = \"text-align: left;\">String</th><th title = \"Int64\" style = \"text-align: left;\">Int64</th><th title = \"Int64\" style = \"text-align: left;\">Int64</th><th title = \"String\" style = \"text-align: left;\">String</th></tr></thead><tbody><tr><td class = \"rowNumber\" style = \"font-weight: bold; text-align: right;\">1</td><td style = \"text-align: right;\">1</td><td style = \"text-align: right;\">10</td><td style = \"text-align: left;\">a</td><td style = \"text-align: right;\">1</td><td style = \"text-align: right;\">1</td><td style = \"text-align: left;\">key1</td></tr><tr><td class = \"rowNumber\" style = \"font-weight: bold; text-align: right;\">2</td><td style = \"text-align: right;\">2</td><td style = \"text-align: right;\">10</td><td style = \"text-align: left;\">b</td><td style = \"text-align: right;\">1</td><td style = \"text-align: right;\">3</td><td style = \"text-align: left;\">key2</td></tr><tr><td class = \"rowNumber\" style = \"font-weight: bold; text-align: right;\">3</td><td style = \"text-align: right;\">3</td><td style = \"text-align: right;\">20</td><td style = \"text-align: left;\">a</td><td style = \"text-align: right;\">1</td><td style = \"text-align: right;\">2</td><td style = \"text-align: left;\">key3</td></tr><tr><td class = \"rowNumber\" style = \"font-weight: bold; text-align: right;\">4</td><td style = \"text-align: right;\">5</td><td style = \"text-align: right;\">10</td><td style = \"text-align: left;\">a</td><td style = \"text-align: right;\">1</td><td style = \"text-align: right;\">3</td><td style = \"text-align: left;\">key4</td></tr><tr><td class = \"rowNumber\" style = \"font-weight: bold; text-align: right;\">5</td><td style = \"text-align: right;\">1</td><td style = \"text-align: right;\">20</td><td style = \"text-align: left;\">b</td><td style = \"text-align: right;\">0</td><td style = \"text-align: right;\">2</td><td style = \"text-align: left;\">key5</td></tr><tr><td class = \"rowNumber\" style = \"font-weight: bold; text-align: right;\">6</td><td style = \"text-align: right;\">2</td><td style = \"text-align: right;\">30</td><td style = \"text-align: left;\">a</td><td style = \"text-align: right;\">0</td><td style = \"text-align: right;\">3</td><td style = \"text-align: left;\">key6</td></tr></tbody></table></div>"
      ],
      "text/latex": [
       "\\begin{tabular}{r|cccccc}\n",
       "\t& x & y & c & d & e & k\\\\\n",
       "\t\\hline\n",
       "\t& Int64 & Int64 & String & Int64 & Int64 & String\\\\\n",
       "\t\\hline\n",
       "\t1 & 1 & 10 & a & 1 & 1 & key1 \\\\\n",
       "\t2 & 2 & 10 & b & 1 & 3 & key2 \\\\\n",
       "\t3 & 3 & 20 & a & 1 & 2 & key3 \\\\\n",
       "\t4 & 5 & 10 & a & 1 & 3 & key4 \\\\\n",
       "\t5 & 1 & 20 & b & 0 & 2 & key5 \\\\\n",
       "\t6 & 2 & 30 & a & 0 & 3 & key6 \\\\\n",
       "\\end{tabular}\n"
      ],
      "text/plain": [
       "\u001b[1m6×6 DataFrame\u001b[0m\n",
       "\u001b[1m Row \u001b[0m│\u001b[1m x     \u001b[0m\u001b[1m y     \u001b[0m\u001b[1m c      \u001b[0m\u001b[1m d     \u001b[0m\u001b[1m e     \u001b[0m\u001b[1m k      \u001b[0m\n",
       "     │\u001b[90m Int64 \u001b[0m\u001b[90m Int64 \u001b[0m\u001b[90m String \u001b[0m\u001b[90m Int64 \u001b[0m\u001b[90m Int64 \u001b[0m\u001b[90m String \u001b[0m\n",
       "─────┼────────────────────────────────────────────\n",
       "   1 │     1     10  a           1      1  key1\n",
       "   2 │     2     10  b           1      3  key2\n",
       "   3 │     3     20  a           1      2  key3\n",
       "   4 │     5     10  a           1      3  key4\n",
       "   5 │     1     20  b           0      2  key5\n",
       "   6 │     2     30  a           0      3  key6"
      ]
     },
     "execution_count": 2,
     "metadata": {},
     "output_type": "execute_result"
    }
   ],
   "source": [
    "Random.seed!(4)\n",
    "df = DataFrame(x=[1, 2, 3, 5, 1, 2], y=[10, 10, 20, 10, 20, 30], c=[\"a\", \"b\", \"a\", \"a\", \"b\", \"a\"],d=rand([0,1],6),e=rand([1,2,3],6),\n",
    "    k=[\"key1\",\"key2\",\"key3\",\"key4\",\"key5\",\"key6\"]\n",
    ")"
   ]
  },
  {
   "cell_type": "code",
   "execution_count": 3,
   "id": "c7966b01-eb38-48cf-aaa6-caefb201a1bc",
   "metadata": {},
   "outputs": [
    {
     "data": {
      "text/html": [
       "<svg height=\"400\" viewBox=\"-100.6509292390157 -135.80917968749998 278.63068184318234 258.9673177083333\" width=\"431.13126152995125\" preserveAspectRatio=\"xMidYMid meet\" xmlns=\"http://www.w3.org/2000/svg\" version=\"1.1\"><text x=\"146.33333333333334\" style=\"font-family: Helvetica; text-anchor: start; vector-effect: non-scaling-stroke; font-size: 8.0pt; font-weight: bold; \" transform=\"translate(0 -250.0) rotate(-0.0, 146.33333333333334, 125.0)\" y=\"125.0\">k</text><circle cy=\"110.0\" style=\"vector-effect: non-scaling-stroke; fill: #6388B4; \" r=\"3.0\" transform=\"scale(1,-1)\" cx=\"150.0\" /><text x=\"155.41666666666666\" style=\"font-family: Helvetica; text-anchor: start; vector-effect: non-scaling-stroke; font-size: 7.0pt; \" transform=\"translate(0 -214.0) rotate(-0.0, 155.41666666666666, 107.0)\" y=\"107.0\">key1</text><circle cy=\"96.3046875\" style=\"vector-effect: non-scaling-stroke; fill: #FFAE34; \" r=\"3.0\" transform=\"scale(1,-1)\" cx=\"150.0\" /><text x=\"155.41666666666666\" style=\"font-family: Helvetica; text-anchor: start; vector-effect: non-scaling-stroke; font-size: 7.0pt; \" transform=\"translate(0 -186.609375) rotate(-0.0, 155.41666666666666, 93.3046875)\" y=\"93.3046875\">key2</text><circle cy=\"82.609375\" style=\"vector-effect: non-scaling-stroke; fill: #EF6F6A; \" r=\"3.0\" transform=\"scale(1,-1)\" cx=\"150.0\" /><text x=\"155.41666666666666\" style=\"font-family: Helvetica; text-anchor: start; vector-effect: non-scaling-stroke; font-size: 7.0pt; \" transform=\"translate(0 -159.21875) rotate(-0.0, 155.41666666666666, 79.609375)\" y=\"79.609375\">key3</text><circle cy=\"68.9140625\" style=\"vector-effect: non-scaling-stroke; fill: #8CC2CA; \" r=\"3.0\" transform=\"scale(1,-1)\" cx=\"150.0\" /><text x=\"155.41666666666666\" style=\"font-family: Helvetica; text-anchor: start; vector-effect: non-scaling-stroke; font-size: 7.0pt; \" transform=\"translate(0 -131.828125) rotate(-0.0, 155.41666666666666, 65.9140625)\" y=\"65.9140625\">key4</text><circle cy=\"55.21875\" style=\"vector-effect: non-scaling-stroke; fill: #55AD89; \" r=\"3.0\" transform=\"scale(1,-1)\" cx=\"150.0\" /><text x=\"155.41666666666666\" style=\"font-family: Helvetica; text-anchor: start; vector-effect: non-scaling-stroke; font-size: 7.0pt; \" transform=\"translate(0 -104.4375) rotate(-0.0, 155.41666666666666, 52.21875)\" y=\"52.21875\">key5</text><circle cy=\"41.5234375\" style=\"vector-effect: non-scaling-stroke; fill: #C3BC3F; \" r=\"3.0\" transform=\"scale(1,-1)\" cx=\"150.0\" /><text x=\"155.41666666666666\" style=\"font-family: Helvetica; text-anchor: start; vector-effect: non-scaling-stroke; font-size: 7.0pt; \" transform=\"translate(0 -77.046875) rotate(-0.0, 155.41666666666666, 38.5234375)\" y=\"38.5234375\">key6</text><path style=\"vector-effect: non-scaling-stroke; stroke: white; stroke-linejoin: round; fill: #6388B4; stroke-width: 2; \" transform=\"scale(1,-1)\" d=\"M 0.0 -80.0 A 80.0 80.0 0 0 1 34.71069912940465 -72.07750943219354L 0.0 0.0A 0.0 0.0 0 0 0 0.0 0.0Z\" /><path style=\"vector-effect: non-scaling-stroke; stroke: white; stroke-linejoin: round; fill: #FFAE34; stroke-width: 2; \" transform=\"scale(1,-1)\" d=\"M 34.71069912940466 -72.07750943219355 A 80.00000000000003 80.00000000000003 0 0 1 77.99423297454592 -17.80167471650516L 0.0 0.0A 0.0 0.0 0 0 0 0.0 0.0Z\" /><path style=\"vector-effect: non-scaling-stroke; stroke: white; stroke-linejoin: round; fill: #EF6F6A; stroke-width: 2; \" transform=\"scale(1,-1)\" d=\"M 97.49279121818236 -22.252093395631448 A 100.0 100.0 0 0 1 43.38837391175582 90.09688679024191L 0.0 0.0A 0.0 0.0 0 0 0 0.0 0.0Z\" /><path style=\"vector-effect: non-scaling-stroke; stroke: white; stroke-linejoin: round; fill: #8CC2CA; stroke-width: 2; \" transform=\"scale(1,-1)\" d=\"M 34.710699129404674 72.07750943219355 A 80.00000000000003 80.00000000000003 0 0 1 -77.99423297454592 -17.801674716505147L 0.0 0.0A 0.0 0.0 0 0 0 0.0 0.0Z\" /><path style=\"vector-effect: non-scaling-stroke; stroke: white; stroke-linejoin: round; fill: #55AD89; stroke-width: 2; \" transform=\"scale(1,-1)\" d=\"M -97.49279121818236 -22.25209339563142 A 100.0 100.0 0 0 1 -78.18314824680299 -62.34898018587334L 0.0 0.0A 0.0 0.0 0 0 0 0.0 0.0Z\" /><path style=\"vector-effect: non-scaling-stroke; stroke: white; stroke-linejoin: round; fill: #C3BC3F; stroke-width: 2; \" transform=\"scale(1,-1)\" d=\"M -93.81977789616359 -74.818776223048 A 120.0 120.0 0 0 1 -1.3597293354355151e-13 -120.0L 0.0 0.0A 0.0 0.0 0 0 0 0.0 0.0Z\" /></svg>"
      ],
      "text/plain": [
       "<svg height=\"400\" viewBox=\"-100.6509292390157 -135.80917968749998 278.63068184318234 258.9673177083333\" width=\"431.13126152995125\" preserveAspectRatio=\"xMidYMid meet\" xmlns=\"http://www.w3.org/2000/svg\" version=\"1.1\"><text x=\"146.33333333333334\" style=\"font-family: Helvetica; text-anchor: start; vector-effect: non-scaling-stroke; font-size: 8.0pt; font-weight: bold; \" transform=\"translate(0 -250.0) rotate(-0.0, 146.33333333333334, 125.0)\" y=\"125.0\">k</text><circle cy=\"110.0\" style=\"vector-effect: non-scaling-stroke; fill: #6388B4; \" r=\"3.0\" transform=\"scale(1,-1)\" cx=\"150.0\" /><text x=\"155.41666666666666\" style=\"font-family: Helvetica; text-anchor: start; vector-effect: non-scaling-stroke; font-size: 7.0pt; \" transform=\"translate(0 -214.0) rotate(-0.0, 155.41666666666666, 107.0)\" y=\"107.0\">key1</text><circle cy=\"96.3046875\" style=\"vector-effect: non-scaling-stroke; fill: #FFAE34; \" r=\"3.0\" transform=\"scale(1,-1)\" cx=\"150.0\" /><text x=\"155.41666666666666\" style=\"font-family: Helvetica; text-anchor: start; vector-effect: non-scaling-stroke; font-size: 7.0pt; \" transform=\"translate(0 -186.609375) rotate(-0.0, 155.41666666666666, 93.3046875)\" y=\"93.3046875\">key2</text><circle cy=\"82.609375\" style=\"vector-effect: non-scaling-stroke; fill: #EF6F6A; \" r=\"3.0\" transform=\"scale(1,-1)\" cx=\"150.0\" /><text x=\"155.41666666666666\" style=\"font-family: Helvetica; text-anchor: start; vector-effect: non-scaling-stroke; font-size: 7.0pt; \" transform=\"translate(0 -159.21875) rotate(-0.0, 155.41666666666666, 79.609375)\" y=\"79.609375\">key3</text><circle cy=\"68.9140625\" style=\"vector-effect: non-scaling-stroke; fill: #8CC2CA; \" r=\"3.0\" transform=\"scale(1,-1)\" cx=\"150.0\" /><text x=\"155.41666666666666\" style=\"font-family: Helvetica; text-anchor: start; vector-effect: non-scaling-stroke; font-size: 7.0pt; \" transform=\"translate(0 -131.828125) rotate(-0.0, 155.41666666666666, 65.9140625)\" y=\"65.9140625\">key4</text><circle cy=\"55.21875\" style=\"vector-effect: non-scaling-stroke; fill: #55AD89; \" r=\"3.0\" transform=\"scale(1,-1)\" cx=\"150.0\" /><text x=\"155.41666666666666\" style=\"font-family: Helvetica; text-anchor: start; vector-effect: non-scaling-stroke; font-size: 7.0pt; \" transform=\"translate(0 -104.4375) rotate(-0.0, 155.41666666666666, 52.21875)\" y=\"52.21875\">key5</text><circle cy=\"41.5234375\" style=\"vector-effect: non-scaling-stroke; fill: #C3BC3F; \" r=\"3.0\" transform=\"scale(1,-1)\" cx=\"150.0\" /><text x=\"155.41666666666666\" style=\"font-family: Helvetica; text-anchor: start; vector-effect: non-scaling-stroke; font-size: 7.0pt; \" transform=\"translate(0 -77.046875) rotate(-0.0, 155.41666666666666, 38.5234375)\" y=\"38.5234375\">key6</text><path style=\"vector-effect: non-scaling-stroke; stroke: white; stroke-linejoin: round; fill: #6388B4; stroke-width: 2; \" transform=\"scale(1,-1)\" d=\"M 0.0 -80.0 A 80.0 80.0 0 0 1 34.71069912940465 -72.07750943219354L 0.0 0.0A 0.0 0.0 0 0 0 0.0 0.0Z\" /><path style=\"vector-effect: non-scaling-stroke; stroke: white; stroke-linejoin: round; fill: #FFAE34; stroke-width: 2; \" transform=\"scale(1,-1)\" d=\"M 34.71069912940466 -72.07750943219355 A 80.00000000000003 80.00000000000003 0 0 1 77.99423297454592 -17.80167471650516L 0.0 0.0A 0.0 0.0 0 0 0 0.0 0.0Z\" /><path style=\"vector-effect: non-scaling-stroke; stroke: white; stroke-linejoin: round; fill: #EF6F6A; stroke-width: 2; \" transform=\"scale(1,-1)\" d=\"M 97.49279121818236 -22.252093395631448 A 100.0 100.0 0 0 1 43.38837391175582 90.09688679024191L 0.0 0.0A 0.0 0.0 0 0 0 0.0 0.0Z\" /><path style=\"vector-effect: non-scaling-stroke; stroke: white; stroke-linejoin: round; fill: #8CC2CA; stroke-width: 2; \" transform=\"scale(1,-1)\" d=\"M 34.710699129404674 72.07750943219355 A 80.00000000000003 80.00000000000003 0 0 1 -77.99423297454592 -17.801674716505147L 0.0 0.0A 0.0 0.0 0 0 0 0.0 0.0Z\" /><path style=\"vector-effect: non-scaling-stroke; stroke: white; stroke-linejoin: round; fill: #55AD89; stroke-width: 2; \" transform=\"scale(1,-1)\" d=\"M -97.49279121818236 -22.25209339563142 A 100.0 100.0 0 0 1 -78.18314824680299 -62.34898018587334L 0.0 0.0A 0.0 0.0 0 0 0 0.0 0.0Z\" /><path style=\"vector-effect: non-scaling-stroke; stroke: white; stroke-linejoin: round; fill: #C3BC3F; stroke-width: 2; \" transform=\"scale(1,-1)\" d=\"M -93.81977789616359 -74.818776223048 A 120.0 120.0 0 0 1 -1.3597293354355151e-13 -120.0L 0.0 0.0A 0.0 0.0 0 0 0 0.0 0.0Z\" /></svg>"
      ]
     },
     "execution_count": 3,
     "metadata": {},
     "output_type": "execute_result"
    }
   ],
   "source": [
    "plt = Plot(\n",
    "    figsize=(300,250),\n",
    "    data=df,\n",
    "    encodings=(\n",
    "        color=(field=:k,datatype=:n),\n",
    "        angle = (field = :x,scale=IdScale()),\n",
    "        r = (field=:y, scale_range=(80,120))\n",
    "    ),\n",
    "    graphic = Pizza()\n",
    ")\n",
    "\n",
    "draw(plt, height=400)"
   ]
  },
  {
   "cell_type": "code",
   "execution_count": 8,
   "id": "1a296f39-aad6-4596-ae96-dc5eca729b3e",
   "metadata": {},
   "outputs": [
    {
     "data": {
      "text/html": [
       "<svg height=\"400\" viewBox=\"-112.38154435669688 -135.88210371458533 290.43422098794883 264.94708792933056\" width=\"439.44079791818945\" preserveAspectRatio=\"xMidYMid meet\" xmlns=\"http://www.w3.org/2000/svg\" version=\"1.1\"><text x=\"146.33333333333334\" style=\"font-family: Helvetica; text-anchor: start; vector-effect: non-scaling-stroke; font-size: 8.0pt; font-weight: bold; \" transform=\"translate(0 -250.0) rotate(-0.0, 146.33333333333334, 125.0)\" y=\"125.0\">k</text><circle cy=\"110.0\" style=\"vector-effect: non-scaling-stroke; fill: #6388B4; \" r=\"3.0\" transform=\"scale(1,-1)\" cx=\"150.0\" /><text x=\"155.41666666666666\" style=\"font-family: Helvetica; text-anchor: start; vector-effect: non-scaling-stroke; font-size: 7.0pt; \" transform=\"translate(0 -214.0) rotate(-0.0, 155.41666666666666, 107.0)\" y=\"107.0\">key1</text><circle cy=\"96.3046875\" style=\"vector-effect: non-scaling-stroke; fill: #FFAE34; \" r=\"3.0\" transform=\"scale(1,-1)\" cx=\"150.0\" /><text x=\"155.41666666666666\" style=\"font-family: Helvetica; text-anchor: start; vector-effect: non-scaling-stroke; font-size: 7.0pt; \" transform=\"translate(0 -186.609375) rotate(-0.0, 155.41666666666666, 93.3046875)\" y=\"93.3046875\">key2</text><circle cy=\"82.609375\" style=\"vector-effect: non-scaling-stroke; fill: #EF6F6A; \" r=\"3.0\" transform=\"scale(1,-1)\" cx=\"150.0\" /><text x=\"155.41666666666666\" style=\"font-family: Helvetica; text-anchor: start; vector-effect: non-scaling-stroke; font-size: 7.0pt; \" transform=\"translate(0 -159.21875) rotate(-0.0, 155.41666666666666, 79.609375)\" y=\"79.609375\">key3</text><circle cy=\"68.9140625\" style=\"vector-effect: non-scaling-stroke; fill: #8CC2CA; \" r=\"3.0\" transform=\"scale(1,-1)\" cx=\"150.0\" /><text x=\"155.41666666666666\" style=\"font-family: Helvetica; text-anchor: start; vector-effect: non-scaling-stroke; font-size: 7.0pt; \" transform=\"translate(0 -131.828125) rotate(-0.0, 155.41666666666666, 65.9140625)\" y=\"65.9140625\">key4</text><circle cy=\"55.21875\" style=\"vector-effect: non-scaling-stroke; fill: #55AD89; \" r=\"3.0\" transform=\"scale(1,-1)\" cx=\"150.0\" /><text x=\"155.41666666666666\" style=\"font-family: Helvetica; text-anchor: start; vector-effect: non-scaling-stroke; font-size: 7.0pt; \" transform=\"translate(0 -104.4375) rotate(-0.0, 155.41666666666666, 52.21875)\" y=\"52.21875\">key5</text><circle cy=\"41.5234375\" style=\"vector-effect: non-scaling-stroke; fill: #C3BC3F; \" r=\"3.0\" transform=\"scale(1,-1)\" cx=\"150.0\" /><text x=\"155.41666666666666\" style=\"font-family: Helvetica; text-anchor: start; vector-effect: non-scaling-stroke; font-size: 7.0pt; \" transform=\"translate(0 -77.046875) rotate(-0.0, 155.41666666666666, 38.5234375)\" y=\"38.5234375\">key6</text><path style=\"vector-effect: non-scaling-stroke; stroke: white; stroke-linejoin: round; fill: #6388B4; stroke-width: 2; \" transform=\"scale(1,-1)\" d=\"M 0.0 -80.0 A 80.0 80.0 0 0 1 34.71069912940465 -72.07750943219354L 8.677674782351163 -18.019377358048388A 20.0 20.0 0 0 0 0.0 -20.0Z\" /><path style=\"vector-effect: non-scaling-stroke; stroke: white; stroke-linejoin: round; fill: #FFAE34; stroke-width: 2; \" transform=\"scale(1,-1)\" d=\"M 34.71069912940466 -72.07750943219355 A 80.00000000000003 80.00000000000003 0 0 1 77.99423297454592 -17.80167471650516L 19.49855824363648 -4.450418679126287A 20.000000000000007 20.000000000000007 0 0 0 8.677674782351165 -18.019377358048388Z\" /><path style=\"vector-effect: non-scaling-stroke; stroke: white; stroke-linejoin: round; fill: #EF6F6A; stroke-width: 2; \" transform=\"scale(1,-1)\" d=\"M 97.49279121818236 -22.252093395631448 A 100.0 100.0 0 0 1 43.38837391175582 90.09688679024191L 8.677674782351165 18.019377358048388A 20.0 20.0 0 0 0 19.498558243636474 -4.4504186791262885Z\" /><path style=\"vector-effect: non-scaling-stroke; stroke: white; stroke-linejoin: round; fill: #8CC2CA; stroke-width: 2; \" transform=\"scale(1,-1)\" d=\"M 34.710699129404674 72.07750943219355 A 80.00000000000003 80.00000000000003 0 0 1 -77.99423297454592 -17.801674716505147L -19.49855824363648 -4.450418679126287A 20.000000000000007 20.000000000000007 0 0 0 8.677674782351168 18.019377358048388Z\" /><path style=\"vector-effect: non-scaling-stroke; stroke: white; stroke-linejoin: round; fill: #55AD89; stroke-width: 2; \" transform=\"scale(1,-1)\" d=\"M -97.49279121818236 -22.25209339563142 A 100.0 100.0 0 0 1 -78.18314824680299 -62.34898018587334L -15.636629649360598 -12.46979603717466A 20.0 20.0 0 0 0 -19.498558243636474 -4.450418679126285Z\" /><path style=\"vector-effect: non-scaling-stroke; stroke: white; stroke-linejoin: round; fill: #C3BC3F; stroke-width: 2; \" transform=\"scale(1,-1)\" d=\"M -93.81977789616359 -74.818776223048 A 120.0 120.0 0 0 1 -1.3597293354355151e-13 -120.0L -2.2662155590591917e-14 -20.0A 20.0 20.0 0 0 0 -15.636629649360598 -12.469796037174667Z\" /><text x=\"-58.57430478087037\" style=\"font-family: Helvetica; text-anchor: middle; vector-effect: non-scaling-stroke; font-size: 8.0pt; fill: #C3BC3F; \" transform=\"translate(0 251.26159433365314) rotate(-0.0, -58.57430478087037, -125.63079716682657)\" y=\"-125.63079716682657\">30</text><text x=\"-103.61141980877821\" style=\"font-family: Helvetica; text-anchor: middle; vector-effect: non-scaling-stroke; font-size: 8.0pt; fill: #55AD89; \" transform=\"translate(0 107.79325999703835) rotate(-0.0, -103.61141980877821, -53.896629998519174)\" y=\"-53.896629998519174\">20</text><text x=\"-59.23153117657968\" style=\"font-family: Helvetica; text-anchor: middle; vector-effect: non-scaling-stroke; font-size: 8.0pt; fill: #8CC2CA; \" transform=\"translate(0 -140.54798166892567) rotate(-0.0, -59.23153117657968, 70.27399083446284)\" y=\"70.27399083446284\">10</text><text x=\"103.61141980877821\" style=\"font-family: Helvetica; text-anchor: middle; vector-effect: non-scaling-stroke; font-size: 8.0pt; fill: #EF6F6A; \" transform=\"translate(0 -91.79325999703836) rotate(-0.0, 103.61141980877821, 45.89662999851918)\" y=\"45.89662999851918\">20</text><text x=\"74.27399083446284\" style=\"font-family: Helvetica; text-anchor: middle; vector-effect: non-scaling-stroke; font-size: 8.0pt; fill: #FFAE34; \" transform=\"translate(0 126.46306235315936) rotate(-0.0, 74.27399083446284, -63.23153117657968)\" y=\"-63.23153117657968\">10</text><text x=\"21.139488725849873\" style=\"font-family: Helvetica; text-anchor: middle; vector-effect: non-scaling-stroke; font-size: 8.0pt; fill: #6388B4; \" transform=\"translate(0 193.2363033145465) rotate(-0.0, 21.139488725849873, -96.61815165727324)\" y=\"-96.61815165727324\">10</text></svg>"
      ],
      "text/plain": [
       "<svg height=\"400\" viewBox=\"-112.38154435669688 -135.88210371458533 290.43422098794883 264.94708792933056\" width=\"439.44079791818945\" preserveAspectRatio=\"xMidYMid meet\" xmlns=\"http://www.w3.org/2000/svg\" version=\"1.1\"><text x=\"146.33333333333334\" style=\"font-family: Helvetica; text-anchor: start; vector-effect: non-scaling-stroke; font-size: 8.0pt; font-weight: bold; \" transform=\"translate(0 -250.0) rotate(-0.0, 146.33333333333334, 125.0)\" y=\"125.0\">k</text><circle cy=\"110.0\" style=\"vector-effect: non-scaling-stroke; fill: #6388B4; \" r=\"3.0\" transform=\"scale(1,-1)\" cx=\"150.0\" /><text x=\"155.41666666666666\" style=\"font-family: Helvetica; text-anchor: start; vector-effect: non-scaling-stroke; font-size: 7.0pt; \" transform=\"translate(0 -214.0) rotate(-0.0, 155.41666666666666, 107.0)\" y=\"107.0\">key1</text><circle cy=\"96.3046875\" style=\"vector-effect: non-scaling-stroke; fill: #FFAE34; \" r=\"3.0\" transform=\"scale(1,-1)\" cx=\"150.0\" /><text x=\"155.41666666666666\" style=\"font-family: Helvetica; text-anchor: start; vector-effect: non-scaling-stroke; font-size: 7.0pt; \" transform=\"translate(0 -186.609375) rotate(-0.0, 155.41666666666666, 93.3046875)\" y=\"93.3046875\">key2</text><circle cy=\"82.609375\" style=\"vector-effect: non-scaling-stroke; fill: #EF6F6A; \" r=\"3.0\" transform=\"scale(1,-1)\" cx=\"150.0\" /><text x=\"155.41666666666666\" style=\"font-family: Helvetica; text-anchor: start; vector-effect: non-scaling-stroke; font-size: 7.0pt; \" transform=\"translate(0 -159.21875) rotate(-0.0, 155.41666666666666, 79.609375)\" y=\"79.609375\">key3</text><circle cy=\"68.9140625\" style=\"vector-effect: non-scaling-stroke; fill: #8CC2CA; \" r=\"3.0\" transform=\"scale(1,-1)\" cx=\"150.0\" /><text x=\"155.41666666666666\" style=\"font-family: Helvetica; text-anchor: start; vector-effect: non-scaling-stroke; font-size: 7.0pt; \" transform=\"translate(0 -131.828125) rotate(-0.0, 155.41666666666666, 65.9140625)\" y=\"65.9140625\">key4</text><circle cy=\"55.21875\" style=\"vector-effect: non-scaling-stroke; fill: #55AD89; \" r=\"3.0\" transform=\"scale(1,-1)\" cx=\"150.0\" /><text x=\"155.41666666666666\" style=\"font-family: Helvetica; text-anchor: start; vector-effect: non-scaling-stroke; font-size: 7.0pt; \" transform=\"translate(0 -104.4375) rotate(-0.0, 155.41666666666666, 52.21875)\" y=\"52.21875\">key5</text><circle cy=\"41.5234375\" style=\"vector-effect: non-scaling-stroke; fill: #C3BC3F; \" r=\"3.0\" transform=\"scale(1,-1)\" cx=\"150.0\" /><text x=\"155.41666666666666\" style=\"font-family: Helvetica; text-anchor: start; vector-effect: non-scaling-stroke; font-size: 7.0pt; \" transform=\"translate(0 -77.046875) rotate(-0.0, 155.41666666666666, 38.5234375)\" y=\"38.5234375\">key6</text><path style=\"vector-effect: non-scaling-stroke; stroke: white; stroke-linejoin: round; fill: #6388B4; stroke-width: 2; \" transform=\"scale(1,-1)\" d=\"M 0.0 -80.0 A 80.0 80.0 0 0 1 34.71069912940465 -72.07750943219354L 8.677674782351163 -18.019377358048388A 20.0 20.0 0 0 0 0.0 -20.0Z\" /><path style=\"vector-effect: non-scaling-stroke; stroke: white; stroke-linejoin: round; fill: #FFAE34; stroke-width: 2; \" transform=\"scale(1,-1)\" d=\"M 34.71069912940466 -72.07750943219355 A 80.00000000000003 80.00000000000003 0 0 1 77.99423297454592 -17.80167471650516L 19.49855824363648 -4.450418679126287A 20.000000000000007 20.000000000000007 0 0 0 8.677674782351165 -18.019377358048388Z\" /><path style=\"vector-effect: non-scaling-stroke; stroke: white; stroke-linejoin: round; fill: #EF6F6A; stroke-width: 2; \" transform=\"scale(1,-1)\" d=\"M 97.49279121818236 -22.252093395631448 A 100.0 100.0 0 0 1 43.38837391175582 90.09688679024191L 8.677674782351165 18.019377358048388A 20.0 20.0 0 0 0 19.498558243636474 -4.4504186791262885Z\" /><path style=\"vector-effect: non-scaling-stroke; stroke: white; stroke-linejoin: round; fill: #8CC2CA; stroke-width: 2; \" transform=\"scale(1,-1)\" d=\"M 34.710699129404674 72.07750943219355 A 80.00000000000003 80.00000000000003 0 0 1 -77.99423297454592 -17.801674716505147L -19.49855824363648 -4.450418679126287A 20.000000000000007 20.000000000000007 0 0 0 8.677674782351168 18.019377358048388Z\" /><path style=\"vector-effect: non-scaling-stroke; stroke: white; stroke-linejoin: round; fill: #55AD89; stroke-width: 2; \" transform=\"scale(1,-1)\" d=\"M -97.49279121818236 -22.25209339563142 A 100.0 100.0 0 0 1 -78.18314824680299 -62.34898018587334L -15.636629649360598 -12.46979603717466A 20.0 20.0 0 0 0 -19.498558243636474 -4.450418679126285Z\" /><path style=\"vector-effect: non-scaling-stroke; stroke: white; stroke-linejoin: round; fill: #C3BC3F; stroke-width: 2; \" transform=\"scale(1,-1)\" d=\"M -93.81977789616359 -74.818776223048 A 120.0 120.0 0 0 1 -1.3597293354355151e-13 -120.0L -2.2662155590591917e-14 -20.0A 20.0 20.0 0 0 0 -15.636629649360598 -12.469796037174667Z\" /><text x=\"-58.57430478087037\" style=\"font-family: Helvetica; text-anchor: middle; vector-effect: non-scaling-stroke; font-size: 8.0pt; fill: #C3BC3F; \" transform=\"translate(0 251.26159433365314) rotate(-0.0, -58.57430478087037, -125.63079716682657)\" y=\"-125.63079716682657\">30</text><text x=\"-103.61141980877821\" style=\"font-family: Helvetica; text-anchor: middle; vector-effect: non-scaling-stroke; font-size: 8.0pt; fill: #55AD89; \" transform=\"translate(0 107.79325999703835) rotate(-0.0, -103.61141980877821, -53.896629998519174)\" y=\"-53.896629998519174\">20</text><text x=\"-59.23153117657968\" style=\"font-family: Helvetica; text-anchor: middle; vector-effect: non-scaling-stroke; font-size: 8.0pt; fill: #8CC2CA; \" transform=\"translate(0 -140.54798166892567) rotate(-0.0, -59.23153117657968, 70.27399083446284)\" y=\"70.27399083446284\">10</text><text x=\"103.61141980877821\" style=\"font-family: Helvetica; text-anchor: middle; vector-effect: non-scaling-stroke; font-size: 8.0pt; fill: #EF6F6A; \" transform=\"translate(0 -91.79325999703836) rotate(-0.0, 103.61141980877821, 45.89662999851918)\" y=\"45.89662999851918\">20</text><text x=\"74.27399083446284\" style=\"font-family: Helvetica; text-anchor: middle; vector-effect: non-scaling-stroke; font-size: 8.0pt; fill: #FFAE34; \" transform=\"translate(0 126.46306235315936) rotate(-0.0, 74.27399083446284, -63.23153117657968)\" y=\"-63.23153117657968\">10</text><text x=\"21.139488725849873\" style=\"font-family: Helvetica; text-anchor: middle; vector-effect: non-scaling-stroke; font-size: 8.0pt; fill: #6388B4; \" transform=\"translate(0 193.2363033145465) rotate(-0.0, 21.139488725849873, -96.61815165727324)\" y=\"-96.61815165727324\">10</text></svg>"
      ]
     },
     "execution_count": 8,
     "metadata": {},
     "output_type": "execute_result"
    }
   ],
   "source": [
    "plt = Plot(\n",
    "    figsize=(300,250),\n",
    "    data=df,\n",
    "    encodings=(\n",
    "        color=(field=:k,datatype=:n),\n",
    "        angle = (field = :x,scale=IdScale()),\n",
    "        r = (field=:y, scale_range=(80,120)),\n",
    "        text = (field=:y, scale=IdScale()),\n",
    "    ),\n",
    "    graphic = ∑(i=:rows, group_all=true) do row\n",
    "        \n",
    "            total_angle = reduce(+, row.angle)\n",
    "            angles = map(x -> 2π * x / total_angle, row.angle)\n",
    "            acc = collect(Scan(+)(vcat(0, angles[begin:(end - 1)])))\n",
    "            acc = (collect(Scan(+)(vcat(0, angles[begin:(end - 1)]))) .+ cumsum(angles))./2\n",
    "\n",
    "            return Pizza(rmajor=row.r,angles=row.angle, colors=row.color,rminor=20, angleinit=0) +\n",
    "                ∑() do sl\n",
    "                    r = sl.r + 15\n",
    "                    x = r*cos(sl.acc-π/2)\n",
    "                    y = r*sin(sl.acc-π/2)\n",
    "                    S(:fill=>sl.color)T(x,y)TextMark(text=sl.text,fontsize=8)\n",
    "            end(StructArray(r=row.r,acc=acc, text=row.text,color=row.color))\n",
    "            \n",
    "        end\n",
    ")\n",
    "\n",
    "draw(plt, height=400)"
   ]
  },
  {
   "cell_type": "code",
   "execution_count": 5,
   "id": "65b00127-a3b8-4177-a5a4-2e72c24ae165",
   "metadata": {},
   "outputs": [
    {
     "data": {
      "text/html": [
       "<svg height=\"400\" viewBox=\"-82.71879819261315 -135.3698398592798 260.2592109685596 222.9414517942787\" width=\"468.62914517832087\" preserveAspectRatio=\"xMidYMid meet\" xmlns=\"http://www.w3.org/2000/svg\" version=\"1.1\"><text x=\"146.33333333333334\" style=\"font-family: Helvetica; text-anchor: start; vector-effect: non-scaling-stroke; font-size: 8.0pt; font-weight: bold; \" transform=\"translate(0 -250.0) rotate(-0.0, 146.33333333333334, 125.0)\" y=\"125.0\">k</text><circle cy=\"110.0\" style=\"vector-effect: non-scaling-stroke; fill: #6388B4; \" r=\"3.0\" transform=\"scale(1,-1)\" cx=\"150.0\" /><text x=\"155.41666666666666\" style=\"font-family: Helvetica; text-anchor: start; vector-effect: non-scaling-stroke; font-size: 7.0pt; \" transform=\"translate(0 -214.0) rotate(-0.0, 155.41666666666666, 107.0)\" y=\"107.0\">key1</text><circle cy=\"96.3046875\" style=\"vector-effect: non-scaling-stroke; fill: #FFAE34; \" r=\"3.0\" transform=\"scale(1,-1)\" cx=\"150.0\" /><text x=\"155.41666666666666\" style=\"font-family: Helvetica; text-anchor: start; vector-effect: non-scaling-stroke; font-size: 7.0pt; \" transform=\"translate(0 -186.609375) rotate(-0.0, 155.41666666666666, 93.3046875)\" y=\"93.3046875\">key2</text><circle cy=\"82.609375\" style=\"vector-effect: non-scaling-stroke; fill: #EF6F6A; \" r=\"3.0\" transform=\"scale(1,-1)\" cx=\"150.0\" /><text x=\"155.41666666666666\" style=\"font-family: Helvetica; text-anchor: start; vector-effect: non-scaling-stroke; font-size: 7.0pt; \" transform=\"translate(0 -159.21875) rotate(-0.0, 155.41666666666666, 79.609375)\" y=\"79.609375\">key3</text><circle cy=\"68.9140625\" style=\"vector-effect: non-scaling-stroke; fill: #8CC2CA; \" r=\"3.0\" transform=\"scale(1,-1)\" cx=\"150.0\" /><text x=\"155.41666666666666\" style=\"font-family: Helvetica; text-anchor: start; vector-effect: non-scaling-stroke; font-size: 7.0pt; \" transform=\"translate(0 -131.828125) rotate(-0.0, 155.41666666666666, 65.9140625)\" y=\"65.9140625\">key4</text><circle cy=\"55.21875\" style=\"vector-effect: non-scaling-stroke; fill: #55AD89; \" r=\"3.0\" transform=\"scale(1,-1)\" cx=\"150.0\" /><text x=\"155.41666666666666\" style=\"font-family: Helvetica; text-anchor: start; vector-effect: non-scaling-stroke; font-size: 7.0pt; \" transform=\"translate(0 -104.4375) rotate(-0.0, 155.41666666666666, 52.21875)\" y=\"52.21875\">key5</text><circle cy=\"41.5234375\" style=\"vector-effect: non-scaling-stroke; fill: #C3BC3F; \" r=\"3.0\" transform=\"scale(1,-1)\" cx=\"150.0\" /><text x=\"155.41666666666666\" style=\"font-family: Helvetica; text-anchor: start; vector-effect: non-scaling-stroke; font-size: 7.0pt; \" transform=\"translate(0 -77.046875) rotate(-0.0, 155.41666666666666, 38.5234375)\" y=\"38.5234375\">key6</text><path style=\"vector-effect: non-scaling-stroke; stroke: white; stroke-linejoin: round; fill: #FFAE34; stroke-width: 2; \" transform=\"scale(1,-1)\" d=\"M 80.0 0.0 A 80.0 80.0 0 0 1 56.568542494923804 56.568542494923804L 14.142135623730951 14.142135623730951A 20.0 20.0 0 0 0 20.0 0.0Z\" /><path style=\"vector-effect: non-scaling-stroke; stroke: white; stroke-linejoin: round; fill: #EF6F6A; stroke-width: 2; \" transform=\"scale(1,-1)\" d=\"M 70.71067811865474 70.71067811865474 A 99.99999999999999 99.99999999999999 0 0 1 -70.71067811865474 70.71067811865477L -14.142135623730951 14.142135623730951A 20.000000000000004 20.000000000000004 0 0 0 14.142135623730955 14.142135623730947Z\" /><path style=\"vector-effect: non-scaling-stroke; stroke: white; stroke-linejoin: round; fill: #8CC2CA; stroke-width: 2; \" transform=\"scale(1,-1)\" d=\"M -56.5685424949238 56.568542494923804 A 80.0 80.0 0 0 1 56.56854249492379 -56.56854249492382L 14.142135623730947 -14.142135623730951A 20.0 20.0 0 0 0 -14.14213562373095 14.142135623730951Z\" /><path style=\"vector-effect: non-scaling-stroke; stroke: white; stroke-linejoin: round; fill: #C3BC3F; stroke-width: 2; \" transform=\"scale(1,-1)\" d=\"M 84.85281374238568 -84.85281374238572 A 120.0 120.0 0 0 1 120.0 -8.526512829121202e-14L 20.000000000000007 -1.4210854715202004e-14A 20.000000000000007 20.000000000000007 0 0 0 14.142135623730953 -14.142135623730958Z\" /></svg>"
      ],
      "text/plain": [
       "<svg height=\"400\" viewBox=\"-82.71879819261315 -135.3698398592798 260.2592109685596 222.9414517942787\" width=\"468.62914517832087\" preserveAspectRatio=\"xMidYMid meet\" xmlns=\"http://www.w3.org/2000/svg\" version=\"1.1\"><text x=\"146.33333333333334\" style=\"font-family: Helvetica; text-anchor: start; vector-effect: non-scaling-stroke; font-size: 8.0pt; font-weight: bold; \" transform=\"translate(0 -250.0) rotate(-0.0, 146.33333333333334, 125.0)\" y=\"125.0\">k</text><circle cy=\"110.0\" style=\"vector-effect: non-scaling-stroke; fill: #6388B4; \" r=\"3.0\" transform=\"scale(1,-1)\" cx=\"150.0\" /><text x=\"155.41666666666666\" style=\"font-family: Helvetica; text-anchor: start; vector-effect: non-scaling-stroke; font-size: 7.0pt; \" transform=\"translate(0 -214.0) rotate(-0.0, 155.41666666666666, 107.0)\" y=\"107.0\">key1</text><circle cy=\"96.3046875\" style=\"vector-effect: non-scaling-stroke; fill: #FFAE34; \" r=\"3.0\" transform=\"scale(1,-1)\" cx=\"150.0\" /><text x=\"155.41666666666666\" style=\"font-family: Helvetica; text-anchor: start; vector-effect: non-scaling-stroke; font-size: 7.0pt; \" transform=\"translate(0 -186.609375) rotate(-0.0, 155.41666666666666, 93.3046875)\" y=\"93.3046875\">key2</text><circle cy=\"82.609375\" style=\"vector-effect: non-scaling-stroke; fill: #EF6F6A; \" r=\"3.0\" transform=\"scale(1,-1)\" cx=\"150.0\" /><text x=\"155.41666666666666\" style=\"font-family: Helvetica; text-anchor: start; vector-effect: non-scaling-stroke; font-size: 7.0pt; \" transform=\"translate(0 -159.21875) rotate(-0.0, 155.41666666666666, 79.609375)\" y=\"79.609375\">key3</text><circle cy=\"68.9140625\" style=\"vector-effect: non-scaling-stroke; fill: #8CC2CA; \" r=\"3.0\" transform=\"scale(1,-1)\" cx=\"150.0\" /><text x=\"155.41666666666666\" style=\"font-family: Helvetica; text-anchor: start; vector-effect: non-scaling-stroke; font-size: 7.0pt; \" transform=\"translate(0 -131.828125) rotate(-0.0, 155.41666666666666, 65.9140625)\" y=\"65.9140625\">key4</text><circle cy=\"55.21875\" style=\"vector-effect: non-scaling-stroke; fill: #55AD89; \" r=\"3.0\" transform=\"scale(1,-1)\" cx=\"150.0\" /><text x=\"155.41666666666666\" style=\"font-family: Helvetica; text-anchor: start; vector-effect: non-scaling-stroke; font-size: 7.0pt; \" transform=\"translate(0 -104.4375) rotate(-0.0, 155.41666666666666, 52.21875)\" y=\"52.21875\">key5</text><circle cy=\"41.5234375\" style=\"vector-effect: non-scaling-stroke; fill: #C3BC3F; \" r=\"3.0\" transform=\"scale(1,-1)\" cx=\"150.0\" /><text x=\"155.41666666666666\" style=\"font-family: Helvetica; text-anchor: start; vector-effect: non-scaling-stroke; font-size: 7.0pt; \" transform=\"translate(0 -77.046875) rotate(-0.0, 155.41666666666666, 38.5234375)\" y=\"38.5234375\">key6</text><path style=\"vector-effect: non-scaling-stroke; stroke: white; stroke-linejoin: round; fill: #FFAE34; stroke-width: 2; \" transform=\"scale(1,-1)\" d=\"M 80.0 0.0 A 80.0 80.0 0 0 1 56.568542494923804 56.568542494923804L 14.142135623730951 14.142135623730951A 20.0 20.0 0 0 0 20.0 0.0Z\" /><path style=\"vector-effect: non-scaling-stroke; stroke: white; stroke-linejoin: round; fill: #EF6F6A; stroke-width: 2; \" transform=\"scale(1,-1)\" d=\"M 70.71067811865474 70.71067811865474 A 99.99999999999999 99.99999999999999 0 0 1 -70.71067811865474 70.71067811865477L -14.142135623730951 14.142135623730951A 20.000000000000004 20.000000000000004 0 0 0 14.142135623730955 14.142135623730947Z\" /><path style=\"vector-effect: non-scaling-stroke; stroke: white; stroke-linejoin: round; fill: #8CC2CA; stroke-width: 2; \" transform=\"scale(1,-1)\" d=\"M -56.5685424949238 56.568542494923804 A 80.0 80.0 0 0 1 56.56854249492379 -56.56854249492382L 14.142135623730947 -14.142135623730951A 20.0 20.0 0 0 0 -14.14213562373095 14.142135623730951Z\" /><path style=\"vector-effect: non-scaling-stroke; stroke: white; stroke-linejoin: round; fill: #C3BC3F; stroke-width: 2; \" transform=\"scale(1,-1)\" d=\"M 84.85281374238568 -84.85281374238572 A 120.0 120.0 0 0 1 120.0 -8.526512829121202e-14L 20.000000000000007 -1.4210854715202004e-14A 20.000000000000007 20.000000000000007 0 0 0 14.142135623730953 -14.142135623730958Z\" /></svg>"
      ]
     },
     "execution_count": 5,
     "metadata": {},
     "output_type": "execute_result"
    }
   ],
   "source": [
    "plt = Plot(\n",
    "    figsize=(300,250),\n",
    "    data=df,\n",
    "    encodings=(\n",
    "        color=(field=:k,datatype=:n),\n",
    "        angle = (field = :x,),\n",
    "        r = (field=:y, scale_range=(80,120))\n",
    "    ),\n",
    "    graphic = ∑(i=:all, group_all=true) do row\n",
    "            Pizza(rmajor=row.r,angles=row.angle, colors=row.color,rminor=20, angleinit=π/2)\n",
    "        end\n",
    ")\n",
    "\n",
    "draw(plt, height=400)"
   ]
  },
  {
   "cell_type": "code",
   "execution_count": null,
   "id": "18a0af0f-06a4-489f-90ee-dd6ff53e3735",
   "metadata": {},
   "outputs": [],
   "source": [
    "d = StructArray(x=[1,2],y=[3,4])\n",
    "getcol(d,:s)\n",
    "\n",
    "# propertynames(d)\n",
    "# StructArray(getproperty(d,:y))"
   ]
  },
  {
   "cell_type": "code",
   "execution_count": null,
   "id": "b479df10-7606-42e7-8a2a-aaa47e29ccef",
   "metadata": {},
   "outputs": [],
   "source": [
    "cumsum(df.x)"
   ]
  },
  {
   "cell_type": "code",
   "execution_count": null,
   "id": "af7d9fa2-f424-47f1-bffe-f71638c70f55",
   "metadata": {},
   "outputs": [],
   "source": [
    "draw(Slice(ang=π/3,θ=0) + Slice(ang=π/3,θ=π/3))"
   ]
  },
  {
   "cell_type": "code",
   "execution_count": null,
   "id": "1bbcf7a8-5a76-445c-bab4-89bf25dc3467",
   "metadata": {},
   "outputs": [],
   "source": [
    "df = DataFrame(x=[1, 2, 3, 5, 1, 2], y=[10, 10, 20, 10, 20, 30], c=[\"a\", \"b\", \"a\", \"a\", \"b\", \"a\"],d=rand([0,1],6),e=rand([1,2,3],6),\n",
    "    k=[\"key1\",\"key2\",\"key3\",\"key4\",\"key5\",\"key6\"]\n",
    ")\n",
    "df[!,:acc_x] = cumsum(df.x)\n",
    "\n",
    "plt = Plot(\n",
    "    figsize=(300,250),\n",
    "    data=df,\n",
    "    encodings=(\n",
    "        color=(field=:k,datatype=:n),\n",
    "        angle = (field = :x, datatype=:q, scale_domain=(0,sum(df.x)),scale_range = (0,2π)),\n",
    "        acc = (field = :acc_x,scale_range = (0,π)),\n",
    "        r = (field=:e, scale_range=(80,120))\n",
    "    ),\n",
    "    graphic = ∑() do row\n",
    "        # S(:fill=>row.color)Slice(rmajor=row.r,ang=row.angle,θ=row.angle_acc,rminor=20)\n",
    "        S(:fill=>row.color)Slice(rmajor=100,ang=row.angle,θ=row.acc,rminor=20)\n",
    "        end\n",
    ")\n",
    "\n",
    "draw(plt, height=400)"
   ]
  },
  {
   "cell_type": "markdown",
   "id": "46236e4e-7427-4cbf-85f0-56187d6c4f25",
   "metadata": {},
   "source": [
    "## Radar Plots"
   ]
  },
  {
   "cell_type": "code",
   "execution_count": null,
   "id": "bca613fd-3bef-482a-a93c-06c2c02433ec",
   "metadata": {},
   "outputs": [],
   "source": [
    "Random.seed!(4)\n",
    "df = DataFrame(x=[1, 2, 3, 5, 1, 2], y=[10, 10, 20, 10, 20, 30], c=[\"a\", \"b\", \"a\", \"a\", \"b\", \"a\"],d=rand([0,1],6),e=rand([1,2,3],6),\n",
    "    k=[\"key1\",\"key2\",\"key3\",\"key4\",\"key5\",\"key6\"]\n",
    ")\n",
    "\n",
    "plt = Plot(\n",
    "    figsize=(300,300),\n",
    "    data=df,\n",
    "    config=(\n",
    "        guide=(a_tick_flag=:in,),\n",
    "        frame_style=S(:stroke=>nothing),\n",
    "        yaxis=(axisarrow=NilD(),tickmark=NilD()),\n",
    "        xaxis=(axisarrow=NilD(),tickmark=NilD()),\n",
    "        coordinate=:polar),\n",
    "    encodings=(\n",
    "        x = (field=:x,guide=(ticktexts=\"\",)),\n",
    "        y = (field=:y,),\n",
    "        r = (field=:y,datatype=:q, scale=Linear(domain=(0,maximum(df[!,:y])), codomain=(70,150))),\n",
    "        angle = (field = :k, datatype = :n, scale = Categorical(domain=unique(df.k),codomain=collect(range(0,2π,length=length(unique(df.k))+1))[begin:end-1])),\n",
    "        color=(field=:d,datatype=:n),\n",
    "    ),\n",
    "    graphic = ∑() do row\n",
    "                x = row[:r]*cos(row[:angle])\n",
    "                y = row[:r]*sin(row[:angle])\n",
    "                T(x,y)Circle(r=10)\n",
    "        end\n",
    ");\n",
    "draw(plt,height=400)"
   ]
  },
  {
   "cell_type": "code",
   "execution_count": null,
   "id": "76d1aa11-819f-4940-8ac6-27addeac2878",
   "metadata": {},
   "outputs": [],
   "source": [
    "plt = Plot(\n",
    "    figsize=(300,300),\n",
    "    data=df,\n",
    "    config=(coordinate=:polar,),\n",
    "    encodings=(\n",
    "        r = (field=:y,datatype=:q, scale=Linear(domain=(0,maximum(df[!,:y])+10), codomain=(0,150))),\n",
    "        angle = (field = :k, datatype = :n, scale = Categorical(domain=unique(df.k),codomain=collect(range(0,2π,length=length(unique(df.k))+1))[begin:end-1])),\n",
    "        color=(field=:d,datatype=:n),\n",
    "    ),\n",
    "    graphic = data -> begin\n",
    "            x = data.:r .* cos.(data.:angle)\n",
    "            y = data.:r .* sin.(data.:angle)\n",
    "            S(:stroke=>:steelblue,:fillOpacity=>0.2,:fill=>:steelblue)Polygon(x⊗y) +\n",
    "            mapreduce(pos->T(pos...)S(:fill=>:steelblue)*Circle(r=5),+,zip(x,y))\n",
    "        end\n",
    ");\n",
    "draw(plt,height=500)"
   ]
  },
  {
   "cell_type": "code",
   "execution_count": null,
   "id": "662c9dfd-5a8d-47db-97fa-6d76370ffb7b",
   "metadata": {},
   "outputs": [],
   "source": []
  }
 ],
 "metadata": {
  "kernelspec": {
   "display_name": "Julia 1.10.4",
   "language": "julia",
   "name": "julia-1.10"
  },
  "language_info": {
   "file_extension": ".jl",
   "mimetype": "application/julia",
   "name": "julia",
   "version": "1.10.4"
  }
 },
 "nbformat": 4,
 "nbformat_minor": 5
}
