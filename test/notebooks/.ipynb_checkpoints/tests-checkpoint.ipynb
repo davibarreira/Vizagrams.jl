{
 "cells": [
  {
   "cell_type": "code",
   "execution_count": 1,
   "id": "b7cf4ea3-faa7-46e3-bd4d-f28f92f388b1",
   "metadata": {},
   "outputs": [
    {
     "name": "stderr",
     "output_type": "stream",
     "text": [
      "\u001b[32m\u001b[1m  Activating\u001b[22m\u001b[39m project at `~/Documents/GitHub/CGPlots.jl`\n",
      "\u001b[33m\u001b[1m┌ \u001b[22m\u001b[39m\u001b[33m\u001b[1mWarning: \u001b[22m\u001b[39mThe project dependencies or compat requirements have changed since the manifest was last resolved.\n",
      "\u001b[33m\u001b[1m│ \u001b[22m\u001b[39mIt is recommended to `Pkg.resolve()` or consider `Pkg.update()` if necessary.\n",
      "\u001b[33m\u001b[1m└ \u001b[22m\u001b[39m\u001b[90m@ Pkg.API ~/.julia/juliaup/julia-1.10.3+0.aarch64.apple.darwin14/share/julia/stdlib/v1.10/Pkg/src/API.jl:1807\u001b[39m\n",
      "\u001b[32m\u001b[1mPrecompiling\u001b[22m\u001b[39m project...\n",
      "\u001b[36m\u001b[1m        Info\u001b[22m\u001b[39m Given CGPlots was explicitly requested, output will be shown live \u001b[0K\n",
      "\u001b[0KWARNING: Method definition (::Type{CGPlots.LaTeX})() in module CGPlots at /Users/davibarreira/Documents/GitHub/CGPlots.jl/src/marks/latex.jl:47 overwritten at /Users/davibarreira/Documents/GitHub/CGPlots.jl/src/marks/latex.jl:52.\n",
      "\u001b[0KERROR: Method overwriting is not permitted during Module precompilation. Use `__precompile__(false)` to opt-out of precompilation.\n",
      "\u001b[33m  ? \u001b[39mCGPlots\n",
      "\u001b[33m\u001b[1m┌ \u001b[22m\u001b[39m\u001b[33m\u001b[1mWarning: \u001b[22m\u001b[39mCould not use exact versions of packages in manifest, re-resolving\n",
      "\u001b[33m\u001b[1m└ \u001b[22m\u001b[39m\u001b[90m@ TestEnv ~/.julia/packages/TestEnv/shkbW/src/julia-1.9/activate_set.jl:63\u001b[39m\n",
      "\u001b[32m\u001b[1mPrecompiling\u001b[22m\u001b[39m CGPlots\n",
      "\u001b[36m\u001b[1m        Info\u001b[22m\u001b[39m Given CGPlots was explicitly requested, output will be shown live \u001b[0K\n",
      "\u001b[0KWARNING: Method definition (::Type{CGPlots.LaTeX})() in module CGPlots at /Users/davibarreira/Documents/GitHub/CGPlots.jl/src/marks/latex.jl:47 overwritten at /Users/davibarreira/Documents/GitHub/CGPlots.jl/src/marks/latex.jl:52.\n",
      "\u001b[0KERROR: Method overwriting is not permitted during Module precompilation. Use `__precompile__(false)` to opt-out of precompilation.\n",
      "\u001b[33m  ? \u001b[39mCGPlots\n",
      "\u001b[36m\u001b[1m[ \u001b[22m\u001b[39m\u001b[36m\u001b[1mInfo: \u001b[22m\u001b[39mPrecompiling CGPlots [8c229dad-8b3a-4031-83d6-73545c88426d]\n",
      "WARNING: Method definition (::Type{CGPlots.LaTeX})() in module CGPlots at /Users/davibarreira/Documents/GitHub/CGPlots.jl/src/marks/latex.jl:47 overwritten at /Users/davibarreira/Documents/GitHub/CGPlots.jl/src/marks/latex.jl:52.\n",
      "ERROR: Method overwriting is not permitted during Module precompilation. Use `__precompile__(false)` to opt-out of precompilation.\n",
      "\u001b[36m\u001b[1m[ \u001b[22m\u001b[39m\u001b[36m\u001b[1mInfo: \u001b[22m\u001b[39mSkipping precompilation since __precompile__(false). Importing CGPlots [8c229dad-8b3a-4031-83d6-73545c88426d].\n"
     ]
    }
   ],
   "source": [
    "using Pkg\n",
    "Pkg.activate(\"../../.\")\n",
    "using TestEnv\n",
    "TestEnv.activate()\n",
    "using Revise\n",
    "using CGPlots: compare_trees, compare_structs, compare_primitives\n",
    "using CoordinateTransformations\n",
    "\n",
    "using LaTeXStrings\n",
    "using Test"
   ]
  },
  {
   "cell_type": "code",
   "execution_count": 2,
   "id": "50d4dac0-5a35-475a-951a-7bb1c63b85fd",
   "metadata": {},
   "outputs": [],
   "source": [
    "using Statistics\n",
    "using ColorSchemes\n",
    "using DataFrames"
   ]
  },
  {
   "cell_type": "code",
   "execution_count": 3,
   "id": "c7f780ea-ec0b-4e05-92bc-589b76ae4699",
   "metadata": {},
   "outputs": [
    {
     "name": "stdout",
     "output_type": "stream",
     "text": [
      "\u001b[0m\u001b[1mTest Summary: | \u001b[22m\u001b[32m\u001b[1mPass  \u001b[22m\u001b[39m\u001b[36m\u001b[1mTotal  \u001b[22m\u001b[39m\u001b[0m\u001b[1mTime\u001b[22m\n",
      "Line          | \u001b[32m  13  \u001b[39m\u001b[36m   13  \u001b[39m\u001b[0m0.6s\n",
      "\u001b[0m\u001b[1mTest Summary: | \u001b[22m\u001b[32m\u001b[1mPass  \u001b[22m\u001b[39m\u001b[36m\u001b[1mTotal  \u001b[22m\u001b[39m\u001b[0m\u001b[1mTime\u001b[22m\n",
      "Circle        | \u001b[32m  18  \u001b[39m\u001b[36m   18  \u001b[39m\u001b[0m0.2s\n",
      "\u001b[0m\u001b[1mTest Summary: | \u001b[22m\u001b[32m\u001b[1mPass  \u001b[22m\u001b[39m\u001b[36m\u001b[1mTotal  \u001b[22m\u001b[39m\u001b[0m\u001b[1mTime\u001b[22m\n",
      "Square        | \u001b[32m  23  \u001b[39m\u001b[36m   23  \u001b[39m\u001b[0m0.1s\n",
      "\u001b[0m\u001b[1mTest Summary: | \u001b[22m\u001b[32m\u001b[1mPass  \u001b[22m\u001b[39m\u001b[36m\u001b[1mTotal  \u001b[22m\u001b[39m\u001b[0m\u001b[1mTime\u001b[22m\n",
      "Rectangle     | \u001b[32m  35  \u001b[39m\u001b[36m   35  \u001b[39m\u001b[0m0.1s\n",
      "\u001b[0m\u001b[1mTest Summary: | \u001b[22m\u001b[32m\u001b[1mPass  \u001b[22m\u001b[39m\u001b[36m\u001b[1mTotal  \u001b[22m\u001b[39m\u001b[0m\u001b[1mTime\u001b[22m\n",
      "Bezier Curves | \u001b[32m  13  \u001b[39m\u001b[36m   13  \u001b[39m\u001b[0m0.5s\n",
      "\u001b[0m\u001b[1mTest Summary: | \u001b[22m\u001b[32m\u001b[1mPass  \u001b[22m\u001b[39m\u001b[36m\u001b[1mTotal  \u001b[22m\u001b[39m\u001b[0m\u001b[1mTime\u001b[22m\n",
      "Polygons      | \u001b[32m  18  \u001b[39m\u001b[36m   18  \u001b[39m\u001b[0m0.4s\n",
      "\u001b[0m\u001b[1mTest Summary: | \u001b[22m\u001b[32m\u001b[1mPass  \u001b[22m\u001b[39m\u001b[36m\u001b[1mTotal  \u001b[22m\u001b[39m\u001b[0m\u001b[1mTime\u001b[22m\n",
      "TextGeom      | \u001b[32m  17  \u001b[39m\u001b[36m   17  \u001b[39m\u001b[0m0.0s\n",
      "\u001b[0m\u001b[1mTest Summary: | \u001b[22m\u001b[32m\u001b[1mPass  \u001b[22m\u001b[39m\u001b[36m\u001b[1mTotal  \u001b[22m\u001b[39m\u001b[0m\u001b[1mTime\u001b[22m\n",
      "Slice         | \u001b[32m  15  \u001b[39m\u001b[36m   15  \u001b[39m\u001b[0m0.1s\n",
      "\u001b[0m\u001b[1mTest Summary:        | \u001b[22m\u001b[32m\u001b[1mPass  \u001b[22m\u001b[39m\u001b[36m\u001b[1mTotal  \u001b[22m\u001b[39m\u001b[0m\u001b[1mTime\u001b[22m\n",
      "Graphical Primitives | \u001b[32m   6  \u001b[39m\u001b[36m    6  \u001b[39m\u001b[0m0.1s\n",
      "\u001b[0m\u001b[1mTest Summary: | \u001b[22m\u001b[32m\u001b[1mPass  \u001b[22m\u001b[39m\u001b[36m\u001b[1mTotal  \u001b[22m\u001b[39m\u001b[0m\u001b[1mTime\u001b[22m\n",
      "Envelopes     | \u001b[32m  40  \u001b[39m\u001b[36m   40  \u001b[39m\u001b[0m1.4s\n",
      "\u001b[0m\u001b[1mTest Summary: | \u001b[22m\u001b[32m\u001b[1mPass  \u001b[22m\u001b[39m\u001b[36m\u001b[1mTotal  \u001b[22m\u001b[39m\u001b[0m\u001b[1mTime\u001b[22m\n",
      "Envelopes     | \u001b[32m   6  \u001b[39m\u001b[36m    6  \u001b[39m\u001b[0m0.3s\n",
      "\u001b[0m\u001b[1mTest Summary: | \u001b[22m\u001b[32m\u001b[1mPass  \u001b[22m\u001b[39m\u001b[36m\u001b[1mTotal  \u001b[22m\u001b[39m\u001b[0m\u001b[1mTime\u001b[22m\n",
      "FreeMonad     | \u001b[32m   9  \u001b[39m\u001b[36m    9  \u001b[39m\u001b[0m0.1s\n",
      "\u001b[0m\u001b[1mTest Summary: | \u001b[22m\u001b[32m\u001b[1mPass  \u001b[22m\u001b[39m\u001b[36m\u001b[1mTotal  \u001b[22m\u001b[39m\u001b[0m\u001b[1mTime\u001b[22m\n",
      "Align         | \u001b[32m   8  \u001b[39m\u001b[36m    8  \u001b[39m\u001b[0m0.1s\n",
      "\u001b[0m\u001b[1mTest Summary: | \u001b[22m\u001b[32m\u001b[1mPass  \u001b[22m\u001b[39m\u001b[36m\u001b[1mTotal  \u001b[22m\u001b[39m\u001b[0m\u001b[1mTime\u001b[22m\n",
      "Mark Tree     | \u001b[32m  19  \u001b[39m\u001b[36m   19  \u001b[39m\u001b[0m0.4s\n",
      "\u001b[0m\u001b[1mTest Summary: | \u001b[22m\u001b[32m\u001b[1mPass  \u001b[22m\u001b[39m\u001b[36m\u001b[1mTotal  \u001b[22m\u001b[39m\u001b[0m\u001b[1mTime\u001b[22m\n",
      "Diagram Tree  | \u001b[32m   6  \u001b[39m\u001b[36m    6  \u001b[39m\u001b[0m0.0s\n",
      "\u001b[0m\u001b[1mTest Summary:   | \u001b[22m\u001b[32m\u001b[1mPass  \u001b[22m\u001b[39m\u001b[36m\u001b[1mTotal  \u001b[22m\u001b[39m\u001b[0m\u001b[1mTime\u001b[22m\n",
      "Tree Operations | \u001b[32m  21  \u001b[39m\u001b[36m   21  \u001b[39m\u001b[0m0.2s\n",
      "\u001b[0m\u001b[1mTest Summary:    | \u001b[22m\u001b[32m\u001b[1mPass  \u001b[22m\u001b[39m\u001b[36m\u001b[1mTotal  \u001b[22m\u001b[39m\u001b[0m\u001b[1m Time\u001b[22m\n",
      "Generic 2D Plots | \u001b[32m  29  \u001b[39m\u001b[36m   29  \u001b[39m\u001b[0m10.1s\n"
     ]
    }
   ],
   "source": [
    "include(\"../primitives/test_line.jl\")\n",
    "include(\"../primitives/test_circle.jl\")\n",
    "include(\"../primitives/test_square.jl\")\n",
    "include(\"../primitives/test_rectangle.jl\")\n",
    "include(\"../primitives/test_bezier.jl\")\n",
    "include(\"../primitives/test_polygon.jl\");\n",
    "include(\"../primitives/test_text.jl\");\n",
    "include(\"../primitives/test_slice.jl\");\n",
    "include(\"../primitives/test_graphical_primitives.jl\")\n",
    "include(\"../primitives/test_envelopes.jl\");\n",
    "\n",
    "include(\"../trees/test_envelopes.jl\");\n",
    "include(\"../trees/test_freemonad.jl\");\n",
    "include(\"../trees/test_align.jl\");\n",
    "include(\"../trees/test_mark_tree.jl\");\n",
    "include(\"../trees/test_diagram_tree.jl\");\n",
    "include(\"../trees/test_operations.jl\");\n",
    "\n",
    "include(\"../visual/plots.jl\");"
   ]
  },
  {
   "cell_type": "code",
   "execution_count": 130,
   "id": "cd003a8d-f340-4ec0-b67b-167a78b842f0",
   "metadata": {},
   "outputs": [
    {
     "data": {
      "text/html": [
       "<svg height=\"310\" viewBox=\"0 0 612.4352307960785 310\" width=\"612.4352307960785\" xmlns=\"http://www.w3.org/2000/svg\" version=\"1.1\"><text x=\"2.1608314552910883\" style=\"font-family: NewComputerModern Math; text-anchor: start; font-size: 109.02407211682191pt; font-style: ; font-weight: ; \" transform=\"rotate(-0.0, 2.1608314552910883, 188.74601654940324)\" y=\"188.74601654940324\">∑</text><text x=\"4.450333892779838\" style=\"font-family: NewComputerModern; text-anchor: start; font-size: 49.0608324525698pt; font-style: italic; font-weight: ; \" transform=\"rotate(-0.0, 4.450333892779838, 290.53088730402726)\" y=\"290.53088730402726\">c</text><text x=\"34.54097834288325\" style=\"font-family: NewComputerModern; text-anchor: start; font-size: 49.060832452569684pt; font-style: italic; font-weight: ; \" transform=\"rotate(-0.0, 34.54097834288325, 290.53088730402726)\" y=\"290.53088730402726\">o</text><text x=\"67.96775543837282\" style=\"font-family: NewComputerModern; text-anchor: start; font-size: 49.060832452569684pt; font-style: italic; font-weight: ; \" transform=\"rotate(-0.0, 67.96775543837282, 290.53088730402726)\" y=\"290.53088730402726\">a</text><text x=\"101.39453838236935\" style=\"font-family: NewComputerModern; text-anchor: start; font-size: 49.06083245256974pt; font-style: italic; font-weight: ; \" transform=\"rotate(-0.0, 101.39453838236935, 290.53088730402726)\" y=\"290.53088730402726\">l</text><text x=\"118.14063860441235\" style=\"font-family: NewComputerModern; text-anchor: start; font-size: 49.0608324525698pt; font-style: italic; font-weight: ; \" transform=\"rotate(-0.0, 118.14063860441235, 290.53088730402726)\" y=\"290.53088730402726\">g</text><text x=\"36.6015356134522\" style=\"font-family: NewComputerModern; text-anchor: start; font-size: 49.0608324525698pt; font-style: italic; font-weight: ; \" transform=\"rotate(-0.0, 36.6015356134522, 51.92080916199552)\" y=\"51.92080916199552\">a</text><text x=\"70.02831465844395\" style=\"font-family: NewComputerModern; text-anchor: start; font-size: 49.060832452569684pt; font-style: italic; font-weight: ; \" transform=\"rotate(-0.0, 70.02831465844395, 51.92080916199552)\" y=\"51.92080916199552\">l</text><text x=\"86.7744109814825\" style=\"font-family: NewComputerModern; text-anchor: start; font-size: 49.0608324525698pt; font-style: italic; font-weight: ; \" transform=\"rotate(-0.0, 86.7744109814825, 51.92080916199552)\" y=\"51.92080916199552\">g</text><text x=\"159.5915922158226\" style=\"font-family: NewComputerModern; text-anchor: start; font-size: 81.76805408761635pt; font-style: italic; font-weight: ; \" transform=\"rotate(-0.0, 159.5915922158226, 177.84360933772106)\" y=\"177.84360933772106\">e</text><text x=\"209.74266954849895\" style=\"font-family: NewComputerModern; text-anchor: start; font-size: 81.7680540876164pt; font-style: italic; font-weight: ; \" transform=\"rotate(-0.0, 209.74266954849895, 177.84360933772106)\" y=\"177.84360933772106\">x</text><text x=\"260.32983755507587\" style=\"font-family: NewComputerModern; text-anchor: start; font-size: 81.76805408761635pt; font-style: italic; font-weight: ; \" transform=\"rotate(-0.0, 260.32983755507587, 177.84360933772106)\" y=\"177.84360933772106\">p</text><text x=\"316.0411294650545\" style=\"font-family: NewComputerModern; text-anchor: start; font-size: 81.76805408761635pt; font-style: italic; font-weight: ; \" transform=\"rotate(-0.0, 316.0411294650545, 177.84360933772106)\" y=\"177.84360933772106\">r</text><text x=\"383.8540951605458\" style=\"font-family: NewComputerModern Math; text-anchor: start; font-size: 81.7680540876164pt; font-style: ; font-weight: ; \" transform=\"rotate(-0.0, 383.8540951605458, 177.84360933772106)\" y=\"177.84360933772106\">&#43;</text><polygon points=\"495.93086405382905 160.4815258401205 596.0040569814921 160.4815258401205 596.0040569814921 156.39312313573967 495.93086405382905 156.39312313573967 \" style=\"\" /><text x=\"515.1681595435621\" style=\"font-family: NewComputerModern; text-anchor: start; font-size: 81.7680540876164pt; font-style: italic; font-weight: ; \" transform=\"rotate(-0.0, 515.1681595435621, 131.6991719319909)\" y=\"131.6991719319909\">x</text><text x=\"502.2270040626155\" style=\"font-family: NewComputerModern; text-anchor: start; font-size: 81.76805408761635pt; font-style: italic; font-weight: ; \" transform=\"rotate(-0.0, 502.2270040626155, 270.4432023284232)\" y=\"270.4432023284232\">y</text><text x=\"558.483422311652\" style=\"font-family: NewComputerModern Math; text-anchor: start; font-size: 49.060832452569684pt; font-style: ; font-weight: ; \" transform=\"rotate(-0.0, 558.483422311652, 223.4538278699137)\" y=\"223.4538278699137\">2</text><polygon points=\"8.266179682284985 303.94084903217737 607.4352307960785 303.94084903217737 607.4352307960785 7.002890098210003 8.266179682284985 7.002890098210003 \" style=\"fill-opacity: 0; \" /></svg>"
      ],
      "text/plain": [
       "<svg height=\"310\" viewBox=\"0 0 612.4352307960785 310\" width=\"612.4352307960785\" xmlns=\"http://www.w3.org/2000/svg\" version=\"1.1\"><text x=\"2.1608314552910883\" style=\"font-family: NewComputerModern Math; text-anchor: start; font-size: 109.02407211682191pt; font-style: ; font-weight: ; \" transform=\"rotate(-0.0, 2.1608314552910883, 188.74601654940324)\" y=\"188.74601654940324\">∑</text><text x=\"4.450333892779838\" style=\"font-family: NewComputerModern; text-anchor: start; font-size: 49.0608324525698pt; font-style: italic; font-weight: ; \" transform=\"rotate(-0.0, 4.450333892779838, 290.53088730402726)\" y=\"290.53088730402726\">c</text><text x=\"34.54097834288325\" style=\"font-family: NewComputerModern; text-anchor: start; font-size: 49.060832452569684pt; font-style: italic; font-weight: ; \" transform=\"rotate(-0.0, 34.54097834288325, 290.53088730402726)\" y=\"290.53088730402726\">o</text><text x=\"67.96775543837282\" style=\"font-family: NewComputerModern; text-anchor: start; font-size: 49.060832452569684pt; font-style: italic; font-weight: ; \" transform=\"rotate(-0.0, 67.96775543837282, 290.53088730402726)\" y=\"290.53088730402726\">a</text><text x=\"101.39453838236935\" style=\"font-family: NewComputerModern; text-anchor: start; font-size: 49.06083245256974pt; font-style: italic; font-weight: ; \" transform=\"rotate(-0.0, 101.39453838236935, 290.53088730402726)\" y=\"290.53088730402726\">l</text><text x=\"118.14063860441235\" style=\"font-family: NewComputerModern; text-anchor: start; font-size: 49.0608324525698pt; font-style: italic; font-weight: ; \" transform=\"rotate(-0.0, 118.14063860441235, 290.53088730402726)\" y=\"290.53088730402726\">g</text><text x=\"36.6015356134522\" style=\"font-family: NewComputerModern; text-anchor: start; font-size: 49.0608324525698pt; font-style: italic; font-weight: ; \" transform=\"rotate(-0.0, 36.6015356134522, 51.92080916199552)\" y=\"51.92080916199552\">a</text><text x=\"70.02831465844395\" style=\"font-family: NewComputerModern; text-anchor: start; font-size: 49.060832452569684pt; font-style: italic; font-weight: ; \" transform=\"rotate(-0.0, 70.02831465844395, 51.92080916199552)\" y=\"51.92080916199552\">l</text><text x=\"86.7744109814825\" style=\"font-family: NewComputerModern; text-anchor: start; font-size: 49.0608324525698pt; font-style: italic; font-weight: ; \" transform=\"rotate(-0.0, 86.7744109814825, 51.92080916199552)\" y=\"51.92080916199552\">g</text><text x=\"159.5915922158226\" style=\"font-family: NewComputerModern; text-anchor: start; font-size: 81.76805408761635pt; font-style: italic; font-weight: ; \" transform=\"rotate(-0.0, 159.5915922158226, 177.84360933772106)\" y=\"177.84360933772106\">e</text><text x=\"209.74266954849895\" style=\"font-family: NewComputerModern; text-anchor: start; font-size: 81.7680540876164pt; font-style: italic; font-weight: ; \" transform=\"rotate(-0.0, 209.74266954849895, 177.84360933772106)\" y=\"177.84360933772106\">x</text><text x=\"260.32983755507587\" style=\"font-family: NewComputerModern; text-anchor: start; font-size: 81.76805408761635pt; font-style: italic; font-weight: ; \" transform=\"rotate(-0.0, 260.32983755507587, 177.84360933772106)\" y=\"177.84360933772106\">p</text><text x=\"316.0411294650545\" style=\"font-family: NewComputerModern; text-anchor: start; font-size: 81.76805408761635pt; font-style: italic; font-weight: ; \" transform=\"rotate(-0.0, 316.0411294650545, 177.84360933772106)\" y=\"177.84360933772106\">r</text><text x=\"383.8540951605458\" style=\"font-family: NewComputerModern Math; text-anchor: start; font-size: 81.7680540876164pt; font-style: ; font-weight: ; \" transform=\"rotate(-0.0, 383.8540951605458, 177.84360933772106)\" y=\"177.84360933772106\">&#43;</text><polygon points=\"495.93086405382905 160.4815258401205 596.0040569814921 160.4815258401205 596.0040569814921 156.39312313573967 495.93086405382905 156.39312313573967 \" style=\"\" /><text x=\"515.1681595435621\" style=\"font-family: NewComputerModern; text-anchor: start; font-size: 81.7680540876164pt; font-style: italic; font-weight: ; \" transform=\"rotate(-0.0, 515.1681595435621, 131.6991719319909)\" y=\"131.6991719319909\">x</text><text x=\"502.2270040626155\" style=\"font-family: NewComputerModern; text-anchor: start; font-size: 81.76805408761635pt; font-style: italic; font-weight: ; \" transform=\"rotate(-0.0, 502.2270040626155, 270.4432023284232)\" y=\"270.4432023284232\">y</text><text x=\"558.483422311652\" style=\"font-family: NewComputerModern Math; text-anchor: start; font-size: 49.060832452569684pt; font-style: ; font-weight: ; \" transform=\"rotate(-0.0, 558.483422311652, 223.4538278699137)\" y=\"223.4538278699137\">2</text><polygon points=\"8.266179682284985 303.94084903217737 607.4352307960785 303.94084903217737 607.4352307960785 7.002890098210003 8.266179682284985 7.002890098210003 \" style=\"fill-opacity: 0; \" /></svg>"
      ]
     },
     "execution_count": 130,
     "metadata": {},
     "output_type": "execute_result"
    }
   ],
   "source": [
    "l = LaTeX(text=L\"\\sum^{alg}_{coalg} expr\",anchor=:cw)\n",
    "l = LaTeX(text=L\"\\sum^{alg}_{coalg} expr\",anchor=:n)\n",
    "l = LaTeX(text=L\"\\sum^{alg}_{coalg} expr\",anchor=:ne)\n",
    "l = LaTeX(text=L\"\\sum^{alg}_{coalg} expr\",anchor=:nw)\n",
    "l = LaTeX(text=L\"\\sum^{alg}_{coalg} expr\",anchor=:s)\n",
    "l = LaTeX(text=L\"\\sum^{alg}_{coalg} expr\",anchor=:se)\n",
    "l = LaTeX(text=L\"\\sum^{alg}_{coalg} expr + \\frac{x}{y^2}\",anchor=:sw)\n",
    "# drawsvg(l + rectboundingbox(l)+Circle())\n",
    "drawsvg(l)"
   ]
  },
  {
   "cell_type": "code",
   "execution_count": 126,
   "id": "e7cc7d82-7c99-4f14-8ee7-15efd847806f",
   "metadata": {},
   "outputs": [
    {
     "data": {
      "text/html": [
       "<svg height=\"310\" viewBox=\"0 0 873.4276113133575 310\" width=\"873.4276113133575\" xmlns=\"http://www.w3.org/2000/svg\" version=\"1.1\"><text x=\"26.50658078969476\" style=\"font-family: Helvetica; text-anchor: start; font-size: 215.0658078969476pt; \" transform=\"rotate(-0.0, 26.50658078969476, 241.57238868664243)\" y=\"241.57238868664243\">sumgq</text><polygon points=\"35.747689722766665 305.0 868.4276113133576 305.0 868.4276113133576 87.69392327079254 35.747689722766665 87.69392327079254 \" style=\"stroke: blue; fill-opacity: 0; \" /><circle cy=\"26.506580789694794\" style=\"\" r=\"21.506580789694763\" cx=\"26.506580789694763\" /></svg>"
      ],
      "text/plain": [
       "<svg height=\"310\" viewBox=\"0 0 873.4276113133575 310\" width=\"873.4276113133575\" xmlns=\"http://www.w3.org/2000/svg\" version=\"1.1\"><text x=\"26.50658078969476\" style=\"font-family: Helvetica; text-anchor: start; font-size: 215.0658078969476pt; \" transform=\"rotate(-0.0, 26.50658078969476, 241.57238868664243)\" y=\"241.57238868664243\">sumgq</text><polygon points=\"35.747689722766665 305.0 868.4276113133576 305.0 868.4276113133576 87.69392327079254 35.747689722766665 87.69392327079254 \" style=\"stroke: blue; fill-opacity: 0; \" /><circle cy=\"26.506580789694794\" style=\"\" r=\"21.506580789694763\" cx=\"26.506580789694763\" /></svg>"
      ]
     },
     "execution_count": 126,
     "metadata": {},
     "output_type": "execute_result"
    }
   ],
   "source": [
    "l = TextMark(text=\"sumgq\",anchor=:ne)\n",
    "drawsvg(l + rectboundingbox(l)+Circle())"
   ]
  },
  {
   "cell_type": "code",
   "execution_count": 41,
   "id": "d989bdaf-789d-4732-a09e-7a22b577926e",
   "metadata": {},
   "outputs": [
    {
     "data": {
      "text/plain": [
       "true"
      ]
     },
     "execution_count": 41,
     "metadata": {},
     "output_type": "execute_result"
    }
   ],
   "source": [
    "d = Circle() + Circle()\n",
    "\n",
    "ζ(mlift(d)) == d\n",
    "\n",
    "fmap(x->0,d) == FreeComp(Pure(0),Pure(0))\n",
    "\n",
    "fmap(x->Square(),mlift(Prim(Circle())))\n",
    "\n",
    "compare_primitives(fmap(x->Square(),mlift(Prim(Circle())))._1, Prim(Square()))"
   ]
  },
  {
   "cell_type": "code",
   "execution_count": null,
   "id": "2f3898fb-9077-47b4-8fdd-12ca6d32524e",
   "metadata": {},
   "outputs": [],
   "source": []
  }
 ],
 "metadata": {
  "kernelspec": {
   "display_name": "Julia 1.10.3",
   "language": "julia",
   "name": "julia-1.10"
  },
  "language_info": {
   "file_extension": ".jl",
   "mimetype": "application/julia",
   "name": "julia",
   "version": "1.10.3"
  }
 },
 "nbformat": 4,
 "nbformat_minor": 5
}
