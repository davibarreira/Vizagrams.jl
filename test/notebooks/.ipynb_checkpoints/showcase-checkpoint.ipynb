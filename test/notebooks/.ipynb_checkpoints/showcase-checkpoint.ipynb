{
 "cells": [
  {
   "cell_type": "code",
   "execution_count": 2,
   "id": "a9700042-40ae-46fd-90f1-85dd6dd1fab0",
   "metadata": {},
   "outputs": [
    {
     "name": "stderr",
     "output_type": "stream",
     "text": [
      "\u001b[32m\u001b[1m  Activating\u001b[22m\u001b[39m project at `~/Documents/GitHub/CGPlots.jl`\n",
      "\u001b[33m\u001b[1m┌ \u001b[22m\u001b[39m\u001b[33m\u001b[1mWarning: \u001b[22m\u001b[39mThe project dependencies or compat requirements have changed since the manifest was last resolved.\n",
      "\u001b[33m\u001b[1m│ \u001b[22m\u001b[39mIt is recommended to `Pkg.resolve()` or consider `Pkg.update()` if necessary.\n",
      "\u001b[33m\u001b[1m└ \u001b[22m\u001b[39m\u001b[90m@ Pkg.API ~/.julia/juliaup/julia-1.10.3+0.aarch64.apple.darwin14/share/julia/stdlib/v1.10/Pkg/src/API.jl:1807\u001b[39m\n",
      "\u001b[33m\u001b[1m┌ \u001b[22m\u001b[39m\u001b[33m\u001b[1mWarning: \u001b[22m\u001b[39mCould not use exact versions of packages in manifest, re-resolving\n",
      "\u001b[33m\u001b[1m└ \u001b[22m\u001b[39m\u001b[90m@ TestEnv ~/.julia/packages/TestEnv/shkbW/src/julia-1.9/activate_set.jl:63\u001b[39m\n"
     ]
    }
   ],
   "source": [
    "using Pkg\n",
    "Pkg.activate(\"../../.\")\n",
    "using TestEnv\n",
    "TestEnv.activate()\n",
    "using Revise\n",
    "using CGPlots\n",
    "using LaTeXStrings"
   ]
  },
  {
   "cell_type": "code",
   "execution_count": 4,
   "id": "0665c672-9fc7-4aeb-9c7f-02ae43b5b434",
   "metadata": {},
   "outputs": [
    {
     "data": {
      "text/html": [
       "<svg height=\"310\" viewBox=\"0 0 310.0 310\" width=\"310.0\" xmlns=\"http://www.w3.org/2000/svg\" version=\"1.1\"><circle cy=\"155.0\" style=\"\" r=\"150.0\" cx=\"155.0\" /></svg>"
      ],
      "text/plain": [
       "<svg height=\"310\" viewBox=\"0 0 310.0 310\" width=\"310.0\" xmlns=\"http://www.w3.org/2000/svg\" version=\"1.1\"><circle cy=\"155.0\" style=\"\" r=\"150.0\" cx=\"155.0\" /></svg>"
      ]
     },
     "execution_count": 4,
     "metadata": {},
     "output_type": "execute_result"
    }
   ],
   "source": [
    "drawsvg(Circle())"
   ]
  }
 ],
 "metadata": {
  "kernelspec": {
   "display_name": "Julia 1.10.3",
   "language": "julia",
   "name": "julia-1.10"
  },
  "language_info": {
   "file_extension": ".jl",
   "mimetype": "application/julia",
   "name": "julia",
   "version": "1.10.3"
  }
 },
 "nbformat": 4,
 "nbformat_minor": 5
}
